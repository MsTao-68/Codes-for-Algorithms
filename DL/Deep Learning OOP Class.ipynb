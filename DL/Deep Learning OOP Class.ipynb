{
 "cells": [
  {
   "cell_type": "code",
   "execution_count": 1,
   "id": "756a4f79-1010-444f-a7f0-7f10f6954709",
   "metadata": {},
   "outputs": [],
   "source": [
    "# !usr/bin/python\n",
    "# -*- encoding: utf-8 -*-\n",
    "# Project: OOP Class\n",
    "# Author: Tracy Tao\n",
    "# Date: 2022/04/10\n",
    "import torch\n",
    "from torch import nn\n",
    "from torch.nn import functional as F"
   ]
  },
  {
   "attachments": {
    "ed7322b3-db7d-4c6f-b147-86368fe38b7e.png": {
     "image/png": "[encoded data removed]"
    }
   },
   "cell_type": "markdown",
   "id": "3e7caf9d-eb13-4a81-9ccb-3dda8a4184a6",
   "metadata": {},
   "source": [
    "- https://pytorch-cn.readthedocs.io/zh/latest/package_references/functional/\n",
    "![image.png](attachment:ed7322b3-db7d-4c6f-b147-86368fe38b7e.png)"
   ]
  },
  {
   "cell_type": "code",
   "execution_count": 2,
   "id": "17ba17cb-c9ea-4b19-88be-d916926609b8",
   "metadata": {},
   "outputs": [],
   "source": [
    "class MLP(nn.Module):\n",
    "    def __init__(self):\n",
    "        '''调用MLP的父类Module的构造函数初始化'''\n",
    "        super().__init__()\n",
    "        self.hidden = nn.Linear(20, 256)  # 隐藏层\n",
    "        self.out = nn.Linear(256, 10)  # 输出层\n",
    "    def forward(self, X):\n",
    "        '''前向传播'''\n",
    "        return self.out(F.relu(self.hidden(X)))"
   ]
  },
  {
   "cell_type": "code",
   "execution_count": 4,
   "id": "2657a477-56a5-4451-ac58-8be54c9476b0",
   "metadata": {},
   "outputs": [
    {
     "data": {
      "text/plain": [
       "tensor([[-0.2190,  0.2769, -0.1490,  0.0618, -0.0041, -0.2315, -0.0467,  0.0280,\n",
       "          0.0366, -0.0446],\n",
       "        [ 0.0117,  0.0546, -0.1186,  0.0133,  0.0046, -0.1432, -0.0349,  0.0288,\n",
       "          0.0730, -0.0326]], grad_fn=<AddmmBackward0>)"
      ]
     },
     "execution_count": 4,
     "metadata": {},
     "output_type": "execute_result"
    }
   ],
   "source": [
    "net = MLP()\n",
    "X = torch.rand(2, 20)\n",
    "net(X)"
   ]
  },
  {
   "cell_type": "code",
   "execution_count": 5,
   "id": "e7d13330-2f34-4170-872c-a34368fafe36",
   "metadata": {},
   "outputs": [],
   "source": [
    "class MySequential(nn.Module):\n",
    "    '''定义顺序块'''\n",
    "    def __init__(self, *args):\n",
    "        '''调用MLP的父类Module的构造函数初始化'''\n",
    "        super().__init__()\n",
    "        for idx, module in enumerate(args):\n",
    "            self._modules[str(idx)] = module\n",
    "    def forward(self, X):\n",
    "        '''前向传播'''\n",
    "        for block in self._modules.values(): # 初始化中是字典\n",
    "            X = block(X) # 用当前层的输出值来更新X作为下一层输入\n",
    "        return X "
   ]
  },
  {
   "cell_type": "code",
   "execution_count": 6,
   "id": "7e069dde-feee-4789-a966-e7107009d06f",
   "metadata": {},
   "outputs": [
    {
     "data": {
      "text/plain": [
       "tensor([[ 0.1405, -0.1520, -0.5721,  0.1640,  0.3416, -0.1439, -0.0368,  0.0782,\n",
       "         -0.1777,  0.1768],\n",
       "        [ 0.2180, -0.2000, -0.5606,  0.1681,  0.3511, -0.1550, -0.0768,  0.1655,\n",
       "         -0.2087,  0.2319]], grad_fn=<AddmmBackward0>)"
      ]
     },
     "execution_count": 6,
     "metadata": {},
     "output_type": "execute_result"
    }
   ],
   "source": [
    "net = MySequential(nn.Linear(20, 256), nn.ReLU(), nn.Linear(256, 10))\n",
    "net(X)"
   ]
  },
  {
   "cell_type": "code",
   "execution_count": 8,
   "id": "6badfe5c-dc48-43d1-ac04-72cd9c5ba27f",
   "metadata": {},
   "outputs": [],
   "source": [
    "class FixedHiddenMLP(nn.Module):\n",
    "    '''常数参数MLP'''\n",
    "    def __init__(self):\n",
    "        '''调用MLP的父类Module的构造函数初始化'''\n",
    "        super().__init__()\n",
    "        self.rand_weight = torch.rand((20,20), requires_grad = False) # 随机生成常值权重参数\n",
    "        self.linear = nn.Linear(20,20)\n",
    "        \n",
    "    def forward(self,X):\n",
    "        '''前向传播'''\n",
    "        X = self.linear(X) # 全连接层一\n",
    "        X = F.relu(torch.mm(X, self.rand_weight) + 1 )\n",
    "        # torch.nn.functional.relu(input, inplace=False)\n",
    "        # torch.mm()是矩阵正常的矩阵相乘\n",
    "        X = self.linear(X) # 全连接层e二\n",
    "        while X.abs().sum() >1: # L1范数\n",
    "            X /= 2\n",
    "        return X.sum()"
   ]
  },
  {
   "cell_type": "code",
   "execution_count": 9,
   "id": "cce53427-11f1-43eb-8e18-584e7ec3b11b",
   "metadata": {},
   "outputs": [
    {
     "data": {
      "text/plain": [
       "tensor(0.3033, grad_fn=<SumBackward0>)"
      ]
     },
     "execution_count": 9,
     "metadata": {},
     "output_type": "execute_result"
    }
   ],
   "source": [
    "net = FixedHiddenMLP()\n",
    "net(X)"
   ]
  },
  {
   "cell_type": "code",
   "execution_count": 11,
   "id": "d6b4fd7f-ab89-4635-a6c5-99978c3f220c",
   "metadata": {},
   "outputs": [],
   "source": [
    "class NestMLP(nn.Module):\n",
    "    '''方法嵌套块'''\n",
    "    def __init__(self):\n",
    "        '''继承父类模块初始化'''\n",
    "        super().__init__()\n",
    "        self.net = nn.Sequential(nn.Linear(20, 64),\n",
    "                                 nn.ReLU(),\n",
    "                                 nn.Linear(64, 32),\n",
    "                                 nn.ReLU()) # 定义模型，顺序类\n",
    "        self.linear = nn.Linear(32, 16)\n",
    "    \n",
    "    def forward(self, X):\n",
    "        '''前向传播算法'''\n",
    "        return self.linear(self.net(X))"
   ]
  },
  {
   "cell_type": "code",
   "execution_count": 12,
   "id": "e18570b8-16e8-46ab-9a04-3ab43d52129a",
   "metadata": {},
   "outputs": [
    {
     "data": {
      "text/plain": [
       "tensor(-0.1814, grad_fn=<SumBackward0>)"
      ]
     },
     "execution_count": 12,
     "metadata": {},
     "output_type": "execute_result"
    }
   ],
   "source": [
    "net = nn.Sequential(NestMLP(), nn.Linear(16, 20), FixedHiddenMLP())\n",
    "net(X)"
   ]
  },
  {
   "cell_type": "code",
   "execution_count": 13,
   "id": "1d3358e1-16a3-443f-9552-4705f1e1a759",
   "metadata": {},
   "outputs": [
    {
     "data": {
      "text/plain": [
       "OrderedDict([('linear.weight',\n",
       "              tensor([[-0.0694,  0.1801,  0.0143, -0.0142,  0.0921,  0.0637, -0.1149, -0.1637,\n",
       "                        0.0215,  0.0892, -0.1626, -0.0396, -0.2151, -0.1543,  0.0844,  0.2212,\n",
       "                        0.0413, -0.2141, -0.0031, -0.0534],\n",
       "                      [-0.0857,  0.0774, -0.1841,  0.0768,  0.1237,  0.1554,  0.1600,  0.0454,\n",
       "                       -0.1696,  0.0457, -0.1738, -0.2005, -0.1132, -0.0144, -0.0142, -0.0417,\n",
       "                       -0.1029,  0.0064, -0.2054,  0.1975],\n",
       "                      [ 0.1823,  0.1541, -0.0014, -0.1169, -0.0122, -0.0222,  0.0012,  0.1228,\n",
       "                        0.1541,  0.1437, -0.0548, -0.0285, -0.1976,  0.0855, -0.1904,  0.0280,\n",
       "                       -0.1639,  0.0759, -0.0132,  0.0460],\n",
       "                      [ 0.1206,  0.0992,  0.1849, -0.0103,  0.0444,  0.1876,  0.0181,  0.1659,\n",
       "                       -0.1116, -0.1882, -0.0468, -0.1412, -0.0109, -0.1403, -0.1318, -0.2202,\n",
       "                        0.2087,  0.0048,  0.1397, -0.2040],\n",
       "                      [ 0.0570, -0.2043, -0.1508,  0.0074, -0.0930,  0.0330,  0.0551, -0.1801,\n",
       "                        0.1757, -0.0233, -0.1591, -0.1461, -0.0891, -0.1864, -0.1878,  0.0075,\n",
       "                        0.0198, -0.0302,  0.1695, -0.0304],\n",
       "                      [ 0.0004,  0.0620, -0.0657, -0.0998,  0.1977,  0.1867,  0.1876, -0.0949,\n",
       "                        0.2070, -0.2156,  0.0736, -0.1134,  0.1783, -0.1873,  0.1532,  0.0017,\n",
       "                        0.0411,  0.0881, -0.0335,  0.1599],\n",
       "                      [-0.0200,  0.0246, -0.1909,  0.2158, -0.1522,  0.1568,  0.0643,  0.1811,\n",
       "                       -0.1133,  0.0030,  0.1851, -0.1798, -0.1935,  0.0195, -0.1096,  0.1691,\n",
       "                       -0.1648,  0.0871,  0.0198, -0.0083],\n",
       "                      [-0.1568,  0.0194, -0.0128,  0.1145,  0.0300, -0.1142, -0.0200, -0.2230,\n",
       "                        0.0230, -0.1706, -0.0842,  0.0042,  0.0650,  0.1546,  0.1932,  0.1272,\n",
       "                       -0.0703,  0.1306,  0.0212, -0.1753],\n",
       "                      [-0.0266,  0.1672,  0.2199,  0.1454,  0.1691, -0.0685,  0.2123, -0.0079,\n",
       "                       -0.2223,  0.1637, -0.2030, -0.0422, -0.1975,  0.1634,  0.1056, -0.0116,\n",
       "                       -0.1895,  0.0301,  0.0100, -0.1308],\n",
       "                      [-0.0600,  0.1187,  0.0775,  0.0671,  0.1123, -0.1031, -0.1411, -0.0404,\n",
       "                        0.1958, -0.1255,  0.0829, -0.1436, -0.1171, -0.0916, -0.1841, -0.0200,\n",
       "                        0.1311, -0.0486,  0.1549,  0.1637],\n",
       "                      [ 0.0160, -0.0447, -0.2164,  0.1196, -0.0987, -0.0415, -0.0153,  0.0039,\n",
       "                       -0.1845, -0.0525,  0.1923, -0.1609,  0.1906,  0.1625, -0.0810, -0.1459,\n",
       "                       -0.0986, -0.0841,  0.1909, -0.0659],\n",
       "                      [ 0.1040, -0.1822,  0.0223, -0.1772, -0.0036,  0.1857,  0.1779,  0.0692,\n",
       "                       -0.1135,  0.0375, -0.0927, -0.1538,  0.2207,  0.2001,  0.1399, -0.1776,\n",
       "                       -0.0569,  0.0828, -0.1579, -0.2116],\n",
       "                      [ 0.0102,  0.2211,  0.1603, -0.0520,  0.0515,  0.1860,  0.1313,  0.1470,\n",
       "                       -0.0282, -0.0205,  0.0857, -0.1231, -0.2194,  0.0591,  0.1120, -0.0790,\n",
       "                       -0.0275, -0.0841, -0.0543, -0.0935],\n",
       "                      [ 0.0732, -0.0958,  0.1488,  0.0148,  0.0674, -0.0313, -0.2110, -0.0771,\n",
       "                        0.0525, -0.1660,  0.0874, -0.0852, -0.1002, -0.1949,  0.1144, -0.1743,\n",
       "                        0.0540, -0.0025, -0.2151,  0.2211],\n",
       "                      [ 0.1807,  0.0052,  0.0938,  0.2058, -0.0096,  0.1623, -0.0634,  0.1164,\n",
       "                       -0.2234,  0.0405, -0.1841,  0.1745, -0.0517,  0.1242,  0.1330, -0.2130,\n",
       "                       -0.0987,  0.1023, -0.2175,  0.2233],\n",
       "                      [ 0.1434,  0.1393,  0.0501,  0.1256, -0.0751, -0.0439, -0.2159,  0.0639,\n",
       "                        0.1181, -0.1683, -0.0135,  0.2092, -0.0280, -0.1273,  0.1004, -0.1273,\n",
       "                        0.1530,  0.0275,  0.0491, -0.0733],\n",
       "                      [-0.1819,  0.1577,  0.2067,  0.1166,  0.0746,  0.0151,  0.1842, -0.1581,\n",
       "                       -0.0194, -0.0419, -0.1565,  0.0958, -0.0932, -0.1689, -0.1456,  0.1190,\n",
       "                       -0.2033,  0.0464,  0.0781, -0.0755],\n",
       "                      [-0.1347, -0.0241, -0.1082, -0.0680,  0.2087,  0.0121, -0.0895, -0.1445,\n",
       "                       -0.1943, -0.0671, -0.2011, -0.1880,  0.0422, -0.2112, -0.0450, -0.1462,\n",
       "                       -0.1099, -0.0405, -0.0776, -0.0564],\n",
       "                      [ 0.0166,  0.1168,  0.1980,  0.0997,  0.0275,  0.0135, -0.0920, -0.0918,\n",
       "                       -0.0724, -0.0347,  0.1911,  0.1968, -0.1198, -0.1859, -0.1402, -0.0038,\n",
       "                       -0.0379,  0.0581, -0.1558, -0.1459],\n",
       "                      [-0.0737,  0.1666, -0.0456, -0.0308, -0.1018, -0.1564,  0.1131,  0.0640,\n",
       "                       -0.2087,  0.0726, -0.1409, -0.0804, -0.0613,  0.0154, -0.1957,  0.1427,\n",
       "                        0.1954,  0.0218,  0.0904, -0.0575]])),\n",
       "             ('linear.bias',\n",
       "              tensor([ 0.1445,  0.1631,  0.1765,  0.1929,  0.1348, -0.0650,  0.0005,  0.1637,\n",
       "                       0.0228,  0.2016, -0.1292, -0.1337,  0.0069, -0.2089,  0.0651, -0.0495,\n",
       "                      -0.1085, -0.0021, -0.0143,  0.0147]))])"
      ]
     },
     "execution_count": 13,
     "metadata": {},
     "output_type": "execute_result"
    }
   ],
   "source": [
    "# 访问模型参数\n",
    "net[2].state_dict()"
   ]
  },
  {
   "cell_type": "code",
   "execution_count": 23,
   "id": "1277f152-7f4e-41d5-9506-4fa677ca9278",
   "metadata": {},
   "outputs": [
    {
     "name": "stdout",
     "output_type": "stream",
     "text": [
      "<class 'torch.nn.parameter.Parameter'>\n",
      "Parameter containing:\n",
      "tensor([-0.0019, -0.0683, -0.0598,  0.2238,  0.0868,  0.0774, -0.0933,  0.0309,\n",
      "         0.1101, -0.0234, -0.0297, -0.1349, -0.2323,  0.2010,  0.1929,  0.2332,\n",
      "        -0.1880,  0.0526,  0.1733,  0.1483], requires_grad=True)\n",
      "tensor([-0.0019, -0.0683, -0.0598,  0.2238,  0.0868,  0.0774, -0.0933,  0.0309,\n",
      "         0.1101, -0.0234, -0.0297, -0.1349, -0.2323,  0.2010,  0.1929,  0.2332,\n",
      "        -0.1880,  0.0526,  0.1733,  0.1483])\n"
     ]
    }
   ],
   "source": [
    "print(type(net[1].bias))\n",
    "print(net[1].bias)\n",
    "print(net[1].bias.data)"
   ]
  },
  {
   "cell_type": "code",
   "execution_count": 25,
   "id": "ba64e46e-11c3-497c-87f9-b3f5e28d112d",
   "metadata": {},
   "outputs": [
    {
     "data": {
      "text/plain": [
       "True"
      ]
     },
     "execution_count": 25,
     "metadata": {},
     "output_type": "execute_result"
    }
   ],
   "source": [
    "net[1].weight.grad == None # 访问参数梯度"
   ]
  },
  {
   "cell_type": "code",
   "execution_count": 26,
   "id": "e88002eb-895e-4f0f-a83a-48d0e1569bf7",
   "metadata": {},
   "outputs": [
    {
     "name": "stdout",
     "output_type": "stream",
     "text": [
      "('net.0.weight', torch.Size([64, 20])) ('net.0.bias', torch.Size([64])) ('net.2.weight', torch.Size([32, 64])) ('net.2.bias', torch.Size([32])) ('linear.weight', torch.Size([16, 32])) ('linear.bias', torch.Size([16]))\n",
      "('0.net.0.weight', torch.Size([64, 20])) ('0.net.0.bias', torch.Size([64])) ('0.net.2.weight', torch.Size([32, 64])) ('0.net.2.bias', torch.Size([32])) ('0.linear.weight', torch.Size([16, 32])) ('0.linear.bias', torch.Size([16])) ('1.weight', torch.Size([20, 16])) ('1.bias', torch.Size([20])) ('2.linear.weight', torch.Size([20, 20])) ('2.linear.bias', torch.Size([20]))\n"
     ]
    }
   ],
   "source": [
    "print(*[(name, param.shape) for name, param in net[0].named_parameters()])\n",
    "print(*[(name, param.shape) for name, param in net.named_parameters()])"
   ]
  },
  {
   "cell_type": "code",
   "execution_count": 28,
   "id": "922aaccc-5099-49f7-b24c-b53660a271ab",
   "metadata": {},
   "outputs": [
    {
     "data": {
      "text/plain": [
       "tensor([-0.0019, -0.0683, -0.0598,  0.2238,  0.0868,  0.0774, -0.0933,  0.0309,\n",
       "         0.1101, -0.0234, -0.0297, -0.1349, -0.2323,  0.2010,  0.1929,  0.2332,\n",
       "        -0.1880,  0.0526,  0.1733,  0.1483])"
      ]
     },
     "execution_count": 28,
     "metadata": {},
     "output_type": "execute_result"
    }
   ],
   "source": [
    "net.state_dict()['1.bias'].data"
   ]
  },
  {
   "cell_type": "code",
   "execution_count": 29,
   "id": "793c5bc2-995b-47dd-a6d9-57032924dba1",
   "metadata": {},
   "outputs": [],
   "source": [
    "def block1():\n",
    "    return nn.Sequential(nn.Linear(4, 8), \n",
    "                         nn.ReLU(),\n",
    "                         nn.Linear(8, 4), \n",
    "                         nn.ReLU())\n",
    "\n",
    "def block2():\n",
    "    '''嵌套块收集参数'''\n",
    "    net = nn.Sequential()\n",
    "    for i in range(4):\n",
    "        # 在这里嵌套\n",
    "        net.add_module(f'block {i}', block1())\n",
    "    return net"
   ]
  },
  {
   "cell_type": "code",
   "execution_count": 31,
   "id": "79a043ec-a680-459e-a11f-d1d9301923b5",
   "metadata": {},
   "outputs": [
    {
     "data": {
      "text/plain": [
       "tensor([[0.4303],\n",
       "        [0.4303]], grad_fn=<AddmmBackward0>)"
      ]
     },
     "execution_count": 31,
     "metadata": {},
     "output_type": "execute_result"
    }
   ],
   "source": [
    "net = nn.Sequential(block2(), nn.Linear(4, 1))\n",
    "X = torch.rand(size=(2, 4))\n",
    "net(X)"
   ]
  },
  {
   "cell_type": "code",
   "execution_count": 32,
   "id": "ae3b30d0-1da2-41ea-a990-a38a3c3ac8d0",
   "metadata": {},
   "outputs": [
    {
     "name": "stdout",
     "output_type": "stream",
     "text": [
      "Sequential(\n",
      "  (0): Sequential(\n",
      "    (block 0): Sequential(\n",
      "      (0): Linear(in_features=4, out_features=8, bias=True)\n",
      "      (1): ReLU()\n",
      "      (2): Linear(in_features=8, out_features=4, bias=True)\n",
      "      (3): ReLU()\n",
      "    )\n",
      "    (block 1): Sequential(\n",
      "      (0): Linear(in_features=4, out_features=8, bias=True)\n",
      "      (1): ReLU()\n",
      "      (2): Linear(in_features=8, out_features=4, bias=True)\n",
      "      (3): ReLU()\n",
      "    )\n",
      "    (block 2): Sequential(\n",
      "      (0): Linear(in_features=4, out_features=8, bias=True)\n",
      "      (1): ReLU()\n",
      "      (2): Linear(in_features=8, out_features=4, bias=True)\n",
      "      (3): ReLU()\n",
      "    )\n",
      "    (block 3): Sequential(\n",
      "      (0): Linear(in_features=4, out_features=8, bias=True)\n",
      "      (1): ReLU()\n",
      "      (2): Linear(in_features=8, out_features=4, bias=True)\n",
      "      (3): ReLU()\n",
      "    )\n",
      "  )\n",
      "  (1): Linear(in_features=4, out_features=1, bias=True)\n",
      ")\n"
     ]
    }
   ],
   "source": [
    "print(net)"
   ]
  },
  {
   "cell_type": "code",
   "execution_count": 33,
   "id": "fe2e7371-cbda-46a9-9657-5bf696f1cae6",
   "metadata": {},
   "outputs": [
    {
     "data": {
      "text/plain": [
       "tensor([ 0.2396,  0.3176, -0.3528, -0.2460, -0.0385,  0.2815, -0.0325,  0.2968])"
      ]
     },
     "execution_count": 33,
     "metadata": {},
     "output_type": "execute_result"
    }
   ],
   "source": [
    "net[0][1][0].bias.data"
   ]
  },
  {
   "cell_type": "code",
   "execution_count": 34,
   "id": "9f5255a4-b13a-414d-89d6-c9916ec35cc5",
   "metadata": {},
   "outputs": [],
   "source": [
    "def init_normal(module):\n",
    "    if type(module) == nn.Linear:\n",
    "        nn.init.normal_(module.weight, mean=0, std=0.01)\n",
    "        nn.init.zeros_(module.bias)"
   ]
  },
  {
   "cell_type": "code",
   "execution_count": 36,
   "id": "14894e5e-6d14-4357-8d35-203224c15f39",
   "metadata": {},
   "outputs": [
    {
     "data": {
      "text/plain": [
       "(tensor([-0.0033,  0.0093, -0.0061, -0.0074]), tensor(0.))"
      ]
     },
     "execution_count": 36,
     "metadata": {},
     "output_type": "execute_result"
    }
   ],
   "source": [
    "net.apply(init_normal)\n",
    "net[1].weight.data[0], net[1].bias.data[0]"
   ]
  },
  {
   "cell_type": "markdown",
   "id": "14f4969d-b9b3-4cf7-a56f-f2c5dc4c7cd7",
   "metadata": {},
   "source": [
    "- https://zhuanlan.zhihu.com/p/53712833\n",
    "##### 权值初始化的十种方法\n",
    "    1. torch.nn.init.xavier_uniform_(tensor, gain=1) 服从均匀分布U(−a,a) \n",
    "    2. torch.nn.init.xavier_normal_(tensor, gain=1) 正态分布\n",
    "    3. torch.nn.init.kaiming_uniform_(tensor, a=0, mode='fan_in', nonlinearity='leaky_relu') kaiming均匀分布\n",
    "    4. torch.nn.init.kaiming_normal_(tensor, a=0, mode='fan_in', nonlinearity='leaky_relu') N～ (0,std)\n",
    "    5. torch.nn.init.uniform_(tensor, a=0, b=1) 均匀分布U(a,b)\n",
    "    6. torch.nn.init.normal_(tensor, mean=0, std=1) 正态分布N(mean, std)\n",
    "    7. torch.nn.init.constant_(tensor, val) 常数初始化\n",
    "    8. torch.nn.init.eye_(tensor) 单位矩阵初始化\n",
    "    9. torch.nn.init.orthogonal_(tensor, gain=1) 正交初始化\n",
    "    10. torch.nn.init.sparse_(tensor, sparsity, std=0.01)  从正态分布N～（0. std）中进行稀疏化"
   ]
  },
  {
   "cell_type": "code",
   "execution_count": 37,
   "id": "44d720e1-0f90-40f1-9049-433684f5c18f",
   "metadata": {},
   "outputs": [],
   "source": [
    "def xavier_uniform(module):\n",
    "    if type(module) == nn.Linear:\n",
    "        nn.init.xavier_uniform_(module.weight)\n",
    "def init_42(m):\n",
    "    if type(m) == nn.Linear:\n",
    "        nn.init.constant_(m.weight, 42)"
   ]
  },
  {
   "cell_type": "code",
   "execution_count": 49,
   "id": "9a237a04-29c8-4160-b5e3-7b86b7dffd44",
   "metadata": {},
   "outputs": [
    {
     "data": {
      "text/plain": [
       "Sequential(\n",
       "  (block 0): Sequential(\n",
       "    (0): Linear(in_features=4, out_features=8, bias=True)\n",
       "    (1): ReLU()\n",
       "    (2): Linear(in_features=8, out_features=4, bias=True)\n",
       "    (3): ReLU()\n",
       "  )\n",
       "  (block 1): Sequential(\n",
       "    (0): Linear(in_features=4, out_features=8, bias=True)\n",
       "    (1): ReLU()\n",
       "    (2): Linear(in_features=8, out_features=4, bias=True)\n",
       "    (3): ReLU()\n",
       "  )\n",
       "  (block 2): Sequential(\n",
       "    (0): Linear(in_features=4, out_features=8, bias=True)\n",
       "    (1): ReLU()\n",
       "    (2): Linear(in_features=8, out_features=4, bias=True)\n",
       "    (3): ReLU()\n",
       "  )\n",
       "  (block 3): Sequential(\n",
       "    (0): Linear(in_features=4, out_features=8, bias=True)\n",
       "    (1): ReLU()\n",
       "    (2): Linear(in_features=8, out_features=4, bias=True)\n",
       "    (3): ReLU()\n",
       "  )\n",
       ")"
      ]
     },
     "execution_count": 49,
     "metadata": {},
     "output_type": "execute_result"
    }
   ],
   "source": [
    "net[0].apply(xavier_uniform)"
   ]
  },
  {
   "cell_type": "code",
   "execution_count": 40,
   "id": "a99c3a87-b98b-4231-9b82-67e465f01406",
   "metadata": {},
   "outputs": [
    {
     "data": {
      "text/plain": [
       "Linear(in_features=4, out_features=1, bias=True)"
      ]
     },
     "execution_count": 40,
     "metadata": {},
     "output_type": "execute_result"
    }
   ],
   "source": [
    "net[1].apply(init_42)"
   ]
  },
  {
   "cell_type": "code",
   "execution_count": 50,
   "id": "ba5cf4d1-4ac6-477d-9d63-39e5f0de88c1",
   "metadata": {},
   "outputs": [
    {
     "name": "stdout",
     "output_type": "stream",
     "text": [
      "Sequential(\n",
      "  (0): LazyLinear(in_features=0, out_features=256, bias=True)\n",
      "  (1): ReLU()\n",
      "  (2): Linear(in_features=256, out_features=10, bias=True)\n",
      ")\n"
     ]
    },
    {
     "name": "stderr",
     "output_type": "stream",
     "text": [
      "D:\\anaconda3\\lib\\site-packages\\torch\\nn\\modules\\lazy.py:178: UserWarning: Lazy modules are a new feature under heavy development so changes to the API or functionality can happen at any moment.\n",
      "  warnings.warn('Lazy modules are a new feature under heavy development '\n"
     ]
    }
   ],
   "source": [
    "# 延后初始化\n",
    "net = nn.Sequential(nn.LazyLinear(256), nn.ReLU(),nn.Linear(256,10))\n",
    "print(net)"
   ]
  },
  {
   "cell_type": "code",
   "execution_count": 51,
   "id": "b3da99f6-92d2-4125-b33f-1a719847121e",
   "metadata": {},
   "outputs": [
    {
     "data": {
      "text/plain": [
       "[OrderedDict([('weight', <UninitializedParameter>),\n",
       "              ('bias', <UninitializedParameter>)]),\n",
       " OrderedDict(),\n",
       " OrderedDict([('weight',\n",
       "               tensor([[ 0.0599, -0.0076, -0.0106,  ...,  0.0062,  0.0050,  0.0064],\n",
       "                       [ 0.0037,  0.0279, -0.0054,  ...,  0.0119,  0.0355, -0.0013],\n",
       "                       [-0.0624, -0.0065, -0.0033,  ...,  0.0437,  0.0104, -0.0023],\n",
       "                       ...,\n",
       "                       [ 0.0345,  0.0485, -0.0254,  ...,  0.0368,  0.0195,  0.0034],\n",
       "                       [-0.0327,  0.0541,  0.0138,  ...,  0.0369,  0.0135, -0.0530],\n",
       "                       [-0.0349, -0.0266, -0.0357,  ..., -0.0467,  0.0213, -0.0592]])),\n",
       "              ('bias',\n",
       "               tensor([-0.0102, -0.0491, -0.0163,  0.0616,  0.0570,  0.0159, -0.0219, -0.0220,\n",
       "                       -0.0185, -0.0318]))])]"
      ]
     },
     "execution_count": 51,
     "metadata": {},
     "output_type": "execute_result"
    }
   ],
   "source": [
    "[net[i].state_dict() for i in range(len(net))]"
   ]
  },
  {
   "cell_type": "code",
   "execution_count": 52,
   "id": "ba3c3c75-22af-4a9b-bbac-147bae6e9ce0",
   "metadata": {},
   "outputs": [
    {
     "data": {
      "text/plain": [
       "(-3.4028234663852886e+37, 3.4028234663852886e+37)"
      ]
     },
     "execution_count": 52,
     "metadata": {},
     "output_type": "execute_result"
    }
   ],
   "source": [
    "low = torch.finfo(torch.float32).min/10\n",
    "high = torch.finfo(torch.float32).max/10\n",
    "low, high"
   ]
  },
  {
   "cell_type": "code",
   "execution_count": 53,
   "id": "a0b4c4a3-ff2b-4a1e-a6fa-e0a7bce2bab5",
   "metadata": {},
   "outputs": [
    {
     "name": "stdout",
     "output_type": "stream",
     "text": [
      "Sequential(\n",
      "  (0): Linear(in_features=20, out_features=256, bias=True)\n",
      "  (1): ReLU()\n",
      "  (2): Linear(in_features=256, out_features=10, bias=True)\n",
      ")\n"
     ]
    }
   ],
   "source": [
    "X = torch.zeros([2,20],dtype=torch.float32).uniform_(low, high)\n",
    "net(X)\n",
    "print(net)"
   ]
  },
  {
   "cell_type": "code",
   "execution_count": 54,
   "id": "6857fe52-50ac-4209-9301-df6b347d5f58",
   "metadata": {},
   "outputs": [],
   "source": [
    "class CenteredLayer(nn.Module):\n",
    "    '''构造一个没有任何参数的自定义层'''\n",
    "    def __init__(self):\n",
    "        '''继承父类模块初始化'''\n",
    "        super().__init__()\n",
    "\n",
    "    def forward(self, X):\n",
    "        '''前向传播功能'''\n",
    "        return X - X.mean()"
   ]
  },
  {
   "cell_type": "code",
   "execution_count": 55,
   "id": "918ddce8-d0d2-4f31-a9af-07265d811f6f",
   "metadata": {},
   "outputs": [
    {
     "data": {
      "text/plain": [
       "tensor([-2., -1.,  0.,  1.,  2.])"
      ]
     },
     "execution_count": 55,
     "metadata": {},
     "output_type": "execute_result"
    }
   ],
   "source": [
    "layer = CenteredLayer()\n",
    "layer(torch.FloatTensor([1, 2, 3, 4, 5]))"
   ]
  },
  {
   "cell_type": "code",
   "execution_count": 56,
   "id": "ef7e587d-2f53-4b3f-a93e-093f9e49fc8b",
   "metadata": {},
   "outputs": [
    {
     "name": "stdout",
     "output_type": "stream",
     "text": [
      "Sequential(\n",
      "  (0): Linear(in_features=8, out_features=128, bias=True)\n",
      "  (1): CenteredLayer()\n",
      ")\n"
     ]
    }
   ],
   "source": [
    "net = nn.Sequential(nn.Linear(8, 128), CenteredLayer())\n",
    "print(net)"
   ]
  },
  {
   "cell_type": "code",
   "execution_count": 57,
   "id": "2f39f88e-4d48-4484-a1ef-f400dd626132",
   "metadata": {},
   "outputs": [
    {
     "data": {
      "text/plain": [
       "tensor(3.7253e-09, grad_fn=<MeanBackward0>)"
      ]
     },
     "execution_count": 57,
     "metadata": {},
     "output_type": "execute_result"
    }
   ],
   "source": [
    "Y = net(torch.rand(4, 8))\n",
    "Y.mean()"
   ]
  },
  {
   "cell_type": "code",
   "execution_count": 58,
   "id": "4e5017d5-3df4-4385-afff-4026d3d88e21",
   "metadata": {},
   "outputs": [],
   "source": [
    "x = torch.arange(4)\n",
    "torch.save(x, 'x-file')"
   ]
  },
  {
   "cell_type": "code",
   "execution_count": 59,
   "id": "f9f6d8fd-ac2e-43ba-b6cf-c4974ccac9bd",
   "metadata": {},
   "outputs": [
    {
     "data": {
      "text/plain": [
       "tensor([0, 1, 2, 3])"
      ]
     },
     "execution_count": 59,
     "metadata": {},
     "output_type": "execute_result"
    }
   ],
   "source": [
    "x2 = torch.load('x-file')\n",
    "x2"
   ]
  },
  {
   "cell_type": "code",
   "execution_count": 60,
   "id": "184e789c-96d7-4a8e-b395-c918200c9419",
   "metadata": {},
   "outputs": [
    {
     "data": {
      "text/plain": [
       "(tensor([0, 1, 2, 3]), tensor([0., 0., 0., 0.]))"
      ]
     },
     "execution_count": 60,
     "metadata": {},
     "output_type": "execute_result"
    }
   ],
   "source": [
    "y = torch.zeros(4)\n",
    "torch.save([x, y],'x-files')\n",
    "x2, y2 = torch.load('x-files')\n",
    "(x2, y2)"
   ]
  },
  {
   "cell_type": "code",
   "execution_count": 61,
   "id": "3d1fe493-2939-4530-bee6-e4a9507b5474",
   "metadata": {},
   "outputs": [
    {
     "data": {
      "text/plain": [
       "{'x': tensor([0, 1, 2, 3]), 'y': tensor([0., 0., 0., 0.])}"
      ]
     },
     "execution_count": 61,
     "metadata": {},
     "output_type": "execute_result"
    }
   ],
   "source": [
    "mydict = {'x': x, 'y': y}\n",
    "torch.save(mydict, 'mydict')\n",
    "mydict2 = torch.load('mydict')\n",
    "mydict2"
   ]
  },
  {
   "cell_type": "code",
   "execution_count": 62,
   "id": "c60ddf2b-bba3-4eef-acf1-acb9673d1905",
   "metadata": {},
   "outputs": [
    {
     "name": "stdout",
     "output_type": "stream",
     "text": [
      "Sun Apr 10 18:03:24 2022       \n",
      "+-----------------------------------------------------------------------------+\n",
      "| NVIDIA-SMI 511.79       Driver Version: 511.79       CUDA Version: 11.6     |\n",
      "|-------------------------------+----------------------+----------------------+\n",
      "| GPU  Name            TCC/WDDM | Bus-Id        Disp.A | Volatile Uncorr. ECC |\n",
      "| Fan  Temp  Perf  Pwr:Usage/Cap|         Memory-Usage | GPU-Util  Compute M. |\n",
      "|                               |                      |               MIG M. |\n",
      "|===============================+======================+======================|\n",
      "|   0  NVIDIA GeForce ... WDDM  | 00000000:05:00.0 Off |                  N/A |\n",
      "| N/A   52C    P8    N/A /  N/A |      0MiB /  2048MiB |      0%      Default |\n",
      "|                               |                      |                  N/A |\n",
      "+-------------------------------+----------------------+----------------------+\n",
      "                                                                               \n",
      "+-----------------------------------------------------------------------------+\n",
      "| Processes:                                                                  |\n",
      "|  GPU   GI   CI        PID   Type   Process name                  GPU Memory |\n",
      "|        ID   ID                                                   Usage      |\n",
      "|=============================================================================|\n",
      "|  No running processes found                                                 |\n",
      "+-----------------------------------------------------------------------------+\n"
     ]
    }
   ],
   "source": [
    "!nvidia-smi"
   ]
  },
  {
   "cell_type": "code",
   "execution_count": 65,
   "id": "918825a3-c0a2-4274-99a0-4d81d8452a8d",
   "metadata": {},
   "outputs": [
    {
     "data": {
      "text/plain": [
       "(device(type='cpu'),\n",
       " device(type='cuda'),\n",
       " device(type='cuda', index=1),\n",
       " device(type='cuda', index=2))"
      ]
     },
     "execution_count": 65,
     "metadata": {},
     "output_type": "execute_result"
    }
   ],
   "source": [
    "torch.device('cpu'), torch.device('cuda'), torch.device('cuda:1'), torch.device('cuda:2')"
   ]
  },
  {
   "cell_type": "code",
   "execution_count": 66,
   "id": "571f709f-13a3-4aeb-8bf8-76539f9ce99e",
   "metadata": {},
   "outputs": [
    {
     "data": {
      "text/plain": [
       "1"
      ]
     },
     "execution_count": 66,
     "metadata": {},
     "output_type": "execute_result"
    }
   ],
   "source": [
    "torch.cuda.device_count()"
   ]
  },
  {
   "cell_type": "code",
   "execution_count": 67,
   "id": "dea61e87-8b31-403d-b7b1-3cac41a909c2",
   "metadata": {},
   "outputs": [
    {
     "data": {
      "text/plain": [
       "(device(type='cuda', index=0),\n",
       " device(type='cpu'),\n",
       " [device(type='cuda', index=0)])"
      ]
     },
     "execution_count": 67,
     "metadata": {},
     "output_type": "execute_result"
    }
   ],
   "source": [
    "def try_gpu(i=0):  #@save\n",
    "    \"\"\"如果存在，则返回gpu(i)，否则返回cpu()\"\"\"\n",
    "    if torch.cuda.device_count() >= i + 1:\n",
    "        return torch.device(f'cuda:{i}')\n",
    "    return torch.device('cpu')\n",
    "\n",
    "def try_all_gpus():  #@save\n",
    "    \"\"\"返回所有可用的GPU，如果没有GPU，则返回[cpu(),]\"\"\"\n",
    "    devices = [torch.device(f'cuda:{i}')\n",
    "             for i in range(torch.cuda.device_count())]\n",
    "    return devices if devices else [torch.device('cpu')]\n",
    "\n",
    "try_gpu(), try_gpu(10), try_all_gpus()"
   ]
  },
  {
   "cell_type": "code",
   "execution_count": 68,
   "id": "42f24446-f051-46a3-a65d-b19d864fb360",
   "metadata": {},
   "outputs": [
    {
     "data": {
      "text/plain": [
       "device(type='cpu')"
      ]
     },
     "execution_count": 68,
     "metadata": {},
     "output_type": "execute_result"
    }
   ],
   "source": [
    "x = torch.tensor([1, 2, 3])\n",
    "x.device"
   ]
  },
  {
   "cell_type": "code",
   "execution_count": 69,
   "id": "49c63a73-a679-4529-814f-26abe009567e",
   "metadata": {},
   "outputs": [
    {
     "data": {
      "text/plain": [
       "tensor([[1., 1., 1.],\n",
       "        [1., 1., 1.]], device='cuda:0')"
      ]
     },
     "execution_count": 69,
     "metadata": {},
     "output_type": "execute_result"
    }
   ],
   "source": [
    "X = torch.ones(2, 3, device=try_gpu())\n",
    "X"
   ]
  },
  {
   "cell_type": "code",
   "execution_count": 71,
   "id": "b73d26a8-82c6-42c0-8412-6b510377cb56",
   "metadata": {},
   "outputs": [
    {
     "data": {
      "text/plain": [
       "device(type='cuda', index=0)"
      ]
     },
     "execution_count": 71,
     "metadata": {},
     "output_type": "execute_result"
    }
   ],
   "source": [
    "X.device # 在GPU上创建的张量只消耗这个GPU的显存"
   ]
  },
  {
   "cell_type": "code",
   "execution_count": 72,
   "id": "b3ec894a-f5c7-47e2-bbbe-c0f8f938dc21",
   "metadata": {},
   "outputs": [
    {
     "name": "stdout",
     "output_type": "stream",
     "text": [
      "Sun Apr 10 18:06:26 2022       \n",
      "+-----------------------------------------------------------------------------+\n",
      "| NVIDIA-SMI 511.79       Driver Version: 511.79       CUDA Version: 11.6     |\n",
      "|-------------------------------+----------------------+----------------------+\n",
      "| GPU  Name            TCC/WDDM | Bus-Id        Disp.A | Volatile Uncorr. ECC |\n",
      "| Fan  Temp  Perf  Pwr:Usage/Cap|         Memory-Usage | GPU-Util  Compute M. |\n",
      "|                               |                      |               MIG M. |\n",
      "|===============================+======================+======================|\n",
      "|   0  NVIDIA GeForce ... WDDM  | 00000000:05:00.0 Off |                  N/A |\n",
      "| N/A   52C    P8    N/A /  N/A |    561MiB /  2048MiB |      0%      Default |\n",
      "|                               |                      |                  N/A |\n",
      "+-------------------------------+----------------------+----------------------+\n",
      "                                                                               \n",
      "+-----------------------------------------------------------------------------+\n",
      "| Processes:                                                                  |\n",
      "|  GPU   GI   CI        PID   Type   Process name                  GPU Memory |\n",
      "|        ID   ID                                                   Usage      |\n",
      "|=============================================================================|\n",
      "|    0   N/A  N/A     40372      C   D:\\anaconda3\\python.exe         N/A      |\n",
      "+-----------------------------------------------------------------------------+\n"
     ]
    }
   ],
   "source": [
    "!nvidia-smi"
   ]
  },
  {
   "cell_type": "code",
   "execution_count": 75,
   "id": "3333d236-ab19-4cc1-962d-fe705d07be8c",
   "metadata": {},
   "outputs": [
    {
     "data": {
      "text/plain": [
       "tensor([[1., 1., 1.],\n",
       "        [1., 1., 1.]], device='cuda:0')"
      ]
     },
     "execution_count": 75,
     "metadata": {},
     "output_type": "execute_result"
    }
   ],
   "source": [
    "X = torch.ones(2, 3, device=try_gpu())\n",
    "X"
   ]
  },
  {
   "cell_type": "code",
   "execution_count": 77,
   "id": "f10323f7-c387-4b52-b962-dcbb20dc1b94",
   "metadata": {},
   "outputs": [
    {
     "name": "stdout",
     "output_type": "stream",
     "text": [
      "tensor([[1., 1., 1.],\n",
      "        [1., 1., 1.]], device='cuda:0')\n",
      "tensor([[1., 1., 1.],\n",
      "        [1., 1., 1.]], device='cuda:0')\n"
     ]
    }
   ],
   "source": [
    "Z = X.cuda(0)\n",
    "print(X)\n",
    "print(Z)"
   ]
  },
  {
   "cell_type": "code",
   "execution_count": 79,
   "id": "7f658a32-15d9-4598-abeb-a841895e08ef",
   "metadata": {},
   "outputs": [
    {
     "data": {
      "text/plain": [
       "tensor([[2., 2., 2.],\n",
       "        [2., 2., 2.]], device='cuda:0')"
      ]
     },
     "execution_count": 79,
     "metadata": {},
     "output_type": "execute_result"
    }
   ],
   "source": [
    "X + Z"
   ]
  },
  {
   "cell_type": "code",
   "execution_count": 81,
   "id": "ff564b0c-a45d-4efb-8328-092220af4ef1",
   "metadata": {},
   "outputs": [
    {
     "data": {
      "text/plain": [
       "True"
      ]
     },
     "execution_count": 81,
     "metadata": {},
     "output_type": "execute_result"
    }
   ],
   "source": [
    "Z.cuda(0) is Z"
   ]
  },
  {
   "cell_type": "code",
   "execution_count": 82,
   "id": "43d35ac3-0135-4da4-9ad8-a5225702f381",
   "metadata": {},
   "outputs": [],
   "source": [
    "net = nn.Sequential(nn.Linear(3, 1))\n",
    "net = net.to(device=try_gpu())"
   ]
  },
  {
   "cell_type": "code",
   "execution_count": 83,
   "id": "d14c08ad-ba6a-48a9-9ccc-6c553c9985e8",
   "metadata": {},
   "outputs": [],
   "source": [
    "net = nn.Sequential(nn.Linear(3, 1))\n",
    "net = net.to(device=try_gpu())"
   ]
  },
  {
   "cell_type": "code",
   "execution_count": 84,
   "id": "ffa76c1d-8ddd-48d4-879d-0221ceaa5ee8",
   "metadata": {},
   "outputs": [
    {
     "data": {
      "text/plain": [
       "tensor([[-0.1207],\n",
       "        [-0.1207]], device='cuda:0', grad_fn=<AddmmBackward0>)"
      ]
     },
     "execution_count": 84,
     "metadata": {},
     "output_type": "execute_result"
    }
   ],
   "source": [
    "net(X)"
   ]
  },
  {
   "cell_type": "code",
   "execution_count": 85,
   "id": "c31ee8ee-ad90-47e5-a220-9a038a058c17",
   "metadata": {},
   "outputs": [
    {
     "data": {
      "text/plain": [
       "device(type='cuda', index=0)"
      ]
     },
     "execution_count": 85,
     "metadata": {},
     "output_type": "execute_result"
    }
   ],
   "source": [
    "net[0].weight.data.device"
   ]
  },
  {
   "cell_type": "code",
   "execution_count": null,
   "id": "9df23722-5215-4a0f-9d49-10f42cdcf833",
   "metadata": {},
   "outputs": [],
   "source": []
  }
 ],
 "metadata": {
  "kernelspec": {
   "display_name": "Python 3 (ipykernel)",
   "language": "python",
   "name": "python3"
  },
  "language_info": {
   "codemirror_mode": {
    "name": "ipython",
    "version": 3
   },
   "file_extension": ".py",
   "mimetype": "text/x-python",
   "name": "python",
   "nbconvert_exporter": "python",
   "pygments_lexer": "ipython3",
   "version": "3.9.7"
  }
 },
 "nbformat": 4,
 "nbformat_minor": 5
}
