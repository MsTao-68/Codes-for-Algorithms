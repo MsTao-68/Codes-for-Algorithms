{
 "cells": [
  {
   "cell_type": "code",
   "execution_count": 1,
   "id": "d9365532-1166-4906-a87a-426422855bd4",
   "metadata": {},
   "outputs": [],
   "source": [
    "# Project: CN Segmentation Algorithms\n",
    "# Author: 19024075 Shengmin(Tracy) Tao\n",
    "# Date: 2022/04/08"
   ]
  },
  {
   "cell_type": "code",
   "execution_count": 117,
   "id": "acfad7e1-defd-4704-84dd-0e048d7265e1",
   "metadata": {},
   "outputs": [],
   "source": [
    "def select_words(txt):\n",
    "    '''\n",
    "    :params dict_: txt for CN words\n",
    "    return res: word index\n",
    "    function: select words from txt, step = 1 \n",
    "    '''\n",
    "    res = 0\n",
    "    res = [res+1 for item in txt if len(item)==1]\n",
    "    return res"
   ]
  },
  {
   "cell_type": "code",
   "execution_count": 62,
   "id": "4b62fc37-e144-42c1-b6cd-706160c8b33a",
   "metadata": {},
   "outputs": [],
   "source": [
    "def read_dict(filepath):\n",
    "    '''\n",
    "    :params filepath: the path of the dictionary\n",
    "    return words_dict: dictionary\n",
    "    function：read file to build word dict \n",
    "    '''\n",
    "    word_dict = []\n",
    "    with open(path, 'r',encoding='utf-8') as f:\n",
    "        line = f.readlines()\n",
    "        for i in line:\n",
    "            word = i.split(',')\n",
    "            word_dict.append(word[0])\n",
    "    return word_dict"
   ]
  },
  {
   "cell_type": "code",
   "execution_count": 4,
   "id": "8d37a325-2ea6-44b4-94ae-cdf9f16518c3",
   "metadata": {},
   "outputs": [],
   "source": [
    "def fully_seg(txt, dict_):\n",
    "    '''\n",
    "    完全切分:找出一段文本中的所有有意义单词\n",
    "    \n",
    "    '''\n",
    "    word_list = []\n",
    "    for i in range(len(txt)):\n",
    "        for j in range(i+1, len(txt)+1):\n",
    "            word = txt[i:j]\n",
    "            if word in dict_:\n",
    "                word_list.append(word)\n",
    "    return word_list"
   ]
  },
  {
   "cell_type": "code",
   "execution_count": 98,
   "id": "fd465c93-7335-45dd-9ec6-2ae7f0ca66c8",
   "metadata": {},
   "outputs": [],
   "source": [
    "def fmm(txt, dict_):\n",
    "    '''\n",
    "    正向最长匹配:从前往后，递增查词，优先输出更长的单词\n",
    "    '''\n",
    "    txtLen = len(txt) # 原句长度\n",
    "    idx =0\n",
    "    res = [] # segmentation result\n",
    "    \n",
    "    while idx < txtLen:\n",
    "        ismatch = False\n",
    "        for _ in range(window_size, 0, -1):\n",
    "            subStr = txt[idx: idx + _]\n",
    "            if subStr in dict_:\n",
    "                ismatch = True\n",
    "                res.append(subStr)\n",
    "                idx +=1\n",
    "                break\n",
    "        if not ismatch:\n",
    "            res.append(txt[idx])\n",
    "            idx +=1\n",
    "    return res\n",
    "    "
   ]
  },
  {
   "cell_type": "code",
   "execution_count": 99,
   "id": "1027fd6d-6a91-47fb-b7b6-014b501bf9f2",
   "metadata": {},
   "outputs": [],
   "source": [
    "def bmm(txt, dict_):\n",
    "    '''\n",
    "    逆向最长匹配:从后往前，递减查词，优先输出更长的单词\n",
    "    '''\n",
    "    txtLen = len(txt) # 原句长度\n",
    "    idx =0\n",
    "    res = [] # segmentation result\n",
    "    \n",
    "    while idx > 0:\n",
    "        ismatch = False\n",
    "        for _ in range(window_size, 0, -1):\n",
    "            subStr = txt[idx - _:idx]\n",
    "            if subStr in dict_:\n",
    "                ismatch = True\n",
    "                res.append(subStr)\n",
    "                idx -=1\n",
    "                break\n",
    "        if not ismatch:\n",
    "            res.append(txt[idx-1])\n",
    "            idx -=1\n",
    "    res.reverse() # 列表倒序\n",
    "    return res"
   ]
  },
  {
   "cell_type": "code",
   "execution_count": 122,
   "id": "098f5572-b529-4fe3-ab09-269e4426fab1",
   "metadata": {},
   "outputs": [],
   "source": [
    "def bi_mm(txt, dict_):\n",
    "    '''\n",
    "    双向最长匹配:\n",
    "        1.同时执行正向最长匹配和逆向最长匹配，若两者的次数不同，则返回次数更少的那一个。\n",
    "        2.如果相等，返回两者中单字更少的那一个。\n",
    "        3.当单字数也相同时，优先返回非字典数最少的。\n",
    "    '''\n",
    "    forward = fmm(txt, dict_)\n",
    "    backward = bmm(txt, dict_)\n",
    "    res = []\n",
    "    print(f\"Forward Maximum Match:{forward}\")\n",
    "    print(f\"Backward Maximum Match:{backward}\")\n",
    "    f_single_word = 0\n",
    "    b_single_word = 0 \n",
    "    # forward and backward single words count\n",
    "    total_f = len(forward)\n",
    "    total_g = len(backward)\n",
    "    # total words in fmm / bmm\n",
    "    outlier_f = 0\n",
    "    outlier_b = 0\n",
    "    # 定义单字相同数时，返回的优先级别，score为惩罚，优先级别：分数最小越优先\n",
    "    if len(forward) != len(backward):\n",
    "        # 1.同时执行正向最长匹配和逆向最长匹配，若两者的次数不同，则返回次数更少的那一个。\n",
    "        # 如果相等就任意返回\n",
    "        return forward if len(forward) < len(backward) else backward\n",
    "    else: # 否则相等, 要考虑单字和最长匹配\n",
    "        f_single_word = [f_single_word+1  for item in txt if len(item) == 1]# 统计单字数\n",
    "        b_single_word = [b_single_word+1  for item in txt if len(item) == 1]\n",
    "        outlier_f = [outlier_f +1 for item in txt if item not in dict_] # 统计不在字典中的字数\n",
    "        outlier_b = [outlier_b +1 for item in txt if item not in dict_]\n",
    "        if f_single_word != b_single_word:\n",
    "             # 返回两者中单字更少的那一个。\n",
    "            return forward if f_single_word < b_single_word else backward \n",
    "        else: # 如果单字数相等\n",
    "            return outlier_f if outlier_f < outlier_b else backward        \n",
    "            "
   ]
  },
  {
   "cell_type": "code",
   "execution_count": 148,
   "id": "5312bded-21ba-420f-843d-6c20cc5ff222",
   "metadata": {},
   "outputs": [
    {
     "name": "stdout",
     "output_type": "stream",
     "text": [
      "Forward Maximum Match:['通', '用', '人', '工', '智', '能', '前', '路', '漫', '漫', '未', '来', '可', '期']\n",
      "Backward Maximum Match:[]\n",
      "[]\n",
      "['人工', '智能', '漫', '漫', '未来']\n",
      "Running time: 0.0746302604675293s\n"
     ]
    }
   ],
   "source": [
    "import time \n",
    "import os\n",
    "window_size =4\n",
    "start = time.time()\n",
    "path = \"C:\\\\Users\\\\Tracy Tao\\\\Desktop\\\\大三下\\\\Natural Language Process\\\\funNLP-master\\\\data\\\\中文分词词库整理\\\\四十万可用搜狗txt词库utf8.txt\"\n",
    "dict_ = read_dict(path)\n",
    "print(bi_mm(\"通用人工智能前路漫漫未来可期\", dict_))\n",
    "dic = ['人工','智能','未来','漫']\n",
    "print(fully_seg(\"通用人工智能前路漫漫未来可期\", dic))\n",
    "end = time.time()\n",
    "print('Running time: {}s'.format(str(end - start)))"
   ]
  },
  {
   "cell_type": "code",
   "execution_count": 150,
   "id": "ab5e184b-ef0e-477c-a4ed-87e9cf0cc84c",
   "metadata": {},
   "outputs": [
    {
     "name": "stdout",
     "output_type": "stream",
     "text": [
      "Forward Maximum Match:['对', '外', '经', '济', '技术', '术', '合作', '作', '与', '交流', '流', '不断', '断', '扩大', '大', '。']\n",
      "Backward Maximum Match:[]\n",
      "[]\n",
      "['技术', '合作', '交流', '不断', '扩大']\n",
      "Running time: 0.0s\n"
     ]
    }
   ],
   "source": [
    "start = time.time()\n",
    "path = \"C:\\\\Users\\\\Tracy Tao\\\\Desktop\\\\大三下\\\\Natural Language Process\\\\funNLP-master\\\\data\\\\中文分词词库整理\\\\四十万可用搜狗txt词库utf8.txt\"\n",
    "dic = ['对外经贸','技术','合作','交流','不断','扩大']\n",
    "print(bi_mm(\"对外经济技术合作与交流不断扩大。\", dic))\n",
    "print(fully_seg(\"对外经济技术合作与交流不断扩大。\", dic))\n",
    "end = time.time()\n",
    "print('Running time: {}s'.format(str(end - start)))"
   ]
  },
  {
   "attachments": {
    "238d98f2-bba6-4799-9df7-3e42f726f6d7.png": {
     "image/png": "[encoded data removed]"
    }
   },
   "cell_type": "markdown",
   "id": "951a9a2b-d970-4580-9f84-cf230e724325",
   "metadata": {},
   "source": [
    "- 词典不太对，但是我木有了。。。\n",
    "- ![image.png](attachment:238d98f2-bba6-4799-9df7-3e42f726f6d7.png)\n"
   ]
  },
  {
   "cell_type": "code",
   "execution_count": null,
   "id": "949b7a33-5b86-4d6f-ac74-32c9c60fb528",
   "metadata": {},
   "outputs": [],
   "source": []
  }
 ],
 "metadata": {
  "kernelspec": {
   "display_name": "Python 3 (ipykernel)",
   "language": "python",
   "name": "python3"
  },
  "language_info": {
   "codemirror_mode": {
    "name": "ipython",
    "version": 3
   },
   "file_extension": ".py",
   "mimetype": "text/x-python",
   "name": "python",
   "nbconvert_exporter": "python",
   "pygments_lexer": "ipython3",
   "version": "3.9.7"
  }
 },
 "nbformat": 4,
 "nbformat_minor": 5
}
