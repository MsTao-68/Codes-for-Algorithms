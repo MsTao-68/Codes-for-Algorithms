{
 "cells": [
  {
   "cell_type": "code",
   "execution_count": 1,
   "id": "d1edb8b9-1e53-40d5-9184-c659b78f2667",
   "metadata": {},
   "outputs": [],
   "source": [
    "# !usr/bin/python\n",
    "# -*- encoding: utf-8 -*-\n",
    "# Project: Sequence to Squence - Translation\n",
    "# Author: Tracy Tao\n",
    "# Date: 2022/04/13\n",
    "'''\n",
    "建一个基于LSTM的Seq2Seq模型，使用编码器-解码器架构进行机器翻译\n",
    "源语言(SRC - Input)是德语，目标语言(TRG - Output)是英语\n",
    "“序列开始”<sos>和“序列结束”<eos>\n",
    "'''\n",
    "# 系统操作\n",
    "import unicodedata\n",
    "import string\n",
    "import re\n",
    "import random \n",
    "from io import open\n",
    "\n",
    "# pyrotch框架\n",
    "import torch\n",
    "import torch.nn as nn\n",
    "import torch.optim as optim\n",
    "from torch.autograd import Variable\n",
    "import torch.nn.functional as F\n",
    "import torch.utils.data as DataSet\n",
    "\n",
    "%matplotlib inline\n",
    "import matplotlib.pyplot as plt\n",
    "import numpy as np\n",
    "\n",
    "use_cuda = torch.cuda.is_available()\n",
    "# device = torch.device('cuda' if torch.cuda.is_available() else 'cpu')\n",
    "device = torch.device('cuda' if use_cuda else 'cpu')\n"
   ]
  },
  {
   "cell_type": "code",
   "execution_count": 2,
   "id": "75f5cc6b-cbac-4aa1-992e-02ab01b85397",
   "metadata": {},
   "outputs": [],
   "source": [
    "# 定义标识符 <bos> <eos>\n",
    "sos_token = 0\n",
    "eos_token = 1\n",
    "\n",
    "# read corpus\n",
    "fra_path = 'E:\\\\dasein_py\\\\Data Analysis\\\\Deep Learning - Pytorch\\\\Deep Learning - Pytorch\\\\机器翻译的神经网络实现\\\\data\\\\fra.txt'\n",
    "eng_path = 'E:\\\\dasein_py\\\\Data Analysis\\\\Deep Learning - Pytorch\\\\Deep Learning - Pytorch\\\\机器翻译的神经网络实现\\\\data\\\\eng.txt'\n",
    "lines = open(fra_path, encoding = 'utf-8')\n",
    "french = lines.read().strip().split('\\n') # 去空格，按行切分\n",
    "lines = open(eng_path, encoding = 'utf-8')\n",
    "english = lines.read().strip().split('\\n')"
   ]
  },
  {
   "cell_type": "code",
   "execution_count": 3,
   "id": "49f99718-353c-4b48-b6b8-caa016f60af4",
   "metadata": {},
   "outputs": [
    {
     "data": {
      "text/plain": [
       "(135842, 135842)"
      ]
     },
     "execution_count": 3,
     "metadata": {},
     "output_type": "execute_result"
    }
   ],
   "source": [
    "len(english),len(french)"
   ]
  },
  {
   "cell_type": "code",
   "execution_count": 4,
   "id": "ece0ef54-2c9c-4101-86d2-54ee5015d510",
   "metadata": {},
   "outputs": [],
   "source": [
    "class Language:\n",
    "    '''定义语言类：建词典、编码、单词到索引、索引到单词、设置标识符'''\n",
    "    def __init__(self, name):\n",
    "        self.name = name\n",
    "        self.word2index = {}\n",
    "        self.word2count = {}\n",
    "        self.index2word = {0: 'SOS', 1: 'EOS'} # 标识符索引\n",
    "        self.n_words = 2 # count sos & eos\n",
    "        \n",
    "    def add_sentence(self, sentence):\n",
    "        '''在语言中添加新句子，然后切分获得单词'''\n",
    "        for word in sentence.split(' '): # tokenize sentence\n",
    "            self.add_word(word)\n",
    "    \n",
    "    def add_word(self, word):\n",
    "        '''添加单词，并且更新字典中的词频；并且建立反向索引'''\n",
    "        if self.word2index.get(word,0) == 0: # if word not in self.word2index\n",
    "            self.word2index[word] = self.n_words # 索引\n",
    "            self.word2count[word] = 1 # 计数\n",
    "            self.index2word[self.n_words] = word # 反向索引，给单词按顺序编号\n",
    "            self.n_words +=1 # 记录单词数\n",
    "        else:\n",
    "            self.word2count[word] += 1 # 如果存在直接计数        \n",
    "            "
   ]
  },
  {
   "cell_type": "code",
   "execution_count": 5,
   "id": "3a9c8897-5408-42aa-a1fa-e8bfc382c9ab",
   "metadata": {},
   "outputs": [],
   "source": [
    "def UnicodeToAscii(string):\n",
    "    '''\n",
    "    Unicode -> Ascii \n",
    "    NFD表示字符应该分解为多个组合字符表示\n",
    "    '''\n",
    "    return ''.join(ch for ch in unicodedata.normalize('NFD',string) if unicodedata.category(ch) != 'Mn') # 文本标准化\n",
    "\n",
    "def LowerEngString(string):\n",
    "    '''\n",
    "    function: Eng.lower()\n",
    "    usage: re.sub(pattern, repl, string, count=0, flags=0)\n",
    "    '''\n",
    "    s = UnicodeToAscii(string.lower().strip())   # Unicode -> Ascii \n",
    "    s = re.sub(r\"([.!?])\", r\" \\1\", s) # 去除标点符号\n",
    "    return s\n",
    "\n",
    "\n",
    "MAX_LENGTH = 5 # 设置句子的最大长度\n",
    "def FilterPair(pair):\n",
    "    '''\n",
    "    function: 对输入单词对过滤，限制每句话的单词数\n",
    "    '''\n",
    "    return len(pair[0].split(' ')) < MAX_LENGTH and len(pair[1].split(' ')) < MAX_LENGTH"
   ]
  },
  {
   "cell_type": "code",
   "execution_count": 6,
   "id": "34b99c2d-dbd6-4111-832f-73dbfbd50750",
   "metadata": {},
   "outputs": [],
   "source": [
    "def IndexesFromSentence(class_, sentence):\n",
    "    '''\n",
    "    function: 输入句子，按空格分词之后对单词索引\n",
    "    return：单词索引序列\n",
    "    '''\n",
    "    return [class_.word2index[word] for word in sentence.split(' ')]\n",
    "\n",
    "def IndexFromSentence(class_, sentence):\n",
    "    '''\n",
    "    function: 输入句子，按空格分词之后对单词索引\n",
    "    return: 输出的序列==MAX_LENGTH\n",
    "    '''\n",
    "    idx = IndexesFromSentence(class_, sentence)  # 单词索引序列\n",
    "    idx.append(eos_token) # 在结尾增添eos索引\n",
    "    for i in range(MAX_LENGTH - len(idx)):\n",
    "         idx.append(eos_token) # 不知所云\n",
    "    return idx\n",
    "\n",
    "def IndexFromPair(pair):\n",
    "    '''从一个词对到下标, return: 下标对'''\n",
    "    input_variable = IndexFromSentence(input_lang, pair[0])\n",
    "    target_variable = IndexFromSentence(output_lang, pair[1])\n",
    "    return (input_variable, target_variable)\n",
    "\n",
    "def SentenceFromList(class_, lst):\n",
    "    '''单词列表 -> 句子'''\n",
    "    result = [class_.index2word[i] for i in lst if i != eos_token]\n",
    "    return ' '.join(result)"
   ]
  },
  {
   "cell_type": "code",
   "execution_count": 7,
   "id": "b63c025a-585f-462d-816a-92fbbc8225ab",
   "metadata": {},
   "outputs": [],
   "source": [
    "def metrics_acc(pred, labels):\n",
    "    '''\n",
    "    :params pred: predictions\n",
    "    :params labels: y_true\n",
    "    function: 计算正确率\n",
    "    return: （正确数, 总计）\n",
    "    '''\n",
    "    pred = torch.max(pred.data, 1)[1] #  对于任意一行（一个样本）的输出值的第1个维度，将最大的作为预测结果\n",
    "    acc = pred.eq(labels.data).sum() # pred与labels比较，并累计得到正确数\n",
    "    return acc, len(labels)"
   ]
  },
  {
   "cell_type": "code",
   "execution_count": 8,
   "id": "149b7e7a-3044-425a-ba37-91fb4446c02f",
   "metadata": {},
   "outputs": [],
   "source": [
    "#语料标准化处理，将每一行进行zip\n",
    "pairs = [[LowerEngString(fra), LowerEngString(eng)] for fra, eng in zip(french, english)]"
   ]
  },
  {
   "cell_type": "code",
   "execution_count": 9,
   "id": "52ca60bc-dd84-40a1-a3af-7e9df893475d",
   "metadata": {},
   "outputs": [
    {
     "data": {
      "text/plain": [
       "[['va  !', 'go .'],\n",
       " ['cours\\u202f !', 'run !'],\n",
       " ['courez\\u202f !', 'run !'],\n",
       " ['ca alors\\u202f !', 'wow !'],\n",
       " ['au feu  !', 'fire !']]"
      ]
     },
     "execution_count": 9,
     "metadata": {},
     "output_type": "execute_result"
    }
   ],
   "source": [
    "pairs[:5]"
   ]
  },
  {
   "cell_type": "code",
   "execution_count": 10,
   "id": "39689894-c51b-4097-9279-ae59c472f890",
   "metadata": {},
   "outputs": [
    {
     "name": "stdout",
     "output_type": "stream",
     "text": [
      "有效句子对： 7129\n"
     ]
    }
   ],
   "source": [
    "input_lang = Language('French')\n",
    "output_lang = Language('English')\n",
    "pairs = [pair for pair in pairs if FilterPair(pair)]\n",
    "print('有效句子对：', len(pairs))"
   ]
  },
  {
   "cell_type": "code",
   "execution_count": 11,
   "id": "dc188b0e-f452-4f57-bd8a-8e42094857d7",
   "metadata": {},
   "outputs": [
    {
     "name": "stdout",
     "output_type": "stream",
     "text": [
      "总单词数:\n",
      "French: 4202\n",
      "English: 2278\n"
     ]
    }
   ],
   "source": [
    "# 建立两个词典（法文和英文的）\n",
    "for pair in pairs:\n",
    "    input_lang.add_sentence(pair[0])\n",
    "    output_lang.add_sentence(pair[1])\n",
    "print(\"总单词数:\\n{}: {}\\n{}: {}\".format(input_lang.name, input_lang.n_words, output_lang.name, output_lang.n_words))\n"
   ]
  },
  {
   "cell_type": "code",
   "execution_count": 12,
   "id": "03a4ab99-77f9-4335-873b-e02d295b2516",
   "metadata": {},
   "outputs": [],
   "source": [
    "random_idx = np.random.permutation(range(len(pairs)))\n",
    "pairs = [pairs[i] for i in random_idx]  # 打乱所有训练集句子的顺序\n",
    "pairs = [IndexFromPair(pair) for pair in pairs] # 语言转变为单词的编码构成的序列"
   ]
  },
  {
   "cell_type": "code",
   "execution_count": 13,
   "id": "8fc7f0b1-3696-4d45-905f-bb6b27204020",
   "metadata": {},
   "outputs": [
    {
     "data": {
      "text/plain": [
       "[([119, 208, 4104, 14, 1], [104, 765, 2195, 3, 1]),\n",
       " ([20, 226, 530, 14, 1], [65, 82, 93, 3, 1]),\n",
       " ([7, 2201, 14, 1, 1], [190, 1107, 50, 3, 1]),\n",
       " ([2405, 547, 3929, 14, 1], [544, 475, 2074, 3, 1]),\n",
       " ([20, 44, 666, 14, 1], [12, 173, 224, 3, 1])]"
      ]
     },
     "execution_count": 13,
     "metadata": {},
     "output_type": "execute_result"
    }
   ],
   "source": [
    "pairs[:5]"
   ]
  },
  {
   "cell_type": "code",
   "execution_count": 14,
   "id": "ba8b01c5-60eb-433c-aeb1-c558af76a0c3",
   "metadata": {},
   "outputs": [
    {
     "data": {
      "text/plain": [
       "712"
      ]
     },
     "execution_count": 14,
     "metadata": {},
     "output_type": "execute_result"
    }
   ],
   "source": [
    "valid_size = len(pairs) // 10\n",
    "if valid_size > 10000:\n",
    "    valid_size = 10000\n",
    "valid_size # validation set size"
   ]
  },
  {
   "cell_type": "code",
   "execution_count": 15,
   "id": "4c0c1ccf-971c-46b5-b63f-b46a471eb48d",
   "metadata": {},
   "outputs": [
    {
     "name": "stdout",
     "output_type": "stream",
     "text": [
      "训练记录： 6417\n",
      "校验记录： 356\n",
      "测试记录： 356\n"
     ]
    }
   ],
   "source": [
    "pp = pairs\n",
    "pairs = pairs[ : - valid_size] # 训练集\n",
    "valid_pairs = pp[-valid_size : -valid_size // 2] # 验证集集\n",
    "test_pairs = pp[- valid_size // 2 :] # 测试集\n",
    "print('训练记录：', len(pairs))\n",
    "print('校验记录：', len(valid_pairs))\n",
    "print('测试记录：', len(test_pairs))"
   ]
  },
  {
   "cell_type": "code",
   "execution_count": 16,
   "id": "f75f12e5-7086-4cec-861e-7c12612e4a5f",
   "metadata": {},
   "outputs": [],
   "source": [
    "batch_size = 32"
   ]
  },
  {
   "cell_type": "code",
   "execution_count": 17,
   "id": "9e3d77f9-fe20-4ada-9cd8-05ce88f992c9",
   "metadata": {},
   "outputs": [
    {
     "data": {
      "text/plain": [
       "([[119, 208, 4104, 14, 1],\n",
       "  [20, 226, 530, 14, 1],\n",
       "  [7, 2201, 14, 1, 1],\n",
       "  [2405, 547, 3929, 14, 1],\n",
       "  [20, 44, 666, 14, 1]],\n",
       " [[104, 765, 2195, 3, 1],\n",
       "  [65, 82, 93, 3, 1],\n",
       "  [190, 1107, 50, 3, 1],\n",
       "  [544, 475, 2074, 3, 1],\n",
       "  [12, 173, 224, 3, 1]])"
      ]
     },
     "execution_count": 17,
     "metadata": {},
     "output_type": "execute_result"
    }
   ],
   "source": [
    "pairs_X = [pair[0] for pair in pairs]\n",
    "pairs_Y = [pair[1] for pair in pairs]\n",
    "pairs_X[:5], pairs_Y[:5]"
   ]
  },
  {
   "cell_type": "code",
   "execution_count": 18,
   "id": "575863af-ecb7-4ebb-8bce-5785e6ba3871",
   "metadata": {},
   "outputs": [
    {
     "data": {
      "text/plain": [
       "([[401, 344, 2457, 14, 1],\n",
       "  [2393, 128, 7, 14, 1],\n",
       "  [174, 2784, 14, 1, 1],\n",
       "  [57, 802, 1660, 14, 1],\n",
       "  [342, 934, 3744, 14, 1]],\n",
       " [[401, 344, 2457, 14, 1],\n",
       "  [2393, 128, 7, 14, 1],\n",
       "  [174, 2784, 14, 1, 1],\n",
       "  [57, 802, 1660, 14, 1],\n",
       "  [342, 934, 3744, 14, 1]])"
      ]
     },
     "execution_count": 18,
     "metadata": {},
     "output_type": "execute_result"
    }
   ],
   "source": [
    "valid_X = [pair[0] for pair in valid_pairs]\n",
    "valid_Y = [pair[1] for pair in valid_pairs]\n",
    "valid_X[:5], valid_X[:5]"
   ]
  },
  {
   "cell_type": "code",
   "execution_count": 19,
   "id": "a55b41bf-db46-48b8-8f02-8bd5c76d182e",
   "metadata": {},
   "outputs": [
    {
     "data": {
      "text/plain": [
       "([[119, 208, 484, 14, 1],\n",
       "  [23, 1975, 843, 14, 1],\n",
       "  [268, 208, 3032, 14, 1],\n",
       "  [2566, 2567, 3, 4, 1],\n",
       "  [268, 208, 1011, 14, 1]],\n",
       " [[60, 192, 1188, 3, 1],\n",
       "  [12, 408, 427, 3, 1],\n",
       "  [146, 192, 1187, 3, 1],\n",
       "  [71, 194, 1295, 3, 1],\n",
       "  [146, 192, 489, 3, 1]])"
      ]
     },
     "execution_count": 19,
     "metadata": {},
     "output_type": "execute_result"
    }
   ],
   "source": [
    "test_X = [pair[0] for pair in test_pairs]\n",
    "test_Y = [pair[1] for pair in test_pairs]\n",
    "test_X[:5], test_Y[:5]"
   ]
  },
  {
   "cell_type": "code",
   "execution_count": 20,
   "id": "0e01277f-58bf-45b3-a2b8-249a5128d726",
   "metadata": {},
   "outputs": [
    {
     "data": {
      "text/plain": [
       "(tensor([[ 119,  208, 4104,   14,    1],\n",
       "         [  20,  226,  530,   14,    1],\n",
       "         [   7, 2201,   14,    1,    1],\n",
       "         [2405,  547, 3929,   14,    1],\n",
       "         [  20,   44,  666,   14,    1]]),\n",
       " tensor([[ 104,  765, 2195,    3,    1],\n",
       "         [  65,   82,   93,    3,    1],\n",
       "         [ 190, 1107,   50,    3,    1],\n",
       "         [ 544,  475, 2074,    3,    1],\n",
       "         [  12,  173,  224,    3,    1]]))"
      ]
     },
     "execution_count": 20,
     "metadata": {},
     "output_type": "execute_result"
    }
   ],
   "source": [
    "# 利用PyTorch的dataset和dataloader，将数据加载到加载器里面，并且分批\n",
    "# 形成训练集, torch.LongTensor是64位整型\n",
    "train_dataset = DataSet.TensorDataset(torch.LongTensor(pairs_X), torch.LongTensor(pairs_Y)) \n",
    "train_dataset[:5]"
   ]
  },
  {
   "cell_type": "code",
   "execution_count": 21,
   "id": "1cd9a534-8b27-4b27-872d-37d1de07319c",
   "metadata": {},
   "outputs": [
    {
     "data": {
      "text/plain": [
       "<torch.utils.data.dataloader.DataLoader at 0x214a9b66cd0>"
      ]
     },
     "execution_count": 21,
     "metadata": {},
     "output_type": "execute_result"
    }
   ],
   "source": [
    "# 形成数据加载器, 打乱顺序\n",
    "train_loader = DataSet.DataLoader(train_dataset, batch_size = batch_size, shuffle = True, num_workers=8)\n",
    "train_loader"
   ]
  },
  {
   "cell_type": "code",
   "execution_count": 22,
   "id": "34848027-72b7-4da2-88f0-f2eed56618d7",
   "metadata": {},
   "outputs": [
    {
     "data": {
      "text/plain": [
       "<torch.utils.data.dataloader.DataLoader at 0x214a9b66c40>"
      ]
     },
     "execution_count": 22,
     "metadata": {},
     "output_type": "execute_result"
    }
   ],
   "source": [
    "# 验证集\n",
    "valid_dataset = DataSet.TensorDataset(torch.LongTensor(valid_X), torch.LongTensor(valid_Y))\n",
    "valid_loader = DataSet.DataLoader(valid_dataset, batch_size = batch_size, shuffle = True, num_workers=8)\n",
    "valid_loader"
   ]
  },
  {
   "cell_type": "code",
   "execution_count": 23,
   "id": "1cd2f75d-ba92-425f-8e41-8035b5637c93",
   "metadata": {},
   "outputs": [
    {
     "data": {
      "text/plain": [
       "<torch.utils.data.dataloader.DataLoader at 0x214abfb22e0>"
      ]
     },
     "execution_count": 23,
     "metadata": {},
     "output_type": "execute_result"
    }
   ],
   "source": [
    "# 测试集\n",
    "test_dataset = DataSet.TensorDataset(torch.LongTensor(test_X), torch.LongTensor(test_Y))\n",
    "test_loader = DataSet.DataLoader(test_dataset, batch_size = batch_size, shuffle = True, num_workers = 8)\n",
    "test_loader"
   ]
  },
  {
   "cell_type": "code",
   "execution_count": 24,
   "id": "4de4c617-f0a6-45b7-bae8-b8bb752ff432",
   "metadata": {},
   "outputs": [],
   "source": [
    "# Encoder -> Decoder\n",
    "# Encoder: bi-GRU: bidirectional = True \n",
    "# 在编码器中，输入层为一个嵌入（embedding）层，它将每个输入的法文词的 one-hot 编码转化为一个词向量。\n",
    "# RNN对句子的词语进行循环编码\n",
    "# 编码器没有输出层，将 RNN全部隐含单元的输出状态作为解码器输入\n",
    "class EncoderRNN(nn.Module):\n",
    "    '''Encoder - bi-GRU'''\n",
    "    def __init__(self, input_size, hidden_size, num_layers = 1):\n",
    "        super(EncoderRNN, self).__init__()\n",
    "        self.num_layers = num_layers\n",
    "        self.hidden_size = hidden_size\n",
    "        self.embedding = nn.Embedding(input_size, hidden_size) \n",
    "        self.gru = nn.GRU(hidden_size, hidden_size, batch_first = True,\n",
    "                          num_layers = self.num_layers, bidirectional = True)\n",
    "        # batch_first, 将batch_size放在第一维\n",
    "    \n",
    "    def forward(self, input, hidden):\n",
    "        '''\n",
    "        function: feed_forword\n",
    "        :param input: (batch_size, length_seq)\n",
    "        :param hidden: (num_layers * directions, batch_size, hidden_size)\n",
    "        elem: output：(batch_size, length_seq, hidden_size)\n",
    "        return: output, hidden\n",
    "        '''\n",
    "        embedded = self.embedding(input)\n",
    "        output, hidden = self.gru(embedded, hidden)\n",
    "        return output, hidden\n",
    "    \n",
    "    def initHidden(self, batch_size):\n",
    "        '''\n",
    "        function: 隐含单元初始化\n",
    "        return result: (num_layers * num_directions, batch, hidden_size)\n",
    "        '''\n",
    "        result = Variable(torch.zeros(self.num_layers * 2, batch_size, self.hidden_size))\n",
    "        return result.cuda() if use_cuda else result"
   ]
  },
  {
   "cell_type": "code",
   "execution_count": 25,
   "id": "d97f8623-583b-4e87-a961-ef820058db14",
   "metadata": {},
   "outputs": [],
   "source": [
    "# Decoder\n",
    "# 解码器需要设计损失函数\\反向传播算法\n",
    "# 一个嵌入（embedding）层用于将输入的 one-hot 向量转化为词向量，与编码器架构相同的循环神经网络（RNN或LSTM）\n",
    "# softmax 运算来确定所对应的目标语言单词，和计算模型的损失（Loss）以完成反向传播的过程\n",
    "class DecoderRNN(nn.Module):\n",
    "    '''Decoder - bi-GRU'''\n",
    "    def __init__(self, hidden_siz, output_size, num_layers =1):\n",
    "        super(DecoderRNN, self).__init__()\n",
    "        self.num_layers = num_layers\n",
    "        self.hidden_size = hidden_size\n",
    "        self.embedding = nn.Embedding(output_size, hidden_size)\n",
    "        self.gru = nn.GRU(hidden_size, hidden_size, batch_first = True,\n",
    "                        num_layers = self.num_layers, bidirectional = True)\n",
    "        self.dropout = nn.Dropout(0.1)\n",
    "        self.out = nn.Linear(hidden_size * 2, output_size) # 全链接层\n",
    "        self.softmax = nn.LogSoftmax(dim = 1)\n",
    "    \n",
    "    def forward(self, input, hidden):\n",
    "        embedded = self.embedding(input) \n",
    "        # input：(batch_size, length_seq)\n",
    "        # embedded: (batch_size, length_seq, hidden_size)\n",
    "        output = F.relu(embedded)  # 平滑处理\n",
    "        output, hidden = self.gru(output, hidden)\n",
    "        output = self.dropout(output)  \n",
    "        # output：(batch_size, length_seq, hidden_size * directions)\n",
    "        # hidden：(n_layers * directions, batch_size, hidden_size)\n",
    "        output = self.softmax(self.out(output[:, -1, :]))\n",
    "        # (batch_size * output_size)\n",
    "        return output, hidden\n",
    "    \n",
    "    def initHidden(self):\n",
    "        '''\n",
    "        function: 隐含单元初始化\n",
    "        return result: (num_layers * num_directions, batch, hidden_size)\n",
    "        '''\n",
    "        result = Variable(torch.zeros(self.num_layers * 2, batch_size, self.hidden_size))\n",
    "        return result.cuda() if use_cuda else result"
   ]
  },
  {
   "cell_type": "code",
   "execution_count": 26,
   "id": "9889ab6d-697f-4363-b371-aa74a6d7dd5d",
   "metadata": {},
   "outputs": [
    {
     "data": {
      "text/plain": [
       "(EncoderRNN(\n",
       "   (embedding): Embedding(4202, 32)\n",
       "   (gru): GRU(32, 32, batch_first=True, bidirectional=True)\n",
       " ),\n",
       " DecoderRNN(\n",
       "   (embedding): Embedding(2278, 32)\n",
       "   (gru): GRU(32, 32, batch_first=True, bidirectional=True)\n",
       "   (dropout): Dropout(p=0.1, inplace=False)\n",
       "   (out): Linear(in_features=64, out_features=2278, bias=True)\n",
       "   (softmax): LogSoftmax(dim=1)\n",
       " ))"
      ]
     },
     "execution_count": 26,
     "metadata": {},
     "output_type": "execute_result"
    }
   ],
   "source": [
    "hidden_size = 32\n",
    "max_length = MAX_LENGTH\n",
    "n_layers = 1\n",
    "encoder = EncoderRNN(input_lang.n_words, hidden_size, num_layers = n_layers)\n",
    "decoder = DecoderRNN(hidden_size, output_lang.n_words, num_layers = n_layers)\n",
    "encoder, decoder"
   ]
  },
  {
   "cell_type": "code",
   "execution_count": 27,
   "id": "63c33972-377b-4cf0-81e1-2c267a824922",
   "metadata": {},
   "outputs": [],
   "source": [
    "if use_cuda:\n",
    "    encoder = encoder.cuda()\n",
    "    decoder = decoder.cuda()"
   ]
  },
  {
   "cell_type": "code",
   "execution_count": 28,
   "id": "10fd5757-ff7e-4216-9767-ef6a33f45424",
   "metadata": {},
   "outputs": [],
   "source": [
    "learning_rate = 0.0001\n",
    "# 为两个网络分别定义优化器\n",
    "encoder_optimizer = optim.Adam(encoder.parameters(), lr=learning_rate)\n",
    "decoder_optimizer = optim.Adam(decoder.parameters(), lr=learning_rate)"
   ]
  },
  {
   "cell_type": "code",
   "execution_count": 29,
   "id": "bb6fc224-2d2c-4725-8cc9-5a5d30ee8d8d",
   "metadata": {},
   "outputs": [],
   "source": [
    "# 定义损失函数 CrossEntropyLoss()=log_softmax() + NLLLoss() \n",
    "criterion = nn.NLLLoss()\n",
    "# 有 50% 的概率选用这种直接使用正确答案的监督学习方式\n",
    "teacher_forcing_ratio = 0.5 "
   ]
  },
  {
   "cell_type": "code",
   "execution_count": 30,
   "id": "e30d3778-58c2-421f-a2ef-b9f648b1110b",
   "metadata": {},
   "outputs": [],
   "source": [
    "# 用于记录训练中的损失信息，后面绘制图像用\n",
    "plot_losses = []\n",
    "print_loss_total = 0\n",
    "print_loss_avg = 0"
   ]
  },
  {
   "cell_type": "code",
   "execution_count": 39,
   "id": "52fe70b1-64af-4044-832a-2301609f8ad3",
   "metadata": {},
   "outputs": [],
   "source": [
    "def train():\n",
    "    global plot_losses\n",
    "    global print_loss_total\n",
    "    global print_loss_avg\n",
    "    print_loss_total = 0\n",
    "    \n",
    "    for data in train_loader:\n",
    "        input_variable = Variable(data[0]).cuda() if use_cuda else Variable(data[0])\n",
    "        # input_variable: (batch_size, length_seq)\n",
    "        target_variable = Variable(data[1]).cuda() if use_cuda else Variable(data[1])\n",
    "        # target_variable: (batch_size, length_seq)\n",
    "        \n",
    "        encoder_hidden = encoder.initHidden(data[0].size()[0]) # 初始化编码器状态\n",
    "        \n",
    "        encoder_optimizer.zero_grad() # 清空梯度\n",
    "        decoder_optimizer.zero_grad() # 清空梯度\n",
    "        \n",
    "        loss = 0\n",
    "        \n",
    "        encoder_outputs, encoder_hidden = encoder(input_variable, encoder_hidden)\n",
    "        # encoder_outputs: (batch_size, length_seq, hidden_size*direction)\n",
    "        # encoder_hidden: (direction*n_layer, batch_size, hidden_size)\n",
    "        \n",
    "        decoder_input = Variable(torch.LongTensor([[sos_token]] * target_variable.size()[0]))\n",
    "        # decoder_input: (batch_size, length_seq)\n",
    "        decoder_input = decoder_input.cuda() if use_cuda else decoder_input\n",
    "        # decoder_input: (batch_size, length_seq)\n",
    "        \n",
    "        decoder_hidden = encoder_hidden # 继承encoder隐藏单元\n",
    "        # decoder_hidden: (direction*n_layer, batch_size, hidden_size)\n",
    "        \n",
    "        # teacher_forcing_ratio： 用target中的翻译结果作为监督信息 - 50%\n",
    "        use_teacher_forcing = True if random.random() < teacher_forcing_ratio else False\n",
    "        base = torch.zeros(target_variable.size()[0]) \n",
    "        \n",
    "        if use_teacher_forcing: # 如果使用教师监督: 将下一个时间步的监督信息输入给解码器\n",
    "            for di in range(MAX_LENGTH):  # 对时间步循环\n",
    "                \n",
    "                decoder_output, decoder_hidden = decoder(decoder_input, decoder_hidden)\n",
    "                # decoder_ouput：(batch_size, output_size)\n",
    "                \n",
    "                loss += criterion(decoder_output, target_variable[:, di]) # 累计损失\n",
    "                \n",
    "                decoder_input = target_variable[:, di].unsqueeze(1) # 将训练数据当做下一时间步的输入\n",
    "                # decoder_input: (batch_size, length_seq)\n",
    "                \n",
    "        else: # 反之，使用解码器自己的预测作为下一时间步的输入\n",
    "            for di in range(MAX_LENGTH): # 对时间步循环\n",
    "                \n",
    "                decoder_output, decoder_hidden = decoder(decoder_input, decoder_hidden)\n",
    "                #decoder_ouput：(batch_size, output_size(input_size))\n",
    "                \n",
    "                topv, topi = decoder_output.data.topk(1, dim = 1) # 从输出结果中选择出一个数值最大的单词作为输出\n",
    "                # topi：(batch_size, k)\n",
    "                ni = topi[:, 0]\n",
    "                decoder_input = Variable(ni.unsqueeze(1)) \n",
    "                # decoder_input: (batch_size, length_seq)\n",
    "                decoder_input = decoder_input.cuda() if use_cuda else decoder_input\n",
    "                \n",
    "                loss += criterion(decoder_output, target_variable[:, di])  # 累计损失\n",
    "        \n",
    "        loss.backward() # 反向传播\n",
    "        \n",
    "        loss = loss.cpu() if use_cuda else loss\n",
    "        \n",
    "        encoder_optimizer.step() # 梯度下降\n",
    "        decoder_optimizer.step() # 梯度下降\n",
    "        # print(loss.data.numpy())\n",
    "        print_loss_total += loss.data.numpy() # 累加总误差\n",
    "        \n",
    "    print_loss_avg = print_loss_total / len(train_loader)  # 平均误差"
   ]
  },
  {
   "cell_type": "code",
   "execution_count": 32,
   "id": "78e3eb45-6e97-4b80-bcaf-9c30e67149b6",
   "metadata": {},
   "outputs": [],
   "source": [
    "valid_loss = 0\n",
    "rights = []"
   ]
  },
  {
   "cell_type": "code",
   "execution_count": 40,
   "id": "c100d8f9-7910-4ce5-851a-6fe43f9d3cdd",
   "metadata": {},
   "outputs": [],
   "source": [
    "def evaluation():\n",
    "    global valid_loss\n",
    "    global rights\n",
    "    valid_loss = 0\n",
    "    rights = []\n",
    "    \n",
    "    for data in valid_loader: # 验证集\n",
    "        \n",
    "        input_variable = Variable(data[0]).cuda() if use_cuda else Variable(data[0])\n",
    "        # input_variable: (batch_size, length_seq)\n",
    "        target_variable = Variable(data[1]).cuda() if use_cuda else Variable(data[1])\n",
    "        # target_variable: (batch_size, length_seq)\n",
    "        \n",
    "        encoder_hidden = encoder.initHidden(data[0].size()[0])\n",
    "\n",
    "        loss = 0\n",
    "        encoder_outputs, encoder_hidden = encoder(input_variable, encoder_hidden)\n",
    "        # encoder_outputs: (batch_size, length_seq, hidden_size*direction)\n",
    "        # encoder_hidden: (direction*n_layer, batch_size, hidden_size)\n",
    "        \n",
    "        decoder_input = Variable(torch.LongTensor([[sos_token]] * target_variable.size()[0]))\n",
    "        # decoder_input: (batch_size, length_seq)\n",
    "        decoder_input = decoder_input.cuda() if use_cuda else decoder_input\n",
    "        # decoder_input: (batch_size, length_seq)\n",
    "        \n",
    "        decoder_hidden = encoder_hidden # 继承encoder隐藏单元\n",
    "        # decoder_hidden: (direction*n_layer, batch_size, hidden_size)\n",
    "        \n",
    "        # teacher_forcing_ratio： 用target中的翻译结果作为监督信息 - 50%\n",
    "        use_teacher_forcing = True if random.random() < teacher_forcing_ratio else False\n",
    "        \n",
    "        # 没有教师监督使用解码器自己的预测作为下一时间步的输入\n",
    "        for di in range(MAX_LENGTH): # 对时间步循环\n",
    "\n",
    "            decoder_output, decoder_hidden = decoder(decoder_input, decoder_hidden)\n",
    "            #decoder_ouput：(batch_size, output_size(input_size))\n",
    "\n",
    "            topv, topi = decoder_output.data.topk(1, dim = 1) # 从输出结果中选择出一个数值最大的单词作为输出\n",
    "            # topi：(batch_size, k)\n",
    "            ni = topi[:, 0]\n",
    "            decoder_input = Variable(ni.unsqueeze(1)) \n",
    "            # decoder_input: (batch_size, length_seq)\n",
    "            decoder_input = decoder_input.cuda() if use_cuda else decoder_input\n",
    "\n",
    "            right = metrics_acc(decoder_output, target_variable[:, di]) \n",
    "            # right: (猜对个数，总数)\n",
    "            rights.append(right)\n",
    "            \n",
    "            loss += criterion(decoder_output, target_variable[:, di]) # 损失函数\n",
    "            \n",
    "        loss = loss.cpu() if use_cuda else loss\n",
    "        # print(loss)\n",
    "        valid_loss += loss.data.numpy()"
   ]
  },
  {
   "cell_type": "code",
   "execution_count": 42,
   "id": "64ec08a2-7bfd-4eb7-bd60-8fae5bed16c4",
   "metadata": {},
   "outputs": [
    {
     "name": "stdout",
     "output_type": "stream",
     "text": [
      "进程:0, 训练损失:11.3943, 校验损失:13.8531, 词正确率:56.63%\n",
      "进程:1, 训练损失:11.3721, 校验损失:13.8565, 词正确率:57.58%\n",
      "进程:2, 训练损失:11.2954, 校验损失:13.5022, 词正确率:57.58%\n",
      "进程:3, 训练损失:11.2117, 校验损失:13.5722, 词正确率:57.13%\n",
      "进程:4, 训练损失:11.1538, 校验损失:13.6409, 词正确率:56.52%\n",
      "进程:5, 训练损失:11.1451, 校验损失:14.2387, 词正确率:57.42%\n",
      "进程:6, 训练损失:11.0819, 校验损失:13.8633, 词正确率:57.81%\n",
      "进程:7, 训练损失:11.0461, 校验损失:14.0995, 词正确率:57.25%\n",
      "进程:8, 训练损失:11.0188, 校验损失:14.2541, 词正确率:57.58%\n",
      "进程:9, 训练损失:10.9420, 校验损失:13.5143, 词正确率:57.75%\n"
     ]
    }
   ],
   "source": [
    "plot_losses = []\n",
    "num_epoch = 10\n",
    "for epoch in range(num_epoch):\n",
    "    train()\n",
    "    evaluation()\n",
    "    right_ratio = 1.0 * np.sum([i[0] for i in rights]) / np.sum([i[1] for i in rights])\n",
    "    print(f'进程:{epoch}, 训练损失:{print_loss_avg:.4f}, 校验损失:{valid_loss/len(valid_loader):.4f}, 词正确率:{100.0 * right_ratio:.2f}%')\n",
    "    plot_losses.append([print_loss_avg, valid_loss / len(valid_loader), right_ratio])\n",
    "                                                  "
   ]
  },
  {
   "cell_type": "code",
   "execution_count": 43,
   "id": "6cc39bd2-7128-4a3c-be79-d141618cfa90",
   "metadata": {},
   "outputs": [
    {
     "data": {
      "text/plain": [
       "<matplotlib.legend.Legend at 0x214ab3f7b50>"
      ]
     },
     "execution_count": 43,
     "metadata": {},
     "output_type": "execute_result"
    },
    {
     "data": {
      "image/png": "[encoded data removed]",
      "text/plain": [
       "<Figure size 432x288 with 1 Axes>"
      ]
     },
     "metadata": {
      "needs_background": "light"
     },
     "output_type": "display_data"
    }
   ],
   "source": [
    "# 将统计指标绘图\n",
    "a = [i[0] for i in plot_losses]\n",
    "b = [i[1] for i in plot_losses]\n",
    "c = [i[2] * 100 for i in plot_losses]\n",
    "plt.plot(a, '-', label = 'Training Loss',color = '#00338D')\n",
    "plt.plot(b, ':', label = 'Validation Loss', color = 'green')\n",
    "plt.plot(c, '.', label = 'Accuracy', color = 'red')\n",
    "plt.xlabel('Epoch')\n",
    "plt.ylabel('Loss & Accuracy')\n",
    "plt.legend(loc='best')\n"
   ]
  },
  {
   "cell_type": "code",
   "execution_count": 44,
   "id": "f8d229f0-91d7-4da7-906e-9fae9c50be10",
   "metadata": {},
   "outputs": [
    {
     "name": "stderr",
     "output_type": "stream",
     "text": [
      "D:\\anaconda3\\lib\\site-packages\\torch\\serialization.py:786: SourceChangeWarning: source code of class 'torch.nn.modules.sparse.Embedding' has changed. you can retrieve the original source code by accessing the object's source attribute or set `torch.nn.Module.dump_patches = True` and use the patch tool to revert the changes.\n",
      "  warnings.warn(msg, SourceChangeWarning)\n",
      "D:\\anaconda3\\lib\\site-packages\\torch\\serialization.py:786: SourceChangeWarning: source code of class 'torch.nn.modules.rnn.GRU' has changed. you can retrieve the original source code by accessing the object's source attribute or set `torch.nn.Module.dump_patches = True` and use the patch tool to revert the changes.\n",
      "  warnings.warn(msg, SourceChangeWarning)\n",
      "D:\\anaconda3\\lib\\site-packages\\torch\\serialization.py:786: SourceChangeWarning: source code of class 'torch.nn.modules.dropout.Dropout' has changed. you can retrieve the original source code by accessing the object's source attribute or set `torch.nn.Module.dump_patches = True` and use the patch tool to revert the changes.\n",
      "  warnings.warn(msg, SourceChangeWarning)\n",
      "D:\\anaconda3\\lib\\site-packages\\torch\\serialization.py:786: SourceChangeWarning: source code of class 'torch.nn.modules.linear.Linear' has changed. you can retrieve the original source code by accessing the object's source attribute or set `torch.nn.Module.dump_patches = True` and use the patch tool to revert the changes.\n",
      "  warnings.warn(msg, SourceChangeWarning)\n",
      "D:\\anaconda3\\lib\\site-packages\\torch\\serialization.py:786: SourceChangeWarning: source code of class 'torch.nn.modules.activation.LogSoftmax' has changed. you can retrieve the original source code by accessing the object's source attribute or set `torch.nn.Module.dump_patches = True` and use the patch tool to revert the changes.\n",
      "  warnings.warn(msg, SourceChangeWarning)\n"
     ]
    }
   ],
   "source": [
    "# 加载训练过的神经网络模型\n",
    "encoder_ = torch.load('E:\\\\dasein_py\\\\Data Analysis\\\\Deep Learning - Pytorch\\\\Deep Learning - Pytorch\\\\机器翻译的神经网络实现\\\\data\\\\Encoder_normal_cpu.mdl')\n",
    "decoder_ = torch.load('E:\\\\dasein_py\\\\Data Analysis\\\\Deep Learning - Pytorch\\\\Deep Learning - Pytorch\\\\机器翻译的神经网络实现\\\\data\\\\Decoder_normal_cpu.mdl')\n",
    "if use_cuda:\n",
    "    encoder_ = encoder_.cuda()\n",
    "    decoder_ = decoder_.cuda()"
   ]
  },
  {
   "cell_type": "code",
   "execution_count": 45,
   "id": "4d82c17b-74a9-47f4-a304-acbfa62a4855",
   "metadata": {},
   "outputs": [],
   "source": [
    "# 首先，在测试集中随机选择20个句子作为测试\n",
    "indices = np.random.choice(range(len(test_X)), 20)"
   ]
  },
  {
   "cell_type": "code",
   "execution_count": 52,
   "id": "8188794b-dd50-45dd-a5c1-7d773677a78b",
   "metadata": {},
   "outputs": [
    {
     "name": "stdout",
     "output_type": "stream",
     "text": [
      "c'est pratiquement impossible .\n",
      "机器翻译： it's is . .\n",
      "标准翻译： it's nearly impossible .\n",
      "词准确率： 60.0\n",
      "\n",
      "je suis faineant .\n",
      "机器翻译： i'm am .\n",
      "标准翻译： i'm lazy .\n",
      "词准确率： 80.0\n",
      "\n",
      "arrete de geindre .\n",
      "机器翻译： they it .\n",
      "标准翻译： stop whimpering .\n",
      "词准确率： 60.0\n",
      "\n",
      "vous l'avez fait  !\n",
      "机器翻译： you me .\n",
      "标准翻译： you've done it !\n",
      "词准确率： 20.0\n",
      "\n",
      "elles sont medecins .\n",
      "机器翻译： they are .\n",
      "标准翻译： they're doctors .\n",
      "词准确率： 60.0\n",
      "\n",
      "je suis interessee .\n",
      "机器翻译： i'm am .\n",
      "标准翻译： i'm interested .\n",
      "词准确率： 80.0\n",
      "\n",
      "c'est une coincidence .\n",
      "机器翻译： it's a . .\n",
      "标准翻译： that's a coincidence .\n",
      "词准确率： 60.0\n",
      "\n",
      "ils m'ont enleve .\n",
      "机器翻译： they is . .\n",
      "标准翻译： they kidnapped me .\n",
      "词准确率： 60.0\n",
      "\n",
      "j'etais preoccupee .\n",
      "机器翻译： i was it .\n",
      "标准翻译： i was concerned .\n",
      "词准确率： 80.0\n",
      "\n",
      "vous etes inoubliables .\n",
      "机器翻译： you're are .\n",
      "标准翻译： you're unforgettable .\n",
      "词准确率： 80.0\n",
      "\n",
      "je l'ai cause .\n",
      "机器翻译： i like you .\n",
      "标准翻译： i caused this .\n",
      "词准确率： 60.0\n",
      "\n",
      "elle lui pardonna .\n",
      "机器翻译： she she him .\n",
      "标准翻译： she forgave him .\n",
      "词准确率： 80.0\n",
      "\n",
      "elles sont vieilles .\n",
      "机器翻译： they're all .\n",
      "标准翻译： they're old .\n",
      "词准确率： 80.0\n",
      "\n",
      "tom semble perdu .\n",
      "机器翻译： tom is . .\n",
      "标准翻译： tom seems lost .\n",
      "词准确率： 60.0\n",
      "\n",
      "nous sommes perdues .\n",
      "机器翻译： we're are .\n",
      "标准翻译： we're lost .\n",
      "词准确率： 80.0\n",
      "\n",
      "tiens bon  !\n",
      "机器翻译： it is .\n",
      "标准翻译： hang on .\n",
      "词准确率： 60.0\n",
      "\n",
      "sois respectueuse  !\n",
      "机器翻译： be be .\n",
      "标准翻译： be respectful .\n",
      "词准确率： 80.0\n",
      "\n",
      "je deviens folle .\n",
      "机器翻译： i love you .\n",
      "标准翻译： i'm going crazy .\n",
      "词准确率： 40.0\n",
      "\n",
      "c'est laid .\n",
      "机器翻译： it's is .\n",
      "标准翻译： this is ugly .\n",
      "词准确率： 40.0\n",
      "\n",
      "je m'y trouvais .\n",
      "机器翻译： i was . .\n",
      "标准翻译： i was there .\n",
      "词准确率： 80.0\n",
      "\n"
     ]
    }
   ],
   "source": [
    "for item in indices: # 对每个句子进行循环\n",
    "    data = [test_X[item]]\n",
    "    target = [test_Y[item]]\n",
    "    print(SentenceFromList(input_lang, data[0])) # 原句\n",
    "    input_variable = Variable(torch.LongTensor(data)).cuda() if use_cuda else Variable(torch.LongTensor(data))\n",
    "    # input_variable：(batch_size, length_seq)\n",
    "    target_variable = Variable(torch.LongTensor(target)).cuda() if use_cuda else Variable(torch.LongTensor(target))\n",
    "    # target_variable: (batch_size, length_seq)\n",
    "    # 初始化编码器\n",
    "    encoder_hidden = encoder.initHidden(input_variable.size()[0])\n",
    "\n",
    "    loss = 0\n",
    "\n",
    "    encoder_outputs, encoder_hidden = encoder(input_variable, encoder_hidden) # 编码器开始编码，结果存储到了encoder_hidden中\n",
    "    # encoder_outputs：(batch_size, length_seq, hidden_size*direction)\n",
    "    # encoder_hidden：(direction*n_layer, batch_size, hidden_size)\n",
    "\n",
    "    decoder_input = Variable(torch.LongTensor([[sos_token]] * target_variable.size()[0])) # 将sos作为解码器的第一个输入\n",
    "    # decoder_input：(batch_size, length_seq)\n",
    "    decoder_input = decoder_input.cuda() if use_cuda else decoder_input\n",
    "\n",
    "    decoder_hidden = encoder_hidden  # 将编码器的隐含层单元数值拷贝给解码器的隐含层单元\n",
    "    # decoder_hidden：(direction*n_layer, batch_size, hidden_size)\n",
    "\n",
    "    # 没有教师指导下的预测: 使用解码器自己的预测作为解码器下一时刻的输入\n",
    "    output_sentence = []\n",
    "    decoder_attentions = torch.zeros(max_length, max_length)\n",
    "    rights = []\n",
    "   \n",
    "    for di in range(MAX_LENGTH):  # 按照输出字符进行时间步循环\n",
    "\n",
    "        decoder_output, decoder_hidden = decoder(decoder_input, decoder_hidden) # 解码器一个时间步的计算\n",
    "        #decoder_ouput：(batch_size, output_size(input_size))\n",
    "\n",
    "        topv, topi = decoder_output.data.topk(1, dim = 1) # 解码器的输出: 选择第一轴最大项\n",
    "        #topi：（batch_size, k）\n",
    "        ni = topi[:, 0]\n",
    "        decoder_input = Variable(ni.unsqueeze(1))\n",
    "        ni = ni.numpy()[0]\n",
    "\n",
    "        output_sentence.append(ni) # 将本时间步输出的单词编码加到output_sentence里面\n",
    "        # decoder_input：(batch_size, length_seq)\n",
    "        decoder_input = decoder_input.cuda() if use_cuda else decoder_input\n",
    "\n",
    "        right = metrics_acc(decoder_output, target_variable[:, di])  # 计算输出字符的准确度\n",
    "        rights.append(right)\n",
    "        \n",
    "    sentence = SentenceFromList(output_lang, output_sentence) # result\n",
    "\n",
    "    standard = SentenceFromList(output_lang, target[0]) # label\n",
    "\n",
    "\n",
    "    print('机器翻译：', sentence)\n",
    "    print('标准翻译：', standard)\n",
    "  \n",
    "    right_ratio = 1.0 * np.sum([i[0] for i in rights]) / np.sum([i[1] for i in rights])\n",
    "    print('词准确率：', 100.0 * right_ratio)\n",
    "    print('')\n",
    "    "
   ]
  },
  {
   "cell_type": "code",
   "execution_count": 97,
   "id": "da1a4822-8074-47a0-bb00-623fc3922e9a",
   "metadata": {},
   "outputs": [
    {
     "name": "stdout",
     "output_type": "stream",
     "text": [
      "有效句子对： 104674\n",
      "总单词数:\n",
      "French 25316\n",
      "English 12274\n",
      "训练记录： 94674\n",
      "校验记录： 5000\n",
      "测试记录： 5000\n"
     ]
    }
   ],
   "source": [
    "# ATTENTION mechanism\n",
    "MAX_LENGTH = 10\n",
    "batch_size = 32\n",
    "\n",
    "#对英文做标准化处理\n",
    "pairs = [[LowerEngString(fra), LowerEngString(eng)] for fra, eng in zip(french, english)]\n",
    "\n",
    "# 对句子对做过滤，处理掉那些超过MAX_LENGTH长度的句子\n",
    "input_lang = Language('French')\n",
    "output_lang = Language('English')\n",
    "pairs = [pair for pair in pairs if FilterPair(pair)]\n",
    "print('有效句子对：', len(pairs))\n",
    "\n",
    "# 建立两个字典（中文的和英文的）\n",
    "for pair in pairs:\n",
    "    input_lang.add_sentence(pair[0])\n",
    "    output_lang.add_sentence(pair[1])\n",
    "print(\"总单词数:\")\n",
    "print(input_lang.name, input_lang.n_words)\n",
    "print(output_lang.name, output_lang.n_words)\n",
    "\n",
    "\n",
    "# 形成训练集，首先，打乱所有句子的顺序\n",
    "random_idx = np.random.permutation(range(len(pairs)))\n",
    "pairs = [pairs[i] for i in random_idx]\n",
    "\n",
    "# 将语言转变为单词的编码构成的序列\n",
    "pairs = [IndexFromPair(pair) for pair in pairs]\n",
    "\n",
    "# 形成训练集、校验集和测试集\n",
    "valid_size = len(pairs) // 10\n",
    "if valid_size > 10000:\n",
    "    valid_size = 10000\n",
    "\n",
    "valid_pairs = pairs[-valid_size : -valid_size // 2]\n",
    "test_pairs = pairs[- valid_size // 2 :]\n",
    "pairs = pairs[ : - valid_size]\n",
    "\n",
    "# 利用PyTorch的dataset和dataloader对象，将数据加载到加载器里面，并且自动分批\n",
    "\n",
    "batch_size = 32 #一撮包含30个数据记录，这个数字越大，系统在训练的时候，每一个周期处理的数据就越多，这样处理越快，但总的数据量会减少\n",
    "\n",
    "print('训练记录：', len(pairs))\n",
    "print('校验记录：', len(valid_pairs))\n",
    "print('测试记录：', len(test_pairs))\n",
    "\n",
    "# 形成训练对列表，用于喂给train_dataset\n",
    "pairs_X = [pair[0] for pair in pairs]\n",
    "pairs_Y = [pair[1] for pair in pairs]\n",
    "valid_X = [pair[0] for pair in valid_pairs]\n",
    "valid_Y = [pair[1] for pair in valid_pairs]\n",
    "test_X = [pair[0] for pair in test_pairs]\n",
    "test_Y = [pair[1] for pair in test_pairs]\n",
    "\n",
    "\n",
    "# 形成训练集\n",
    "train_dataset = DataSet.TensorDataset(torch.LongTensor(pairs_X), torch.LongTensor(pairs_Y))\n",
    "# 形成数据加载器\n",
    "train_loader = DataSet.DataLoader(train_dataset, batch_size = batch_size, shuffle = True, num_workers=8)\n",
    "\n",
    "\n",
    "# 校验数据\n",
    "valid_dataset = DataSet.TensorDataset(torch.LongTensor(valid_X), torch.LongTensor(valid_Y))\n",
    "valid_loader = DataSet.DataLoader(valid_dataset, batch_size = batch_size, shuffle = True, num_workers=8)\n",
    "\n",
    "# 测试数据\n",
    "test_dataset = DataSet.TensorDataset(torch.LongTensor(test_X), torch.LongTensor(test_Y))\n",
    "test_loader = DataSet.DataLoader(test_dataset, batch_size = batch_size, shuffle = True, num_workers = 8)"
   ]
  },
  {
   "cell_type": "code",
   "execution_count": 133,
   "id": "b0737614-71fb-406d-baa5-ec1c63e92ee5",
   "metadata": {},
   "outputs": [],
   "source": [
    "class AttnDecoderRNN(nn.Module):\n",
    "    '''加入注意力机制的解码器'''\n",
    "    def __init__(self, hidden_size, output_size, n_layers = 1, dropout=0.1, max_length = MAX_LENGTH):\n",
    "        super(AttnDecoderRNN, self).__init__()\n",
    "        self.hidden_size = hidden_size\n",
    "        self.output_size = output_size\n",
    "        self.n_layers = n_layers\n",
    "        self.dropout = dropout\n",
    "        self.max_length = max_length\n",
    "        self.embedding = nn.Embedding(self.output_size, self.hidden_size)\n",
    "        \n",
    "        # 注意力网9络\n",
    "        self.attn = nn.Linear(self.hidden_size * (2*n_layers + 1), self.max_length)\n",
    "        self.attn_combine = nn.Linear(self.hidden_size*3, self.hidden_size)\n",
    "        self.dropout = nn.Dropout(self.dropout)\n",
    "        \n",
    "        # bi-rnn\n",
    "        self.gru = nn.GRU(self.hidden_size, self.hidden_size, bidirectional = True,num_layers = self.n_layers, batch_first = True)\n",
    "        self.out = nn.Linear(self.hidden_size * 2, self.output_size)\n",
    "    \n",
    "    def forward(self, input, hidden, encoder_outputs):\n",
    "        # batch_first\n",
    "        # input: (batch_size, length_seq)\n",
    "        embedded = self.embedding(input)\n",
    "        # embedded: (batch_size, length_seq, hidden_size)\n",
    "        embedded = embedded[:, 0, :]\n",
    "        # embedded: (batch_size, 1, hidden_size)\n",
    "        embedded = self.dropout(embedded)\n",
    "        \n",
    "        # hidden: (direction*n_layer, batch_size, hidden_size)\n",
    "        temp_for_transpose = torch.transpose(hidden, 0, 1).contiguous()\n",
    "        # torch.contiguous()方法首先拷贝了一份张量在内存中的地址，然后将地址按照形状改变后的张量的语义进行排列。\n",
    "        \n",
    "        # temp_for_transpose: (batch_size, direction*n_layer, hidden_size)\n",
    "        temp_for_transpose = temp_for_transpose.view(temp_for_transpose.size()[0], -1)\n",
    "        \n",
    "        # touch.view()方法对张量改变“形状”其实并没有改变张量在内存中真正的形状\n",
    "        hidden_attn = temp_for_transpose\n",
    "        \n",
    "        # hidden_attn: (batch_size, direction*n_layers*hidden_size)\n",
    "        input_to_attention = torch.cat((embedded, hidden_attn), 1)\n",
    "        \n",
    "        # input_to_attention: (batch_size, hidden_size * (1 + direction * n_layers))\n",
    "        attn_weights = F.softmax(self.attn(input_to_attention),dim=1)\n",
    "        # attn_weights：(batch_size, self.max_length)\n",
    "        attn_weights = attn_weights[:, : encoder_outputs.size()[1]] # 当输入数据不标准的时候，对weights截取必要的一段\n",
    "        # attn_weights: (batch_size ,len(encoder_outputs[0])\n",
    "        attn_weights = attn_weights.unsqueeze(1)\n",
    "        # attn_weights: (batch_size , 1, len(encoder_outputs[0])\n",
    "        \n",
    "        # encoder_output：(batch_size, len(encoder_outputs[0]), hidden_size*direction)\n",
    "        attn_applied = torch.bmm(attn_weights, encoder_outputs) \n",
    "        # batch matrix multiply 忽略第一个batch纬度\n",
    "        # attn_applied：(batch_size, 1, hidden_size*direction)\n",
    "        \n",
    "        output = torch.cat((embedded, attn_applied[:,0,:]), 1)\n",
    "        # output: (batch_size, hidden_size*(direction+1))\n",
    "        \n",
    "        output = self.attn_combine(output).unsqueeze(1)\n",
    "        # output：(batch_size, len(encoder_outputs[0], hidden_size)\n",
    "        \n",
    "        output = F.relu(output)\n",
    "        output = self.dropout(output)\n",
    "        output, hidden = self.gru(output, hidden)\n",
    "        # output：(batch_size, length_seq, hidden_size * directions)\n",
    "        # hidden：(n_layers * directions, batch_size, hidden_size)\n",
    "        output = self.out(output[:, -1, :]) \n",
    "        # output：(batch_size * output_size)\n",
    "        output = F.log_softmax(output, dim = 1) # FC\n",
    "        # output：(batch_size * output_size)\n",
    "        return output, hidden, attn_weights\n",
    "    \n",
    "    def initHidden(self, batch_size):\n",
    "        result = Variable(torch.zeros(self.n_layers * 2, batch_size, self.hidden_size))\n",
    "        return result.cuda() if use_cuda else result"
   ]
  },
  {
   "cell_type": "code",
   "execution_count": 123,
   "id": "76900e89-2703-48a0-8538-4a618215d750",
   "metadata": {},
   "outputs": [],
   "source": [
    "# 重新定义解码器架构即可，其他变量不变\n",
    "hidden_size = 32\n",
    "max_length = MAX_LENGTH\n",
    "n_layers = 1\n",
    "encoder = EncoderRNN(input_lang.n_words, hidden_size, num_layers = n_layers)\n",
    "decoder = AttnDecoderRNN(hidden_size, output_lang.n_words, dropout=0.5,max_length = max_length, n_layers = n_layers)"
   ]
  },
  {
   "cell_type": "code",
   "execution_count": null,
   "id": "83bc69a6-edee-45f1-a5cd-cb3bb73bd03e",
   "metadata": {},
   "outputs": [],
   "source": []
  }
 ],
 "metadata": {
  "kernelspec": {
   "display_name": "Python 3 (ipykernel)",
   "language": "python",
   "name": "python3"
  },
  "language_info": {
   "codemirror_mode": {
    "name": "ipython",
    "version": 3
   },
   "file_extension": ".py",
   "mimetype": "text/x-python",
   "name": "python",
   "nbconvert_exporter": "python",
   "pygments_lexer": "ipython3",
   "version": "3.9.7"
  }
 },
 "nbformat": 4,
 "nbformat_minor": 5
}
