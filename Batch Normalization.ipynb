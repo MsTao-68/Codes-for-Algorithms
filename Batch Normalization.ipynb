{
 "cells": [
  {
   "cell_type": "code",
   "execution_count": 1,
   "id": "7498599e-3b56-4c76-a090-bd2c54632fb6",
   "metadata": {},
   "outputs": [],
   "source": [
    "# !usr/bin/python\n",
    "# -*- encoding: utf-8 -*-\n",
    "# Project: Batch Normalization\n",
    "# Author: Tracy Tao\n",
    "# Date: 2022/04/12\n",
    "import torch \n",
    "from torch import nn\n",
    "from torch.nn import functional as F\n",
    "from d2l import torch as d2l"
   ]
  },
  {
   "attachments": {
    "48438208-56b6-454a-b935-7da768586ecf.png": {
     "image/png": "[encoded data removed]"
    },
    "68c05178-e734-46df-bc61-6112685ab01a.png": {
     "image/png": "[encoded data removed]"
    },
    "ebb65794-7655-4436-903e-3689eeed0aad.png": {
     "image/png": "[encoded data removed]"
    }
   },
   "cell_type": "markdown",
   "id": "b4cdb96f-4a53-41f6-b262-e090122e4ed9",
   "metadata": {},
   "source": [
    "- BN可持续加速深层网络的收敛速度.\n",
    "- 为什么需要批量规范化层呢？\n",
    "    1. 数据预处理:标准化, 将参数的量级统一\n",
    "    2. 模型参数的变化和偏移阻碍收敛\n",
    "    3. 复杂深度网络容易过拟合，需要正则化\n",
    "- ![image.png](attachment:ebb65794-7655-4436-903e-3689eeed0aad.png)\n",
    "- ![image.png](attachment:68c05178-e734-46df-bc61-6112685ab01a.png)\n",
    "---\n",
    "- 批量规范层\n",
    "    1. FC：![image.png](attachment:48438208-56b6-454a-b935-7da768586ecf.png)\n",
    "    2. Conv：在每个输出通道的m * p * q个元素上同时执行每个批量规范化.在计算平均值和方差时，我们会收集所有空间位置的值，然后**在给定通道内应用相同的均值和方差**，以便在每个空间位置对值进行规范化。\n",
    "---\n",
    "- 预测过程中的批量规范化\n",
    "    1. 将训练好的模型用于预测时，不需要样本均值中的噪声以及在微批次上估计每个小批次产生的样本方差\n",
    "    2. 需要使用模型对逐个样本进行预测，通过移动平均估算整个训练数据集的样本均值和方差，并在预测时使用"
   ]
  },
  {
   "cell_type": "code",
   "execution_count": 3,
   "id": "3344a25b-44f5-41f6-a07b-069065658385",
   "metadata": {},
   "outputs": [],
   "source": [
    "def BN(X, gamma, beta, moving_mean, moving_var, eps, momentum):\n",
    "    if not torch.is_grad_enabled(): # 判断是训练模式还是预测模式\n",
    "        X_hat = (X - moving_mean) / torch.sqrt(moving_var + eps) # 在预测模式CIA，使用移动平均，考虑噪声\n",
    "    else:\n",
    "        assert len(X.shape) in (2,4) # 限定X的维度范围\n",
    "        if len(X.shape) == 2: # 如果是FC，就计算特征维度上的均值和方差\n",
    "            mean = X.mean(dim = 0) # 如果是FC，就计算特征维度上的均值\n",
    "            var = ((X - mean) **2).mean(dim=0) # 如果是FC，就计算特征维度上的方差\n",
    "        else: # 如果是2维卷积层\n",
    "            mean = X.mean(dim=(0, 2, 3), keepdim= True) # 计算axis=1的上的均值\n",
    "            var = ((X- mean) **2).mean(dim= (0,2,3), keepdim= True)\n",
    "        X_hat = (X -mean) / torch.sqrt(var + eps) # 训练模式\n",
    "        moving_mean = momentum * moving_mean + (1.0 - momentum) * mean\n",
    "        moving_var = momentum * moving_var + (1.0 - momentum) * var\n",
    "    Y= gamma * X_hat + beta # 缩放和移位\n",
    "    return Y, moving_mean.data, moving_var.data"
   ]
  },
  {
   "cell_type": "code",
   "execution_count": 9,
   "id": "2fbe11a5-a314-4b20-831c-ac39f5513489",
   "metadata": {},
   "outputs": [],
   "source": [
    "class BatchNorm(nn.Module):\n",
    "    def __init__(self, num_features, num_dims):\n",
    "        '''\n",
    "        :param num_features: 完全连接层的输出数量或卷积层的输出通道数\n",
    "        :param num_dims: 2表示完全连接层，4表示卷积层\n",
    "        '''\n",
    "        super().__init__()\n",
    "        if num_dims == 2:\n",
    "            shape = (1, num_features)\n",
    "        else:\n",
    "            shape = (1, num_features, 1, 1)\n",
    "        self.gamma = nn.Parameter(torch.ones(shape)) # 拉伸参数，初始化为1\n",
    "        self.beta = nn.Parameter(torch.zeros(shape)) # 偏移参数，初始化为0\n",
    "        self.moving_mean = torch.zeros(shape) # 非参数：移动平均，初始化为0\n",
    "        self.moving_var = torch.ones(shape) # 非参数：移动方差，初始化为1\n",
    "    \n",
    "    def forward(self, X):\n",
    "        if self.moving_mean.device != X.device:\n",
    "            self.moving_mean = self.moving_mean.to(X.device)\n",
    "            self.moving_var = self.moving_var.to(X.device)\n",
    "        Y, self.moving_mean, self.moving_var = BN(X,\n",
    "                                                  self.gamma,\n",
    "                                                  self.beta,\n",
    "                                                  self.moving_mean,\n",
    "                                                  self.moving_var,\n",
    "                                                  eps = 1e-5,\n",
    "                                                  momentum = 0.9)\n",
    "        return Y"
   ]
  },
  {
   "cell_type": "code",
   "execution_count": 12,
   "id": "e0cdd8fb-7002-4500-a1d8-4f5820f91d64",
   "metadata": {},
   "outputs": [],
   "source": [
    "# LeNet\n",
    "net = nn.Sequential(\n",
    "    nn.Conv2d(1, 6, kernel_size=5), BatchNorm(6, num_dims=4), nn.Sigmoid(),\n",
    "    nn.AvgPool2d(kernel_size=2, stride=2),\n",
    "    nn.Conv2d(6, 16, kernel_size=5), BatchNorm(16, num_dims=4), nn.Sigmoid(),\n",
    "    nn.AvgPool2d(kernel_size=2, stride=2), nn.Flatten(),\n",
    "    nn.Linear(16*4*4, 120), BatchNorm(120, num_dims=2), nn.Sigmoid(),\n",
    "    nn.Linear(120, 84), BatchNorm(84, num_dims=2), nn.Sigmoid(),\n",
    "    nn.Linear(84, 10))"
   ]
  },
  {
   "cell_type": "code",
   "execution_count": 13,
   "id": "8de8dfda-5c60-42b8-bc62-f633c09fe62b",
   "metadata": {},
   "outputs": [],
   "source": [
    "# DL module\n",
    "net = nn.Sequential(nn.Conv2d(1,6, kernel_size = 5), nn.BatchNorm2d(6), nn.Sigmoid(),\n",
    "                    nn.AvgPool2d(kernel_size = 2, stride = 2),\n",
    "                    nn.Conv2d(1,6, kernel_size = 5), nn.BatchNorm2d(16), nn.Sigmoid(),\n",
    "                    nn.AvgPool2d(kernel_size = 2, stride = 2), nn.Flatten(),\n",
    "                    nn.Linear(256, 120), nn.BatchNorm1d(120), nn.Sigmoid(),\n",
    "                    nn.Linear(120, 84), nn.BatchNorm1d(84), nn.Sigmoid(),\n",
    "                    nn.Linear(84, 10))\n",
    "                    "
   ]
  },
  {
   "cell_type": "code",
   "execution_count": null,
   "id": "dc07dc96-8311-4608-aa2b-bc0e7db838c1",
   "metadata": {},
   "outputs": [],
   "source": []
  }
 ],
 "metadata": {
  "kernelspec": {
   "display_name": "Python 3 (ipykernel)",
   "language": "python",
   "name": "python3"
  },
  "language_info": {
   "codemirror_mode": {
    "name": "ipython",
    "version": 3
   },
   "file_extension": ".py",
   "mimetype": "text/x-python",
   "name": "python",
   "nbconvert_exporter": "python",
   "pygments_lexer": "ipython3",
   "version": "3.9.7"
  }
 },
 "nbformat": 4,
 "nbformat_minor": 5
}
