{
 "cells": [
  {
   "cell_type": "code",
   "execution_count": 33,
   "id": "53b7f911-4f47-4123-9d52-56a9a6a924e6",
   "metadata": {},
   "outputs": [
    {
     "data": {
      "text/html": [
       "<div>\n",
       "<style scoped>\n",
       "    .dataframe tbody tr th:only-of-type {\n",
       "        vertical-align: middle;\n",
       "    }\n",
       "\n",
       "    .dataframe tbody tr th {\n",
       "        vertical-align: top;\n",
       "    }\n",
       "\n",
       "    .dataframe thead th {\n",
       "        text-align: right;\n",
       "    }\n",
       "</style>\n",
       "<table border=\"1\" class=\"dataframe\">\n",
       "  <thead>\n",
       "    <tr style=\"text-align: right;\">\n",
       "      <th></th>\n",
       "      <th>comment</th>\n",
       "    </tr>\n",
       "  </thead>\n",
       "  <tbody>\n",
       "    <tr>\n",
       "      <th>0</th>\n",
       "      <td>整体评价：清纯可爱 包装与外观：卡哇伊 持久情况：很持久 上妆效果：美哒哒</td>\n",
       "    </tr>\n",
       "    <tr>\n",
       "      <th>1</th>\n",
       "      <td>收到比很多图片拍的看上去小。。好可爱吖 好想笑😂😂里面的腮红看上去质量很好的样子 铁皮质感也好👍</td>\n",
       "    </tr>\n",
       "    <tr>\n",
       "      <th>2</th>\n",
       "      <td>小小一个，方便携带～</td>\n",
       "    </tr>\n",
       "    <tr>\n",
       "      <th>3</th>\n",
       "      <td>很q很可爱的腮红 颜色还可以 滋润度也不错</td>\n",
       "    </tr>\n",
       "    <tr>\n",
       "      <th>4</th>\n",
       "      <td>很q很可爱的腮红 颜色还可以 滋润度也不错</td>\n",
       "    </tr>\n",
       "  </tbody>\n",
       "</table>\n",
       "</div>"
      ],
      "text/plain": [
       "                                            comment\n",
       "0             整体评价：清纯可爱 包装与外观：卡哇伊 持久情况：很持久 上妆效果：美哒哒\n",
       "1  收到比很多图片拍的看上去小。。好可爱吖 好想笑😂😂里面的腮红看上去质量很好的样子 铁皮质感也好👍\n",
       "2                                        小小一个，方便携带～\n",
       "3                             很q很可爱的腮红 颜色还可以 滋润度也不错\n",
       "4                             很q很可爱的腮红 颜色还可以 滋润度也不错"
      ]
     },
     "execution_count": 33,
     "metadata": {},
     "output_type": "execute_result"
    }
   ],
   "source": [
    "import emoji\n",
    "import re\n",
    "import snownlp\n",
    "from snownlp import SnowNLP\n",
    "import pandas as pd\n",
    "sh = pd.read_csv('E:\\\\dasein_py\\\\Saihong.csv',index_col=0,delimiter=\"\\t\",header=0)\n",
    "sh = sh.reset_index()\n",
    "sh.head(5)"
   ]
  },
  {
   "cell_type": "code",
   "execution_count": 34,
   "id": "1421cc42-5465-40b3-ad67-ba5364612156",
   "metadata": {},
   "outputs": [],
   "source": [
    "import emoji\n",
    "sh['comment'] = sh['comment'].apply(lambda x: re.sub(':\\S+?:', ' ', emoji.demojize(x)))\n",
    "sh.drop_duplicates(inplace=True)\n",
    "sh.head(5)"
   ]
  },
  {
   "cell_type": "code",
   "execution_count": 35,
   "id": "0bd79424-9d1b-4f47-9ece-0fae1bb49dc9",
   "metadata": {},
   "outputs": [],
   "source": [
    "sh['emotion'] = sh['comment'].apply(lambda x: SnowNLP(x).sentiments)"
   ]
  },
  {
   "cell_type": "code",
   "execution_count": 36,
   "id": "fda76523-474b-42ec-9f32-59f273115fcc",
   "metadata": {},
   "outputs": [],
   "source": [
    "import jieba\n",
    "import json\n",
    "\n",
    "\n",
    "# 读取停用词列表\n",
    "def get_stopword_list(file):\n",
    "    with open(file, 'r', encoding='utf-8') as f:    # \n",
    "        stopword_list = [word.strip('\\n') for word in f.readlines()]\n",
    "    return stopword_list\n",
    "\n",
    "\n",
    "# 分词 然后清除停用词语\n",
    "def clean_stopword(str, stopword_list):\n",
    "    result = ''\n",
    "    word_list = jieba.lcut(str)   # 分词后返回一个列表  jieba.cut(）   返回的是一个迭代器\n",
    "    for w in word_list:\n",
    "        if w not in stopword_list:\n",
    "            result += w\n",
    "    return result\n",
    "stopword_file = 'E:\\\\dasein_py\\\\hit_stopwords.txt'\n",
    "stopword_list = get_stopword_list(stopword_file)    # 获得停用词列表"
   ]
  },
  {
   "cell_type": "code",
   "execution_count": 37,
   "id": "d2e269fe-0982-4404-affa-47586717b479",
   "metadata": {},
   "outputs": [
    {
     "data": {
      "text/html": [
       "<div>\n",
       "<style scoped>\n",
       "    .dataframe tbody tr th:only-of-type {\n",
       "        vertical-align: middle;\n",
       "    }\n",
       "\n",
       "    .dataframe tbody tr th {\n",
       "        vertical-align: top;\n",
       "    }\n",
       "\n",
       "    .dataframe thead th {\n",
       "        text-align: right;\n",
       "    }\n",
       "</style>\n",
       "<table border=\"1\" class=\"dataframe\">\n",
       "  <thead>\n",
       "    <tr style=\"text-align: right;\">\n",
       "      <th></th>\n",
       "      <th>comment</th>\n",
       "      <th>emotion</th>\n",
       "    </tr>\n",
       "  </thead>\n",
       "  <tbody>\n",
       "    <tr>\n",
       "      <th>0</th>\n",
       "      <td>整体评价清纯可爱 包装外观卡哇伊 持久情况很持久 上妆效果美哒哒</td>\n",
       "      <td>0.997773</td>\n",
       "    </tr>\n",
       "    <tr>\n",
       "      <th>1</th>\n",
       "      <td>收到很多图片拍看上去小好可爱吖 好想笑  里面腮红看上去质量很好样子 铁皮质感</td>\n",
       "      <td>0.999815</td>\n",
       "    </tr>\n",
       "    <tr>\n",
       "      <th>2</th>\n",
       "      <td>小小方便携带</td>\n",
       "      <td>0.889111</td>\n",
       "    </tr>\n",
       "    <tr>\n",
       "      <th>3</th>\n",
       "      <td>很q很可爱腮红 颜色还 滋润度不错</td>\n",
       "      <td>0.998834</td>\n",
       "    </tr>\n",
       "    <tr>\n",
       "      <th>5</th>\n",
       "      <td>好迷你不是干粉腮红颜色还行便宜看上包装买很可爱</td>\n",
       "      <td>0.995648</td>\n",
       "    </tr>\n",
       "    <tr>\n",
       "      <th>...</th>\n",
       "      <td>...</td>\n",
       "      <td>...</td>\n",
       "    </tr>\n",
       "    <tr>\n",
       "      <th>434</th>\n",
       "      <td>颜色很淡雅适合新手</td>\n",
       "      <td>0.907023</td>\n",
       "    </tr>\n",
       "    <tr>\n",
       "      <th>435</th>\n",
       "      <td>颜色超好看</td>\n",
       "      <td>0.728134</td>\n",
       "    </tr>\n",
       "    <tr>\n",
       "      <th>436</th>\n",
       "      <td>小小一颗 好可爱</td>\n",
       "      <td>0.933894</td>\n",
       "    </tr>\n",
       "    <tr>\n",
       "      <th>438</th>\n",
       "      <td>很好看 真的好小一只</td>\n",
       "      <td>0.891940</td>\n",
       "    </tr>\n",
       "    <tr>\n",
       "      <th>439</th>\n",
       "      <td>拍出来颜色偏橘实际上偏橘嫩粉色比较元气日系少女</td>\n",
       "      <td>0.741682</td>\n",
       "    </tr>\n",
       "  </tbody>\n",
       "</table>\n",
       "<p>375 rows × 2 columns</p>\n",
       "</div>"
      ],
      "text/plain": [
       "                                      comment   emotion\n",
       "0            整体评价清纯可爱 包装外观卡哇伊 持久情况很持久 上妆效果美哒哒  0.997773\n",
       "1    收到很多图片拍看上去小好可爱吖 好想笑  里面腮红看上去质量很好样子 铁皮质感   0.999815\n",
       "2                                      小小方便携带  0.889111\n",
       "3                           很q很可爱腮红 颜色还 滋润度不错  0.998834\n",
       "5                     好迷你不是干粉腮红颜色还行便宜看上包装买很可爱  0.995648\n",
       "..                                        ...       ...\n",
       "434                                 颜色很淡雅适合新手  0.907023\n",
       "435                                     颜色超好看  0.728134\n",
       "436                                  小小一颗 好可爱  0.933894\n",
       "438                                很好看 真的好小一只  0.891940\n",
       "439                   拍出来颜色偏橘实际上偏橘嫩粉色比较元气日系少女  0.741682\n",
       "\n",
       "[375 rows x 2 columns]"
      ]
     },
     "execution_count": 37,
     "metadata": {},
     "output_type": "execute_result"
    }
   ],
   "source": [
    "sh['comment'] = sh['comment'].apply(lambda x: clean_stopword(x, stopword_list))\n",
    "sh"
   ]
  },
  {
   "cell_type": "code",
   "execution_count": 40,
   "id": "dadd6e8b-8e53-4b7a-aa84-ac66910757f2",
   "metadata": {},
   "outputs": [
    {
     "data": {
      "image/png": "[encoded data removed]",
      "text/plain": [
       "<Figure size 800x480 with 1 Axes>"
      ]
     },
     "metadata": {
      "needs_background": "light"
     },
     "output_type": "display_data"
    }
   ],
   "source": [
    "import matplotlib.pyplot as plt\n",
    "plt.rcParams['font.sans-serif'] = ['SimHei']\n",
    "plt.rcParams['axes.unicode_minus'] = False\n",
    "%matplotlib inline\n",
    "import numpy as np\n",
    "bins = np.arange(0,1.1,0.1)\t#设置区间\n",
    "plt.figure(figsize=(10,6),dpi=80)\n",
    "plt.hist(sh['emotion'],bins,color='#00338D',alpha=1)\n",
    "plt.xlim(0,1)\n",
    "plt.xlabel('腮红分析指数')\n",
    "plt.ylabel('淘宝评论数量')\n",
    "plt.title('淘宝 - 腮红情感分析直方图')\n",
    "# plt.savefig('淘宝 - 腮红情感分析直方图.png')\n",
    "plt.show()"
   ]
  },
  {
   "cell_type": "code",
   "execution_count": 41,
   "id": "9417f23e-c2f6-43df-9f7c-e2e14c377780",
   "metadata": {},
   "outputs": [
    {
     "name": "stdout",
     "output_type": "stream",
     "text": [
      "积极数据为：268\n",
      "消极数据为：107\n"
     ]
    }
   ],
   "source": [
    "pos,neg = 0,0\n",
    "for  i in sh['emotion']:\n",
    "\tif i >= 0.5:\n",
    "\t\tpos += 1\n",
    "\telse:\n",
    "\t\tneg += 1\n",
    "print(f'积极数据为：{pos}' + '\\n' + f'消极数据为：{neg}')"
   ]
  },
  {
   "cell_type": "code",
   "execution_count": 42,
   "id": "47a7b9d8-3702-4400-8202-eab395f0fe3f",
   "metadata": {},
   "outputs": [
    {
     "data": {
      "image/png": "[encoded data removed]",
      "text/plain": [
       "<Figure size 640x640 with 1 Axes>"
      ]
     },
     "metadata": {},
     "output_type": "display_data"
    }
   ],
   "source": [
    "pie_labels = '积极','消极'\n",
    "fig = plt.figure('腮红积极与消极情感占比', figsize=(8, 8),dpi=80)\n",
    "plt.pie([pos,neg],\n",
    "        labels=pie_labels,\n",
    "        autopct='%1.2f%%',\n",
    "        shadow=True,\n",
    "        colors=['#00338D','grey'],\n",
    "       explode=[0.15,0])\n",
    "plt.legend( loc = 'upper right',bbox_to_anchor=(1.1, 1.05), fontsize=9)\n",
    "plt.title('腮红积极与消极情感占比')\n",
    "# plt.savefig('腮红积极与消极情感占比.png')\n",
    "plt.show()"
   ]
  },
  {
   "cell_type": "code",
   "execution_count": null,
   "id": "689afa74-7a11-4e58-95ed-6d8c4cc9997c",
   "metadata": {},
   "outputs": [],
   "source": []
  }
 ],
 "metadata": {
  "kernelspec": {
   "display_name": "Python 3 (ipykernel)",
   "language": "python",
   "name": "python3"
  },
  "language_info": {
   "codemirror_mode": {
    "name": "ipython",
    "version": 3
   },
   "file_extension": ".py",
   "mimetype": "text/x-python",
   "name": "python",
   "nbconvert_exporter": "python",
   "pygments_lexer": "ipython3",
   "version": "3.9.7"
  }
 },
 "nbformat": 4,
 "nbformat_minor": 5
}
