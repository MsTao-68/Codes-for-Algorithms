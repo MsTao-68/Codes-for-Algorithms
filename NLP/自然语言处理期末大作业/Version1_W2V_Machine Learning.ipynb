{
 "cells": [
  {
   "cell_type": "markdown",
   "metadata": {
    "papermill": {
     "duration": 0.026539,
     "end_time": "2021-11-01T08:18:48.080443",
     "exception": false,
     "start_time": "2021-11-01T08:18:48.053904",
     "status": "completed"
    },
    "tags": []
   },
   "source": [
    "# 导入packages"
   ]
  },
  {
   "cell_type": "code",
   "execution_count": 1,
   "metadata": {
    "_cell_guid": "b1076dfc-b9ad-4769-8c92-a6c4dae69d19",
    "_uuid": "8f2839f25d086af736a60e9eeb907d3b93b6e0e5",
    "papermill": {
     "duration": 7.749789,
     "end_time": "2021-11-01T08:18:55.855298",
     "exception": false,
     "start_time": "2021-11-01T08:18:48.105509",
     "status": "completed"
    },
    "tags": []
   },
   "outputs": [],
   "source": [
    "import warnings\n",
    "warnings.filterwarnings('ignore')\n",
    "import numpy as np\n",
    "import pandas as pd\n",
    "import re\n",
    "import os\n",
    "import html\n",
    "import matplotlib.pyplot as plt\n",
    "import seaborn as sb\n",
    "\n",
    "from nltk import word_tokenize\n",
    "from nltk.corpus import stopwords\n",
    "from nltk.stem import WordNetLemmatizer\n",
    "from gensim.models import Word2Vec, Phrases\n",
    "from sklearn.model_selection import train_test_split\n"
   ]
  },
  {
   "cell_type": "code",
   "execution_count": 2,
   "metadata": {
    "papermill": {
     "duration": 0.251049,
     "end_time": "2021-11-01T08:18:56.130844",
     "exception": false,
     "start_time": "2021-11-01T08:18:55.879795",
     "status": "completed"
    },
    "tags": []
   },
   "outputs": [],
   "source": [
    "from sklearn.metrics import accuracy_score, precision_score, recall_score, f1_score\n",
    "from sklearn.metrics import confusion_matrix, classification_report\n",
    "from sklearn.ensemble import RandomForestClassifier\n",
    "from scipy.sparse import hstack # 水平堆叠稀疏矩阵(按列)\n",
    "from sklearn.feature_extraction.text import TfidfVectorizer #把原始文本转化为tf-idf的特征矩阵，文本相似度计算\n",
    "from sklearn.linear_model import LogisticRegression\n",
    "from sklearn.model_selection import train_test_split\n",
    "from xgboost import XGBClassifier\n",
    "from sklearn.metrics import roc_curve, auc\n",
    "from sklearn.model_selection import GridSearchCV\n",
    "\n",
    "\n",
    "xgb = XGBClassifier()\n",
    "lr = LogisticRegression()\n",
    "r = RandomForestClassifier()\n",
    "\n",
    "\n",
    "\n",
    "# other_params = {'learning_rate': 0.1, 'n_estimators': 100, 'max_depth': 5, 'min_child_weight': 1, 'seed': 0,\n",
    "#                     'subsample': 0.8, 'colsample_bytree': 0.8, 'gamma': 0, 'reg_alpha': 0, 'reg_lambda': 1}\n",
    "\n",
    "# param_test1 = {\n",
    "#  'max_depth':list(range(2,6,9)),\n",
    "#  'min_child_weight':list(range(2,4,6))\n",
    "# }\n",
    "\n",
    "# xgb1 = XGBClassifier(**other_params)\n",
    "# gs1 = GridSearchCV(xgb1,param_test1,cv = 5,scoring = 'roc_auc',n_jobs = -1,verbose=2)\n",
    "# best_model1=gs1.fit(x_train.values, y_train.values.reshape(-1))\n",
    "# print('最优参数：',best_model1.best_params_)\n",
    "# print('最佳模型得分：',best_model1.best_score_)"
   ]
  },
  {
   "cell_type": "markdown",
   "metadata": {
    "papermill": {
     "duration": 0.023631,
     "end_time": "2021-11-01T08:18:56.178722",
     "exception": false,
     "start_time": "2021-11-01T08:18:56.155091",
     "status": "completed"
    },
    "tags": []
   },
   "source": [
    "# 导入数据：数据探索性分析"
   ]
  },
  {
   "cell_type": "code",
   "execution_count": 40,
   "metadata": {
    "papermill": {
     "duration": 5.446792,
     "end_time": "2021-11-01T08:19:01.649656",
     "exception": false,
     "start_time": "2021-11-01T08:18:56.202864",
     "status": "completed"
    },
    "tags": []
   },
   "outputs": [
    {
     "name": "stderr",
     "output_type": "stream",
     "text": [
      "b'Skipping line 43043: expected 2 fields, saw 3\\n'\n"
     ]
    }
   ],
   "source": [
    "# 本地路径\n",
    "train=pd.read_csv(\"E:/dasein_py/Data Analysis/nlp 大作业/IMDB/labeledTrainData.tsv\",'\\t', error_bad_lines= False)\n",
    "test=pd.read_csv(\"E:/dasein_py/Data Analysis/nlp 大作业/IMDB/testData.tsv\",\"\\t\", error_bad_lines=False)\n",
    "unlabeled = pd.read_csv(\"E:/dasein_py/Data Analysis/nlp 大作业/IMDB/unlabeledTrainData.tsv\", \"\\t\", error_bad_lines=False)\n",
    "# 在线路径 ../input/word2vec-nlp-tutorial/labeledTrainData.tsv.zip\n",
    "# train=pd.read_csv(\"../input/word2vec-nlp-tutorial/labeledTrainData.tsv.zip\",'\\t', error_bad_lines= False)\n",
    "# test=pd.read_csv(\"../input/word2vec-nlp-tutorial/testData.tsv.zip\",\"\\t\", error_bad_lines=False)\n",
    "# unlabeled = pd.read_csv(\"../input/word2vec-nlp-tutorial/unlabeledTrainData.tsv.zip\", \"\\t\", error_bad_lines=False)"
   ]
  },
  {
   "cell_type": "code",
   "execution_count": 4,
   "metadata": {
    "papermill": {
     "duration": 5.446792,
     "end_time": "2021-11-01T08:19:01.649656",
     "exception": false,
     "start_time": "2021-11-01T08:18:56.202864",
     "status": "completed"
    },
    "tags": []
   },
   "outputs": [
    {
     "data": {
      "text/html": [
       "<div>\n",
       "<style scoped>\n",
       "    .dataframe tbody tr th:only-of-type {\n",
       "        vertical-align: middle;\n",
       "    }\n",
       "\n",
       "    .dataframe tbody tr th {\n",
       "        vertical-align: top;\n",
       "    }\n",
       "\n",
       "    .dataframe thead th {\n",
       "        text-align: right;\n",
       "    }\n",
       "</style>\n",
       "<table border=\"1\" class=\"dataframe\">\n",
       "  <thead>\n",
       "    <tr style=\"text-align: right;\">\n",
       "      <th></th>\n",
       "      <th>id</th>\n",
       "      <th>sentiment</th>\n",
       "      <th>review</th>\n",
       "    </tr>\n",
       "  </thead>\n",
       "  <tbody>\n",
       "    <tr>\n",
       "      <th>0</th>\n",
       "      <td>5814_8</td>\n",
       "      <td>1</td>\n",
       "      <td>With all this stuff going down at the moment w...</td>\n",
       "    </tr>\n",
       "    <tr>\n",
       "      <th>1</th>\n",
       "      <td>2381_9</td>\n",
       "      <td>1</td>\n",
       "      <td>\\The Classic War of the Worlds\\\" by Timothy Hi...</td>\n",
       "    </tr>\n",
       "    <tr>\n",
       "      <th>2</th>\n",
       "      <td>7759_3</td>\n",
       "      <td>0</td>\n",
       "      <td>The film starts with a manager (Nicholas Bell)...</td>\n",
       "    </tr>\n",
       "    <tr>\n",
       "      <th>3</th>\n",
       "      <td>3630_4</td>\n",
       "      <td>0</td>\n",
       "      <td>It must be assumed that those who praised this...</td>\n",
       "    </tr>\n",
       "    <tr>\n",
       "      <th>4</th>\n",
       "      <td>9495_8</td>\n",
       "      <td>1</td>\n",
       "      <td>Superbly trashy and wondrously unpretentious 8...</td>\n",
       "    </tr>\n",
       "  </tbody>\n",
       "</table>\n",
       "</div>"
      ],
      "text/plain": [
       "       id  sentiment                                             review\n",
       "0  5814_8          1  With all this stuff going down at the moment w...\n",
       "1  2381_9          1  \\The Classic War of the Worlds\\\" by Timothy Hi...\n",
       "2  7759_3          0  The film starts with a manager (Nicholas Bell)...\n",
       "3  3630_4          0  It must be assumed that those who praised this...\n",
       "4  9495_8          1  Superbly trashy and wondrously unpretentious 8..."
      ]
     },
     "execution_count": 4,
     "metadata": {},
     "output_type": "execute_result"
    }
   ],
   "source": [
    "train.head()"
   ]
  },
  {
   "cell_type": "code",
   "execution_count": 5,
   "metadata": {
    "papermill": {
     "duration": 5.446792,
     "end_time": "2021-11-01T08:19:01.649656",
     "exception": false,
     "start_time": "2021-11-01T08:18:56.202864",
     "status": "completed"
    },
    "tags": []
   },
   "outputs": [
    {
     "data": {
      "text/html": [
       "<div>\n",
       "<style scoped>\n",
       "    .dataframe tbody tr th:only-of-type {\n",
       "        vertical-align: middle;\n",
       "    }\n",
       "\n",
       "    .dataframe tbody tr th {\n",
       "        vertical-align: top;\n",
       "    }\n",
       "\n",
       "    .dataframe thead th {\n",
       "        text-align: right;\n",
       "    }\n",
       "</style>\n",
       "<table border=\"1\" class=\"dataframe\">\n",
       "  <thead>\n",
       "    <tr style=\"text-align: right;\">\n",
       "      <th></th>\n",
       "      <th>id</th>\n",
       "      <th>review</th>\n",
       "    </tr>\n",
       "  </thead>\n",
       "  <tbody>\n",
       "    <tr>\n",
       "      <th>0</th>\n",
       "      <td>12311_10</td>\n",
       "      <td>Naturally in a film who's main themes are of m...</td>\n",
       "    </tr>\n",
       "    <tr>\n",
       "      <th>1</th>\n",
       "      <td>8348_2</td>\n",
       "      <td>This movie is a disaster within a disaster fil...</td>\n",
       "    </tr>\n",
       "    <tr>\n",
       "      <th>2</th>\n",
       "      <td>5828_4</td>\n",
       "      <td>All in all, this is a movie for kids. We saw i...</td>\n",
       "    </tr>\n",
       "    <tr>\n",
       "      <th>3</th>\n",
       "      <td>7186_2</td>\n",
       "      <td>Afraid of the Dark left me with the impression...</td>\n",
       "    </tr>\n",
       "    <tr>\n",
       "      <th>4</th>\n",
       "      <td>12128_7</td>\n",
       "      <td>A very accurate depiction of small time mob li...</td>\n",
       "    </tr>\n",
       "  </tbody>\n",
       "</table>\n",
       "</div>"
      ],
      "text/plain": [
       "         id                                             review\n",
       "0  12311_10  Naturally in a film who's main themes are of m...\n",
       "1    8348_2  This movie is a disaster within a disaster fil...\n",
       "2    5828_4  All in all, this is a movie for kids. We saw i...\n",
       "3    7186_2  Afraid of the Dark left me with the impression...\n",
       "4   12128_7  A very accurate depiction of small time mob li..."
      ]
     },
     "execution_count": 5,
     "metadata": {},
     "output_type": "execute_result"
    }
   ],
   "source": [
    "test.head()"
   ]
  },
  {
   "cell_type": "code",
   "execution_count": 6,
   "metadata": {
    "papermill": {
     "duration": 5.446792,
     "end_time": "2021-11-01T08:19:01.649656",
     "exception": false,
     "start_time": "2021-11-01T08:18:56.202864",
     "status": "completed"
    },
    "tags": []
   },
   "outputs": [
    {
     "data": {
      "text/html": [
       "<div>\n",
       "<style scoped>\n",
       "    .dataframe tbody tr th:only-of-type {\n",
       "        vertical-align: middle;\n",
       "    }\n",
       "\n",
       "    .dataframe tbody tr th {\n",
       "        vertical-align: top;\n",
       "    }\n",
       "\n",
       "    .dataframe thead th {\n",
       "        text-align: right;\n",
       "    }\n",
       "</style>\n",
       "<table border=\"1\" class=\"dataframe\">\n",
       "  <thead>\n",
       "    <tr style=\"text-align: right;\">\n",
       "      <th></th>\n",
       "      <th>id</th>\n",
       "      <th>review</th>\n",
       "    </tr>\n",
       "  </thead>\n",
       "  <tbody>\n",
       "    <tr>\n",
       "      <th>0</th>\n",
       "      <td>9999_0</td>\n",
       "      <td>Watching Time Chasers, it obvious that it was ...</td>\n",
       "    </tr>\n",
       "    <tr>\n",
       "      <th>1</th>\n",
       "      <td>45057_0</td>\n",
       "      <td>I saw this film about 20 years ago and remembe...</td>\n",
       "    </tr>\n",
       "    <tr>\n",
       "      <th>2</th>\n",
       "      <td>15561_0</td>\n",
       "      <td>Minor Spoilers&lt;br /&gt;&lt;br /&gt;In New York, Joan Ba...</td>\n",
       "    </tr>\n",
       "    <tr>\n",
       "      <th>3</th>\n",
       "      <td>7161_0</td>\n",
       "      <td>I went to see this film with a great deal of e...</td>\n",
       "    </tr>\n",
       "    <tr>\n",
       "      <th>4</th>\n",
       "      <td>43971_0</td>\n",
       "      <td>Yes, I agree with everyone on this site this m...</td>\n",
       "    </tr>\n",
       "    <tr>\n",
       "      <th>...</th>\n",
       "      <td>...</td>\n",
       "      <td>...</td>\n",
       "    </tr>\n",
       "    <tr>\n",
       "      <th>49993</th>\n",
       "      <td>18984_0</td>\n",
       "      <td>The original Man Eater by Joe D'Amato is somew...</td>\n",
       "    </tr>\n",
       "    <tr>\n",
       "      <th>49994</th>\n",
       "      <td>16433_0</td>\n",
       "      <td>When Home Box Office was in it's early days mo...</td>\n",
       "    </tr>\n",
       "    <tr>\n",
       "      <th>49995</th>\n",
       "      <td>16006_0</td>\n",
       "      <td>Griffin Dunne was born into a cultural family....</td>\n",
       "    </tr>\n",
       "    <tr>\n",
       "      <th>49996</th>\n",
       "      <td>40155_0</td>\n",
       "      <td>Not a bad story, but the low budget rears its ...</td>\n",
       "    </tr>\n",
       "    <tr>\n",
       "      <th>49997</th>\n",
       "      <td>35270_0</td>\n",
       "      <td>This not-very-good mummy-alien flick does feat...</td>\n",
       "    </tr>\n",
       "  </tbody>\n",
       "</table>\n",
       "<p>49998 rows × 2 columns</p>\n",
       "</div>"
      ],
      "text/plain": [
       "            id                                             review\n",
       "0       9999_0  Watching Time Chasers, it obvious that it was ...\n",
       "1      45057_0  I saw this film about 20 years ago and remembe...\n",
       "2      15561_0  Minor Spoilers<br /><br />In New York, Joan Ba...\n",
       "3       7161_0  I went to see this film with a great deal of e...\n",
       "4      43971_0  Yes, I agree with everyone on this site this m...\n",
       "...        ...                                                ...\n",
       "49993  18984_0  The original Man Eater by Joe D'Amato is somew...\n",
       "49994  16433_0  When Home Box Office was in it's early days mo...\n",
       "49995  16006_0  Griffin Dunne was born into a cultural family....\n",
       "49996  40155_0  Not a bad story, but the low budget rears its ...\n",
       "49997  35270_0  This not-very-good mummy-alien flick does feat...\n",
       "\n",
       "[49998 rows x 2 columns]"
      ]
     },
     "execution_count": 6,
     "metadata": {},
     "output_type": "execute_result"
    }
   ],
   "source": [
    "unlabeled"
   ]
  },
  {
   "cell_type": "code",
   "execution_count": 7,
   "metadata": {
    "papermill": {
     "duration": 5.446792,
     "end_time": "2021-11-01T08:19:01.649656",
     "exception": false,
     "start_time": "2021-11-01T08:18:56.202864",
     "status": "completed"
    },
    "tags": []
   },
   "outputs": [],
   "source": [
    "# 本地路径\n",
    "# att=pd.read_csv(\"E:/dasein_py/Data Analysis/nlp 大作业/IMDB/imdb_master.csv\", error_bad_lines=False)\n",
    "# 在线路径\n",
    "# att=pd.read_csv(\"../input/imdb-review-dataset/imdb_master.csv\", error_bad_lines=False, encoding = 'utf-8', engine = 'python')\n",
    "# att.head()"
   ]
  },
  {
   "cell_type": "code",
   "execution_count": 8,
   "metadata": {
    "papermill": {
     "duration": 5.446792,
     "end_time": "2021-11-01T08:19:01.649656",
     "exception": false,
     "start_time": "2021-11-01T08:18:56.202864",
     "status": "completed"
    },
    "tags": []
   },
   "outputs": [],
   "source": [
    "# import chardet\n",
    "# with open(\"../input/imdb-review-dataset/imdb_master.csv\", 'rb') as f:\n",
    "#     result = chardet.detect(f.read())\n",
    "#     print(result['encoding'])"
   ]
  },
  {
   "cell_type": "code",
   "execution_count": 9,
   "metadata": {
    "papermill": {
     "duration": 0.150989,
     "end_time": "2021-11-01T08:19:01.825883",
     "exception": false,
     "start_time": "2021-11-01T08:19:01.674894",
     "status": "completed"
    },
    "tags": []
   },
   "outputs": [],
   "source": [
    "# att=att[[\"review\",\"label\"]]\n",
    "# att.columns=[\"review\",\"sentiment\"]\n",
    "# att=att[att.sentiment != \"unsup\"]\n",
    "# att=att.replace({\"neg\":0,\"pos\":1})\n",
    "# att.head()"
   ]
  },
  {
   "cell_type": "code",
   "execution_count": 10,
   "metadata": {
    "papermill": {
     "duration": 0.035919,
     "end_time": "2021-11-01T08:19:01.887578",
     "exception": false,
     "start_time": "2021-11-01T08:19:01.851659",
     "status": "completed"
    },
    "tags": []
   },
   "outputs": [
    {
     "data": {
      "text/plain": [
       "((25000, 3), (25000, 2), (49998, 2))"
      ]
     },
     "execution_count": 10,
     "metadata": {},
     "output_type": "execute_result"
    }
   ],
   "source": [
    "train.shape, test.shape, unlabeled.shape"
   ]
  },
  {
   "cell_type": "code",
   "execution_count": 11,
   "metadata": {
    "papermill": {
     "duration": 0.094232,
     "end_time": "2021-11-01T08:19:02.007625",
     "exception": false,
     "start_time": "2021-11-01T08:19:01.913393",
     "status": "completed"
    },
    "tags": []
   },
   "outputs": [
    {
     "name": "stdout",
     "output_type": "stream",
     "text": [
      "<class 'pandas.core.frame.DataFrame'>\n",
      "RangeIndex: 50000 entries, 0 to 49999\n",
      "Data columns (total 3 columns):\n",
      " #   Column     Non-Null Count  Dtype  \n",
      "---  ------     --------------  -----  \n",
      " 0   id         50000 non-null  object \n",
      " 1   sentiment  25000 non-null  float64\n",
      " 2   review     50000 non-null  object \n",
      "dtypes: float64(1), object(2)\n",
      "memory usage: 1.1+ MB\n"
     ]
    }
   ],
   "source": [
    "# df=train.append(att, ignore_index=True)\n",
    "df=train.append(test, ignore_index=True)\n",
    "df.info()"
   ]
  },
  {
   "cell_type": "code",
   "execution_count": 12,
   "metadata": {
    "papermill": {
     "duration": 0.041615,
     "end_time": "2021-11-01T08:19:02.075385",
     "exception": false,
     "start_time": "2021-11-01T08:19:02.033770",
     "status": "completed"
    },
    "tags": []
   },
   "outputs": [
    {
     "data": {
      "text/html": [
       "<div>\n",
       "<style scoped>\n",
       "    .dataframe tbody tr th:only-of-type {\n",
       "        vertical-align: middle;\n",
       "    }\n",
       "\n",
       "    .dataframe tbody tr th {\n",
       "        vertical-align: top;\n",
       "    }\n",
       "\n",
       "    .dataframe thead th {\n",
       "        text-align: right;\n",
       "    }\n",
       "</style>\n",
       "<table border=\"1\" class=\"dataframe\">\n",
       "  <thead>\n",
       "    <tr style=\"text-align: right;\">\n",
       "      <th></th>\n",
       "      <th>id</th>\n",
       "      <th>sentiment</th>\n",
       "      <th>review</th>\n",
       "    </tr>\n",
       "  </thead>\n",
       "  <tbody>\n",
       "    <tr>\n",
       "      <th>0</th>\n",
       "      <td>5814_8</td>\n",
       "      <td>1.0</td>\n",
       "      <td>With all this stuff going down at the moment w...</td>\n",
       "    </tr>\n",
       "    <tr>\n",
       "      <th>1</th>\n",
       "      <td>2381_9</td>\n",
       "      <td>1.0</td>\n",
       "      <td>\\The Classic War of the Worlds\\\" by Timothy Hi...</td>\n",
       "    </tr>\n",
       "    <tr>\n",
       "      <th>2</th>\n",
       "      <td>7759_3</td>\n",
       "      <td>0.0</td>\n",
       "      <td>The film starts with a manager (Nicholas Bell)...</td>\n",
       "    </tr>\n",
       "    <tr>\n",
       "      <th>3</th>\n",
       "      <td>3630_4</td>\n",
       "      <td>0.0</td>\n",
       "      <td>It must be assumed that those who praised this...</td>\n",
       "    </tr>\n",
       "    <tr>\n",
       "      <th>4</th>\n",
       "      <td>9495_8</td>\n",
       "      <td>1.0</td>\n",
       "      <td>Superbly trashy and wondrously unpretentious 8...</td>\n",
       "    </tr>\n",
       "  </tbody>\n",
       "</table>\n",
       "</div>"
      ],
      "text/plain": [
       "       id  sentiment                                             review\n",
       "0  5814_8        1.0  With all this stuff going down at the moment w...\n",
       "1  2381_9        1.0  \\The Classic War of the Worlds\\\" by Timothy Hi...\n",
       "2  7759_3        0.0  The film starts with a manager (Nicholas Bell)...\n",
       "3  3630_4        0.0  It must be assumed that those who praised this...\n",
       "4  9495_8        1.0  Superbly trashy and wondrously unpretentious 8..."
      ]
     },
     "execution_count": 12,
     "metadata": {},
     "output_type": "execute_result"
    }
   ],
   "source": [
    "df.head()"
   ]
  },
  {
   "cell_type": "markdown",
   "metadata": {
    "papermill": {
     "duration": 0.026603,
     "end_time": "2021-11-01T08:19:02.127932",
     "exception": false,
     "start_time": "2021-11-01T08:19:02.101329",
     "status": "completed"
    },
    "tags": []
   },
   "source": [
    "# 数据清洗"
   ]
  },
  {
   "cell_type": "code",
   "execution_count": 13,
   "metadata": {
    "papermill": {
     "duration": 32.534589,
     "end_time": "2021-11-01T08:19:34.688432",
     "exception": false,
     "start_time": "2021-11-01T08:19:02.153843",
     "status": "completed"
    },
    "tags": []
   },
   "outputs": [],
   "source": [
    "df.review=html.unescape(df.review)\n",
    "# 去除网页标记\n",
    "\n",
    "df.review=df.review.str.replace('http\\S+|www.\\S+', '', case=False).str.replace(r\"\\&\\#[0-9]+\\;\",\"\", regex=True) \\\n",
    "            .str.replace(r\"[^\\w\\s]\",\"\").str.replace(\"\\d+\",\"\").str.replace(r\"[\\s]+\",\" \",regex=True) \\\n",
    "            .str.replace(\"\\n\",\" \").replace(\"\\r\",\"\").str.replace(\"_\",\" \").str.lower()"
   ]
  },
  {
   "cell_type": "code",
   "execution_count": 14,
   "metadata": {
    "papermill": {
     "duration": 7.871649,
     "end_time": "2021-11-01T08:19:42.586593",
     "exception": false,
     "start_time": "2021-11-01T08:19:34.714944",
     "status": "completed"
    },
    "tags": []
   },
   "outputs": [],
   "source": [
    "def remove_emoji(text):\n",
    "    '''使用正则表达式去除网页标记'''\n",
    "    emoji_pattern = re.compile(\"[\"\n",
    "                           u\"\\U0001F600-\\U0001F64F\" \n",
    "                           u\"\\U0001F300-\\U0001F5FF\" \n",
    "                           u\"\\U0001F680-\\U0001F6FF\"  \n",
    "                           u\"\\U0001F1E0-\\U0001F1FF\"  \n",
    "                           u\"\\U00002702-\\U000027B0\"\n",
    "                           u\"\\U000024C2-\\U0001F251\"\n",
    "                           \"]+\", flags=re.UNICODE)\n",
    "    return emoji_pattern.sub(r'', text)\n",
    "df['review']=df['review'].apply(lambda x: remove_emoji(x))"
   ]
  },
  {
   "cell_type": "code",
   "execution_count": 15,
   "metadata": {
    "papermill": {
     "duration": 0.725929,
     "end_time": "2021-11-01T08:19:43.339424",
     "exception": false,
     "start_time": "2021-11-01T08:19:42.613495",
     "status": "completed"
    },
    "tags": []
   },
   "outputs": [],
   "source": [
    "from unicodedata import normalize\n",
    "\n",
    "remove_accent = lambda text: normalize(\"NFKD\", text).encode(\"ascii\", \"ignore\").decode(\"utf-8\", \"ignore\") # 字符串标准化\n",
    "\n",
    "df[\"review\"] = df[\"review\"].apply(remove_accent)"
   ]
  },
  {
   "cell_type": "code",
   "execution_count": 16,
   "metadata": {
    "papermill": {
     "duration": 0.042068,
     "end_time": "2021-11-01T08:19:43.408411",
     "exception": false,
     "start_time": "2021-11-01T08:19:43.366343",
     "status": "completed"
    },
    "tags": []
   },
   "outputs": [
    {
     "data": {
      "text/html": [
       "<div>\n",
       "<style scoped>\n",
       "    .dataframe tbody tr th:only-of-type {\n",
       "        vertical-align: middle;\n",
       "    }\n",
       "\n",
       "    .dataframe tbody tr th {\n",
       "        vertical-align: top;\n",
       "    }\n",
       "\n",
       "    .dataframe thead th {\n",
       "        text-align: right;\n",
       "    }\n",
       "</style>\n",
       "<table border=\"1\" class=\"dataframe\">\n",
       "  <thead>\n",
       "    <tr style=\"text-align: right;\">\n",
       "      <th></th>\n",
       "      <th>id</th>\n",
       "      <th>sentiment</th>\n",
       "      <th>review</th>\n",
       "    </tr>\n",
       "  </thead>\n",
       "  <tbody>\n",
       "    <tr>\n",
       "      <th>0</th>\n",
       "      <td>5814_8</td>\n",
       "      <td>1.0</td>\n",
       "      <td>with all this stuff going down at the moment w...</td>\n",
       "    </tr>\n",
       "    <tr>\n",
       "      <th>1</th>\n",
       "      <td>2381_9</td>\n",
       "      <td>1.0</td>\n",
       "      <td>the classic war of the worlds by timothy hines...</td>\n",
       "    </tr>\n",
       "    <tr>\n",
       "      <th>2</th>\n",
       "      <td>7759_3</td>\n",
       "      <td>0.0</td>\n",
       "      <td>the film starts with a manager nicholas bell g...</td>\n",
       "    </tr>\n",
       "    <tr>\n",
       "      <th>3</th>\n",
       "      <td>3630_4</td>\n",
       "      <td>0.0</td>\n",
       "      <td>it must be assumed that those who praised this...</td>\n",
       "    </tr>\n",
       "    <tr>\n",
       "      <th>4</th>\n",
       "      <td>9495_8</td>\n",
       "      <td>1.0</td>\n",
       "      <td>superbly trashy and wondrously unpretentious s...</td>\n",
       "    </tr>\n",
       "  </tbody>\n",
       "</table>\n",
       "</div>"
      ],
      "text/plain": [
       "       id  sentiment                                             review\n",
       "0  5814_8        1.0  with all this stuff going down at the moment w...\n",
       "1  2381_9        1.0  the classic war of the worlds by timothy hines...\n",
       "2  7759_3        0.0  the film starts with a manager nicholas bell g...\n",
       "3  3630_4        0.0  it must be assumed that those who praised this...\n",
       "4  9495_8        1.0  superbly trashy and wondrously unpretentious s..."
      ]
     },
     "execution_count": 16,
     "metadata": {},
     "output_type": "execute_result"
    }
   ],
   "source": [
    "df.head()"
   ]
  },
  {
   "cell_type": "code",
   "execution_count": 17,
   "metadata": {
    "papermill": {
     "duration": 0.03803,
     "end_time": "2021-11-01T08:19:43.472614",
     "exception": false,
     "start_time": "2021-11-01T08:19:43.434584",
     "status": "completed"
    },
    "tags": []
   },
   "outputs": [
    {
     "data": {
      "text/plain": [
       "1.0    12500\n",
       "0.0    12500\n",
       "Name: sentiment, dtype: int64"
      ]
     },
     "execution_count": 17,
     "metadata": {},
     "output_type": "execute_result"
    }
   ],
   "source": [
    "df.sentiment.value_counts()"
   ]
  },
  {
   "cell_type": "markdown",
   "metadata": {
    "papermill": {
     "duration": 0.026431,
     "end_time": "2021-11-01T08:19:43.525562",
     "exception": false,
     "start_time": "2021-11-01T08:19:43.499131",
     "status": "completed"
    },
    "tags": []
   },
   "source": [
    "# 使用review建语料库，并分词"
   ]
  },
  {
   "cell_type": "code",
   "execution_count": 18,
   "metadata": {
    "papermill": {
     "duration": 192.328293,
     "end_time": "2021-11-01T08:22:55.880627",
     "exception": false,
     "start_time": "2021-11-01T08:19:43.552334",
     "status": "completed"
    },
    "tags": []
   },
   "outputs": [
    {
     "name": "stdout",
     "output_type": "stream",
     "text": [
      "['go', 'immediately', 'and', 'rent', 'this', 'movie', 'it', 'will', 'be', 'be', 'on', 'a', 'bottom', 'shelf', 'in', 'your', 'local', 'video', 'store', 'and', 'will', 'be', 'covered', 'in', 'dust', 'no', 'one', 'will', 'have', 'touched', 'it', 'in', 'years', 'it', 'may', 'even', 'be', 'a', 'special', 'its', 'worth', 'ten', 'bucks', 'i', 'swear', 'buy', 'it', 'there', 'arent', 'very', 'many', 'films', 'than', 'can', 'compare', 'with', 'this', 'the', 'celluloid', 'version', 'of', 'that', 'goo', 'that', 'forms', 'at', 'the', 'bottom', 'of', 'a', 'trash', 'can', 'after', 'a', 'few', 'years', 'yes', 'i', 'gave', 'it', 'a', 'but', 'it', 'really', 'deserves', 'much', 'lower', 'scales', 'were', 'not', 'designed', 'with', 'stuff', 'like', 'this', 'in', 'mind']\n",
      "Wall time: 35.5 s\n"
     ]
    }
   ],
   "source": [
    "%%time\n",
    "corpora = df[\"review\"].values\n",
    "tokenized = [word_tokenize(corpus) for corpus in corpora]\n",
    "\n",
    "print(tokenized[2222])"
   ]
  },
  {
   "cell_type": "code",
   "execution_count": 19,
   "metadata": {
    "papermill": {
     "duration": 4.333203,
     "end_time": "2021-11-01T08:23:00.242101",
     "exception": false,
     "start_time": "2021-11-01T08:22:55.908898",
     "status": "completed"
    },
    "tags": []
   },
   "outputs": [
    {
     "name": "stdout",
     "output_type": "stream",
     "text": [
      "['go', 'immediately', 'and', 'rent', 'this', 'movie', 'it', 'will', 'be', 'be', 'on', 'bottom', 'shelf', 'in', 'your', 'local', 'video', 'store', 'and', 'will', 'be', 'covered', 'in', 'dust', 'no', 'one', 'will', 'have', 'touched', 'it', 'in', 'years', 'it', 'may', 'even', 'be', 'special', 'its', 'worth', 'ten', 'bucks', 'swear', 'buy', 'it', 'there', 'arent', 'very', 'many', 'films', 'than', 'can', 'compare', 'with', 'this', 'the', 'celluloid', 'version', 'of', 'that', 'goo', 'that', 'forms', 'at', 'the', 'bottom', 'of', 'trash', 'can', 'after', 'few', 'years', 'yes', 'gave', 'it', 'but', 'it', 'really', 'deserves', 'much', 'lower', 'scales', 'were', 'not', 'designed', 'with', 'stuff', 'like', 'this', 'in', 'mind']\n",
      "Wall time: 1.95 s\n"
     ]
    }
   ],
   "source": [
    "%%time\n",
    "tokenized = [list(filter(lambda x: len(x) > 1, document)) \\\n",
    "             for document in tokenized] \n",
    "# filter() 函数用于过滤序列，过滤掉不符合条件的元素，返回由符合条件元素组成的新列表。\n",
    "print(tokenized[2222])"
   ]
  },
  {
   "cell_type": "markdown",
   "metadata": {
    "papermill": {
     "duration": 0.027035,
     "end_time": "2021-11-01T08:23:00.296831",
     "exception": false,
     "start_time": "2021-11-01T08:23:00.269796",
     "status": "completed"
    },
    "tags": []
   },
   "source": [
    "# Word Embedding for Feature Engineering"
   ]
  },
  {
   "cell_type": "code",
   "execution_count": 20,
   "metadata": {
    "papermill": {
     "duration": 1592.274169,
     "end_time": "2021-11-01T08:49:32.598513",
     "exception": false,
     "start_time": "2021-11-01T08:23:00.324344",
     "status": "completed"
    },
    "tags": []
   },
   "outputs": [
    {
     "name": "stdout",
     "output_type": "stream",
     "text": [
      "Wall time: 8min 23s\n"
     ]
    }
   ],
   "source": [
    "%%time\n",
    "from gensim.models import word2vec\n",
    "np.set_printoptions(suppress=True)\n",
    "\n",
    "feature_size = 256\n",
    "context_size = 5\n",
    "min_word = 1\n",
    "\n",
    "word_vec= word2vec.Word2Vec(tokenized, vector_size=feature_size, \\\n",
    "                            window=context_size, min_count=min_word, \\\n",
    "                            epochs=50, seed=42)"
   ]
  },
  {
   "cell_type": "markdown",
   "metadata": {
    "papermill": {
     "duration": 0.027597,
     "end_time": "2021-11-01T08:49:32.653640",
     "exception": false,
     "start_time": "2021-11-01T08:49:32.626043",
     "status": "completed"
    },
    "tags": []
   },
   "source": [
    "# 获得最终w2v的数据表"
   ]
  },
  {
   "cell_type": "code",
   "execution_count": 21,
   "metadata": {
    "papermill": {
     "duration": 2.052909,
     "end_time": "2021-11-01T08:49:34.733738",
     "exception": false,
     "start_time": "2021-11-01T08:49:32.680829",
     "status": "completed"
    },
    "tags": []
   },
   "outputs": [
    {
     "name": "stdout",
     "output_type": "stream",
     "text": [
      "Wall time: 675 ms\n"
     ]
    },
    {
     "data": {
      "text/html": [
       "<div>\n",
       "<style scoped>\n",
       "    .dataframe tbody tr th:only-of-type {\n",
       "        vertical-align: middle;\n",
       "    }\n",
       "\n",
       "    .dataframe tbody tr th {\n",
       "        vertical-align: top;\n",
       "    }\n",
       "\n",
       "    .dataframe thead th {\n",
       "        text-align: right;\n",
       "    }\n",
       "</style>\n",
       "<table border=\"1\" class=\"dataframe\">\n",
       "  <thead>\n",
       "    <tr style=\"text-align: right;\">\n",
       "      <th></th>\n",
       "      <th>0</th>\n",
       "      <th>1</th>\n",
       "      <th>2</th>\n",
       "      <th>3</th>\n",
       "      <th>4</th>\n",
       "      <th>5</th>\n",
       "      <th>6</th>\n",
       "      <th>7</th>\n",
       "      <th>8</th>\n",
       "      <th>9</th>\n",
       "      <th>...</th>\n",
       "      <th>246</th>\n",
       "      <th>247</th>\n",
       "      <th>248</th>\n",
       "      <th>249</th>\n",
       "      <th>250</th>\n",
       "      <th>251</th>\n",
       "      <th>252</th>\n",
       "      <th>253</th>\n",
       "      <th>254</th>\n",
       "      <th>255</th>\n",
       "    </tr>\n",
       "  </thead>\n",
       "  <tbody>\n",
       "    <tr>\n",
       "      <th>the</th>\n",
       "      <td>3.098315</td>\n",
       "      <td>2.621972</td>\n",
       "      <td>0.348336</td>\n",
       "      <td>-1.553718</td>\n",
       "      <td>-2.121981</td>\n",
       "      <td>-0.038903</td>\n",
       "      <td>-0.451384</td>\n",
       "      <td>0.784318</td>\n",
       "      <td>1.352593</td>\n",
       "      <td>0.375178</td>\n",
       "      <td>...</td>\n",
       "      <td>-0.852745</td>\n",
       "      <td>-0.491608</td>\n",
       "      <td>-1.617278</td>\n",
       "      <td>0.774869</td>\n",
       "      <td>-0.659839</td>\n",
       "      <td>1.796894</td>\n",
       "      <td>-0.568047</td>\n",
       "      <td>0.376008</td>\n",
       "      <td>-0.320880</td>\n",
       "      <td>-0.349202</td>\n",
       "    </tr>\n",
       "    <tr>\n",
       "      <th>and</th>\n",
       "      <td>3.032429</td>\n",
       "      <td>2.200934</td>\n",
       "      <td>0.168909</td>\n",
       "      <td>0.303117</td>\n",
       "      <td>-1.010507</td>\n",
       "      <td>0.456957</td>\n",
       "      <td>-0.254786</td>\n",
       "      <td>0.293911</td>\n",
       "      <td>1.154953</td>\n",
       "      <td>0.658438</td>\n",
       "      <td>...</td>\n",
       "      <td>-1.209527</td>\n",
       "      <td>-0.687960</td>\n",
       "      <td>-0.309287</td>\n",
       "      <td>-1.243712</td>\n",
       "      <td>-0.429132</td>\n",
       "      <td>0.672929</td>\n",
       "      <td>-0.768911</td>\n",
       "      <td>-0.385553</td>\n",
       "      <td>-0.153461</td>\n",
       "      <td>-0.164798</td>\n",
       "    </tr>\n",
       "    <tr>\n",
       "      <th>of</th>\n",
       "      <td>1.602295</td>\n",
       "      <td>2.747977</td>\n",
       "      <td>2.372136</td>\n",
       "      <td>-1.406231</td>\n",
       "      <td>-0.208143</td>\n",
       "      <td>-2.068553</td>\n",
       "      <td>0.424331</td>\n",
       "      <td>1.029849</td>\n",
       "      <td>0.685372</td>\n",
       "      <td>-1.977432</td>\n",
       "      <td>...</td>\n",
       "      <td>-0.838399</td>\n",
       "      <td>-0.960348</td>\n",
       "      <td>-1.479084</td>\n",
       "      <td>-0.708741</td>\n",
       "      <td>-0.829332</td>\n",
       "      <td>1.540681</td>\n",
       "      <td>-1.459929</td>\n",
       "      <td>0.072497</td>\n",
       "      <td>1.735249</td>\n",
       "      <td>0.346510</td>\n",
       "    </tr>\n",
       "    <tr>\n",
       "      <th>to</th>\n",
       "      <td>1.295550</td>\n",
       "      <td>0.404625</td>\n",
       "      <td>-0.774415</td>\n",
       "      <td>1.339003</td>\n",
       "      <td>-2.744981</td>\n",
       "      <td>-1.898481</td>\n",
       "      <td>0.406119</td>\n",
       "      <td>1.343802</td>\n",
       "      <td>1.319225</td>\n",
       "      <td>-1.747526</td>\n",
       "      <td>...</td>\n",
       "      <td>-0.852790</td>\n",
       "      <td>0.900618</td>\n",
       "      <td>0.937095</td>\n",
       "      <td>-3.117561</td>\n",
       "      <td>-1.944199</td>\n",
       "      <td>1.017031</td>\n",
       "      <td>-1.424121</td>\n",
       "      <td>0.299678</td>\n",
       "      <td>-1.781951</td>\n",
       "      <td>0.604400</td>\n",
       "    </tr>\n",
       "    <tr>\n",
       "      <th>is</th>\n",
       "      <td>0.586821</td>\n",
       "      <td>-0.538091</td>\n",
       "      <td>0.706562</td>\n",
       "      <td>-0.926518</td>\n",
       "      <td>0.182735</td>\n",
       "      <td>-0.774236</td>\n",
       "      <td>0.830147</td>\n",
       "      <td>-1.573713</td>\n",
       "      <td>1.324111</td>\n",
       "      <td>0.025818</td>\n",
       "      <td>...</td>\n",
       "      <td>0.102401</td>\n",
       "      <td>-0.089111</td>\n",
       "      <td>-0.628801</td>\n",
       "      <td>0.928474</td>\n",
       "      <td>-3.095457</td>\n",
       "      <td>4.187731</td>\n",
       "      <td>-0.315025</td>\n",
       "      <td>1.064841</td>\n",
       "      <td>-0.186651</td>\n",
       "      <td>1.746391</td>\n",
       "    </tr>\n",
       "  </tbody>\n",
       "</table>\n",
       "<p>5 rows × 256 columns</p>\n",
       "</div>"
      ],
      "text/plain": [
       "          0         1         2         3         4         5         6    \\\n",
       "the  3.098315  2.621972  0.348336 -1.553718 -2.121981 -0.038903 -0.451384   \n",
       "and  3.032429  2.200934  0.168909  0.303117 -1.010507  0.456957 -0.254786   \n",
       "of   1.602295  2.747977  2.372136 -1.406231 -0.208143 -2.068553  0.424331   \n",
       "to   1.295550  0.404625 -0.774415  1.339003 -2.744981 -1.898481  0.406119   \n",
       "is   0.586821 -0.538091  0.706562 -0.926518  0.182735 -0.774236  0.830147   \n",
       "\n",
       "          7         8         9    ...       246       247       248  \\\n",
       "the  0.784318  1.352593  0.375178  ... -0.852745 -0.491608 -1.617278   \n",
       "and  0.293911  1.154953  0.658438  ... -1.209527 -0.687960 -0.309287   \n",
       "of   1.029849  0.685372 -1.977432  ... -0.838399 -0.960348 -1.479084   \n",
       "to   1.343802  1.319225 -1.747526  ... -0.852790  0.900618  0.937095   \n",
       "is  -1.573713  1.324111  0.025818  ...  0.102401 -0.089111 -0.628801   \n",
       "\n",
       "          249       250       251       252       253       254       255  \n",
       "the  0.774869 -0.659839  1.796894 -0.568047  0.376008 -0.320880 -0.349202  \n",
       "and -1.243712 -0.429132  0.672929 -0.768911 -0.385553 -0.153461 -0.164798  \n",
       "of  -0.708741 -0.829332  1.540681 -1.459929  0.072497  1.735249  0.346510  \n",
       "to  -3.117561 -1.944199  1.017031 -1.424121  0.299678 -1.781951  0.604400  \n",
       "is   0.928474 -3.095457  4.187731 -0.315025  1.064841 -0.186651  1.746391  \n",
       "\n",
       "[5 rows x 256 columns]"
      ]
     },
     "execution_count": 21,
     "metadata": {},
     "output_type": "execute_result"
    }
   ],
   "source": [
    "%%time\n",
    "word_vec_unpack = [(word, idx) for word, idx in \\\n",
    "                   word_vec.wv.key_to_index.items()]\n",
    "\n",
    "tokens, indexes = zip(*word_vec_unpack)\n",
    "\n",
    "word_vec_df = pd.DataFrame(word_vec.wv.vectors[indexes, :], index=tokens)\n",
    "\n",
    "word_vec_df.head()"
   ]
  },
  {
   "cell_type": "code",
   "execution_count": 22,
   "metadata": {
    "papermill": {
     "duration": 237.042667,
     "end_time": "2021-11-01T08:53:31.805301",
     "exception": false,
     "start_time": "2021-11-01T08:49:34.762634",
     "status": "completed"
    },
    "tags": []
   },
   "outputs": [
    {
     "name": "stdout",
     "output_type": "stream",
     "text": [
      "Wall time: 34.6 s\n"
     ]
    }
   ],
   "source": [
    "%%time\n",
    "tokenized_array = np.array(tokenized)\n",
    "\n",
    "model_array = np.array([word_vec_df.loc[doc].mean(axis=0) for doc in tokenized_array])"
   ]
  },
  {
   "cell_type": "code",
   "execution_count": 23,
   "metadata": {
    "papermill": {
     "duration": 0.071981,
     "end_time": "2021-11-01T08:53:31.908229",
     "exception": false,
     "start_time": "2021-11-01T08:53:31.836248",
     "status": "completed"
    },
    "tags": []
   },
   "outputs": [
    {
     "data": {
      "text/html": [
       "<div>\n",
       "<style scoped>\n",
       "    .dataframe tbody tr th:only-of-type {\n",
       "        vertical-align: middle;\n",
       "    }\n",
       "\n",
       "    .dataframe tbody tr th {\n",
       "        vertical-align: top;\n",
       "    }\n",
       "\n",
       "    .dataframe thead th {\n",
       "        text-align: right;\n",
       "    }\n",
       "</style>\n",
       "<table border=\"1\" class=\"dataframe\">\n",
       "  <thead>\n",
       "    <tr style=\"text-align: right;\">\n",
       "      <th></th>\n",
       "      <th>0</th>\n",
       "      <th>1</th>\n",
       "      <th>2</th>\n",
       "      <th>3</th>\n",
       "      <th>4</th>\n",
       "      <th>5</th>\n",
       "      <th>6</th>\n",
       "      <th>7</th>\n",
       "      <th>8</th>\n",
       "      <th>9</th>\n",
       "      <th>...</th>\n",
       "      <th>247</th>\n",
       "      <th>248</th>\n",
       "      <th>249</th>\n",
       "      <th>250</th>\n",
       "      <th>251</th>\n",
       "      <th>252</th>\n",
       "      <th>253</th>\n",
       "      <th>254</th>\n",
       "      <th>255</th>\n",
       "      <th>sentiment</th>\n",
       "    </tr>\n",
       "  </thead>\n",
       "  <tbody>\n",
       "    <tr>\n",
       "      <th>0</th>\n",
       "      <td>0.891346</td>\n",
       "      <td>0.981726</td>\n",
       "      <td>-0.243343</td>\n",
       "      <td>0.200131</td>\n",
       "      <td>-0.288226</td>\n",
       "      <td>-0.396876</td>\n",
       "      <td>0.159949</td>\n",
       "      <td>0.344412</td>\n",
       "      <td>0.545034</td>\n",
       "      <td>-0.529693</td>\n",
       "      <td>...</td>\n",
       "      <td>-0.438629</td>\n",
       "      <td>-0.237874</td>\n",
       "      <td>0.219872</td>\n",
       "      <td>-0.225743</td>\n",
       "      <td>0.588679</td>\n",
       "      <td>-0.251512</td>\n",
       "      <td>0.229648</td>\n",
       "      <td>0.295378</td>\n",
       "      <td>0.045342</td>\n",
       "      <td>1.0</td>\n",
       "    </tr>\n",
       "    <tr>\n",
       "      <th>1</th>\n",
       "      <td>1.074119</td>\n",
       "      <td>0.718079</td>\n",
       "      <td>-0.121665</td>\n",
       "      <td>0.249437</td>\n",
       "      <td>-0.296867</td>\n",
       "      <td>-0.274530</td>\n",
       "      <td>0.363756</td>\n",
       "      <td>0.388845</td>\n",
       "      <td>0.469159</td>\n",
       "      <td>-0.545638</td>\n",
       "      <td>...</td>\n",
       "      <td>-0.281852</td>\n",
       "      <td>-0.546553</td>\n",
       "      <td>0.287645</td>\n",
       "      <td>-0.554801</td>\n",
       "      <td>0.506518</td>\n",
       "      <td>-0.502521</td>\n",
       "      <td>0.122082</td>\n",
       "      <td>0.312615</td>\n",
       "      <td>-0.026070</td>\n",
       "      <td>1.0</td>\n",
       "    </tr>\n",
       "    <tr>\n",
       "      <th>2</th>\n",
       "      <td>0.896156</td>\n",
       "      <td>0.854646</td>\n",
       "      <td>0.099905</td>\n",
       "      <td>-0.198713</td>\n",
       "      <td>-0.347461</td>\n",
       "      <td>-0.158461</td>\n",
       "      <td>0.164301</td>\n",
       "      <td>0.261809</td>\n",
       "      <td>0.371017</td>\n",
       "      <td>-0.184747</td>\n",
       "      <td>...</td>\n",
       "      <td>-0.237165</td>\n",
       "      <td>-0.385483</td>\n",
       "      <td>-0.353948</td>\n",
       "      <td>-0.321777</td>\n",
       "      <td>0.240935</td>\n",
       "      <td>-0.164179</td>\n",
       "      <td>0.073031</td>\n",
       "      <td>0.034520</td>\n",
       "      <td>-0.011251</td>\n",
       "      <td>0.0</td>\n",
       "    </tr>\n",
       "    <tr>\n",
       "      <th>3</th>\n",
       "      <td>0.944552</td>\n",
       "      <td>0.949661</td>\n",
       "      <td>0.050669</td>\n",
       "      <td>-0.138956</td>\n",
       "      <td>-0.336179</td>\n",
       "      <td>-0.413363</td>\n",
       "      <td>0.137519</td>\n",
       "      <td>0.332753</td>\n",
       "      <td>0.309960</td>\n",
       "      <td>-0.457349</td>\n",
       "      <td>...</td>\n",
       "      <td>-0.312368</td>\n",
       "      <td>-0.292819</td>\n",
       "      <td>0.051508</td>\n",
       "      <td>-0.354951</td>\n",
       "      <td>0.432797</td>\n",
       "      <td>-0.259300</td>\n",
       "      <td>0.183018</td>\n",
       "      <td>0.141218</td>\n",
       "      <td>0.002216</td>\n",
       "      <td>0.0</td>\n",
       "    </tr>\n",
       "    <tr>\n",
       "      <th>4</th>\n",
       "      <td>1.017126</td>\n",
       "      <td>0.922727</td>\n",
       "      <td>-0.071678</td>\n",
       "      <td>-0.164314</td>\n",
       "      <td>-0.403124</td>\n",
       "      <td>-0.228035</td>\n",
       "      <td>-0.015612</td>\n",
       "      <td>0.359387</td>\n",
       "      <td>0.430484</td>\n",
       "      <td>-0.130762</td>\n",
       "      <td>...</td>\n",
       "      <td>-0.447885</td>\n",
       "      <td>-0.255060</td>\n",
       "      <td>0.010728</td>\n",
       "      <td>-0.274360</td>\n",
       "      <td>0.276793</td>\n",
       "      <td>-0.130286</td>\n",
       "      <td>0.076927</td>\n",
       "      <td>0.067745</td>\n",
       "      <td>0.067427</td>\n",
       "      <td>1.0</td>\n",
       "    </tr>\n",
       "  </tbody>\n",
       "</table>\n",
       "<p>5 rows × 257 columns</p>\n",
       "</div>"
      ],
      "text/plain": [
       "          0         1         2         3         4         5         6  \\\n",
       "0  0.891346  0.981726 -0.243343  0.200131 -0.288226 -0.396876  0.159949   \n",
       "1  1.074119  0.718079 -0.121665  0.249437 -0.296867 -0.274530  0.363756   \n",
       "2  0.896156  0.854646  0.099905 -0.198713 -0.347461 -0.158461  0.164301   \n",
       "3  0.944552  0.949661  0.050669 -0.138956 -0.336179 -0.413363  0.137519   \n",
       "4  1.017126  0.922727 -0.071678 -0.164314 -0.403124 -0.228035 -0.015612   \n",
       "\n",
       "          7         8         9  ...       247       248       249       250  \\\n",
       "0  0.344412  0.545034 -0.529693  ... -0.438629 -0.237874  0.219872 -0.225743   \n",
       "1  0.388845  0.469159 -0.545638  ... -0.281852 -0.546553  0.287645 -0.554801   \n",
       "2  0.261809  0.371017 -0.184747  ... -0.237165 -0.385483 -0.353948 -0.321777   \n",
       "3  0.332753  0.309960 -0.457349  ... -0.312368 -0.292819  0.051508 -0.354951   \n",
       "4  0.359387  0.430484 -0.130762  ... -0.447885 -0.255060  0.010728 -0.274360   \n",
       "\n",
       "        251       252       253       254       255  sentiment  \n",
       "0  0.588679 -0.251512  0.229648  0.295378  0.045342        1.0  \n",
       "1  0.506518 -0.502521  0.122082  0.312615 -0.026070        1.0  \n",
       "2  0.240935 -0.164179  0.073031  0.034520 -0.011251        0.0  \n",
       "3  0.432797 -0.259300  0.183018  0.141218  0.002216        0.0  \n",
       "4  0.276793 -0.130286  0.076927  0.067745  0.067427        1.0  \n",
       "\n",
       "[5 rows x 257 columns]"
      ]
     },
     "execution_count": 23,
     "metadata": {},
     "output_type": "execute_result"
    }
   ],
   "source": [
    "model_df = pd.DataFrame(model_array)\n",
    "model_df[\"sentiment\"] = df[\"sentiment\"]\n",
    "\n",
    "model_df.head()"
   ]
  },
  {
   "cell_type": "code",
   "execution_count": 24,
   "metadata": {
    "papermill": {
     "duration": 0.071981,
     "end_time": "2021-11-01T08:53:31.908229",
     "exception": false,
     "start_time": "2021-11-01T08:53:31.836248",
     "status": "completed"
    },
    "tags": []
   },
   "outputs": [
    {
     "data": {
      "text/plain": [
       "0                0\n",
       "1                0\n",
       "2                0\n",
       "3                0\n",
       "4                0\n",
       "             ...  \n",
       "252              0\n",
       "253              0\n",
       "254              0\n",
       "255              0\n",
       "sentiment    25000\n",
       "Length: 257, dtype: int64"
      ]
     },
     "execution_count": 24,
     "metadata": {},
     "output_type": "execute_result"
    }
   ],
   "source": [
    "model_df.shape\n",
    "model_df.isnull().sum()"
   ]
  },
  {
   "cell_type": "code",
   "execution_count": 25,
   "metadata": {
    "papermill": {
     "duration": 0.038194,
     "end_time": "2021-11-01T08:53:31.975762",
     "exception": false,
     "start_time": "2021-11-01T08:53:31.937568",
     "status": "completed"
    },
    "tags": []
   },
   "outputs": [],
   "source": [
    "# 手动train_test_split\n",
    "df_train=model_df[:25000]\n",
    "df_test=model_df[25000:]\n",
    "y=df_train[\"sentiment\"]"
   ]
  },
  {
   "cell_type": "code",
   "execution_count": 26,
   "metadata": {
    "papermill": {
     "duration": 0.038194,
     "end_time": "2021-11-01T08:53:31.975762",
     "exception": false,
     "start_time": "2021-11-01T08:53:31.937568",
     "status": "completed"
    },
    "tags": []
   },
   "outputs": [],
   "source": [
    "del df_train[\"sentiment\"]\n",
    "text=df_train"
   ]
  },
  {
   "cell_type": "code",
   "execution_count": 27,
   "metadata": {
    "papermill": {
     "duration": 0.044162,
     "end_time": "2021-11-01T08:53:32.120886",
     "exception": false,
     "start_time": "2021-11-01T08:53:32.076724",
     "status": "completed"
    },
    "tags": []
   },
   "outputs": [],
   "source": [
    "# del df_test[\"sentiment\"]\n",
    "# test=df_test"
   ]
  },
  {
   "cell_type": "code",
   "execution_count": 28,
   "metadata": {
    "papermill": {
     "duration": 0.039984,
     "end_time": "2021-11-01T08:53:32.190959",
     "exception": false,
     "start_time": "2021-11-01T08:53:32.150975",
     "status": "completed"
    },
    "tags": []
   },
   "outputs": [
    {
     "data": {
      "text/plain": [
       "((25000, 256), (25000,), (25000, 256))"
      ]
     },
     "execution_count": 28,
     "metadata": {},
     "output_type": "execute_result"
    }
   ],
   "source": [
    "text.shape, y.shape, test.shape"
   ]
  },
  {
   "cell_type": "code",
   "execution_count": 29,
   "metadata": {
    "papermill": {
     "duration": 0.039984,
     "end_time": "2021-11-01T08:53:32.190959",
     "exception": false,
     "start_time": "2021-11-01T08:53:32.150975",
     "status": "completed"
    },
    "tags": []
   },
   "outputs": [
    {
     "data": {
      "text/plain": [
       "array([0., 0., 0., ..., 1., 1., 0.])"
      ]
     },
     "execution_count": 29,
     "metadata": {},
     "output_type": "execute_result"
    }
   ],
   "source": [
    "X_train, X_test, y_train, y_test = train_test_split(text, y, test_size=0.2,random_state=42)\n",
    "y_train.values"
   ]
  },
  {
   "cell_type": "markdown",
   "metadata": {
    "papermill": {
     "duration": 0.029577,
     "end_time": "2021-11-01T08:53:32.250034",
     "exception": false,
     "start_time": "2021-11-01T08:53:32.220457",
     "status": "completed"
    },
    "tags": []
   },
   "source": [
    "# 模型预测"
   ]
  },
  {
   "cell_type": "code",
   "execution_count": 30,
   "metadata": {
    "papermill": {
     "duration": 156.340314,
     "end_time": "2021-11-01T08:56:08.620035",
     "exception": false,
     "start_time": "2021-11-01T08:53:32.279721",
     "status": "completed"
    },
    "tags": []
   },
   "outputs": [
    {
     "name": "stdout",
     "output_type": "stream",
     "text": [
      "Wall time: 22.5 s\n"
     ]
    },
    {
     "data": {
      "text/plain": [
       "array([0, 1, 0, ..., 0, 0, 0])"
      ]
     },
     "execution_count": 30,
     "metadata": {},
     "output_type": "execute_result"
    }
   ],
   "source": [
    "%%time\n",
    "r.fit(X_train,y_train.values) # 随机森林\n",
    "pred=r.predict(X_test)\n",
    "pred = pred.astype(int)\n",
    "pred"
   ]
  },
  {
   "cell_type": "code",
   "execution_count": 31,
   "metadata": {
    "papermill": {
     "duration": 0.096187,
     "end_time": "2021-11-01T08:56:08.745419",
     "exception": false,
     "start_time": "2021-11-01T08:56:08.649232",
     "status": "completed"
    },
    "tags": []
   },
   "outputs": [
    {
     "name": "stdout",
     "output_type": "stream",
     "text": [
      "classification_report\n",
      "              precision    recall  f1-score   support\n",
      "\n",
      "           0       0.81      0.84      0.82      2395\n",
      "           1       0.84      0.82      0.83      2605\n",
      "\n",
      "    accuracy                           0.83      5000\n",
      "   macro avg       0.83      0.83      0.83      5000\n",
      "weighted avg       0.83      0.83      0.83      5000\n",
      "\n"
     ]
    }
   ],
   "source": [
    "print(\"classification_report\")\n",
    "print(classification_report(pred,y_test.values))"
   ]
  },
  {
   "cell_type": "code",
   "execution_count": 32,
   "metadata": {
    "tags": []
   },
   "outputs": [
    {
     "name": "stdout",
     "output_type": "stream",
     "text": [
      "Fitting 5 folds for each of 1 candidates, totalling 5 fits\n",
      "最优参数： {'n_estimators': 10}\n",
      "最佳模型得分： 0.8468700163965494\n"
     ]
    }
   ],
   "source": [
    "from sklearn.model_selection import GridSearchCV\n",
    "other_params = {'n_estimators': 10, \n",
    "                'bootstrap': True, \n",
    "                }\n",
    "\n",
    "param_test1 = {\n",
    " 'n_estimators':list(range(10,20, 30)),\n",
    "}\n",
    "\n",
    "r1 = RandomForestClassifier(**other_params)\n",
    "gs1 = GridSearchCV(r1,param_test1,cv = 5,scoring = 'roc_auc',n_jobs = -1,verbose=2)\n",
    "best_model1=gs1.fit(X_train, y_train.values.reshape(-1))\n",
    "print('最优参数：',best_model1.best_params_)\n",
    "print('最佳模型得分：',best_model1.best_score_)"
   ]
  },
  {
   "cell_type": "code",
   "execution_count": 33,
   "metadata": {
    "tags": []
   },
   "outputs": [
    {
     "name": "stdout",
     "output_type": "stream",
     "text": [
      "classification_report\n",
      "              precision    recall  f1-score   support\n",
      "\n",
      "           0       0.81      0.84      0.82      2389\n",
      "           1       0.85      0.82      0.83      2611\n",
      "\n",
      "    accuracy                           0.83      5000\n",
      "   macro avg       0.83      0.83      0.83      5000\n",
      "weighted avg       0.83      0.83      0.83      5000\n",
      "\n"
     ]
    }
   ],
   "source": [
    "clr = RandomForestClassifier(n_estimators = 10)\n",
    "r.fit(X_train,y_train.values) # 随机森林\n",
    "pred=r.predict(X_test)\n",
    "pred = pred.astype(int)\n",
    "print(\"classification_report\")\n",
    "print(classification_report(pred,y_test.values))"
   ]
  },
  {
   "cell_type": "code",
   "execution_count": 35,
   "metadata": {
    "papermill": {
     "duration": 0.096187,
     "end_time": "2021-11-01T08:56:08.745419",
     "exception": false,
     "start_time": "2021-11-01T08:56:08.649232",
     "status": "completed"
    },
    "tags": []
   },
   "outputs": [],
   "source": [
    "# sub.to_csv(\"submission_v1.csv\", index = False)"
   ]
  },
  {
   "cell_type": "code",
   "execution_count": 36,
   "metadata": {
    "papermill": {
     "duration": 0.028829,
     "end_time": "2021-11-01T08:56:08.803491",
     "exception": false,
     "start_time": "2021-11-01T08:56:08.774662",
     "status": "completed"
    },
    "tags": []
   },
   "outputs": [
    {
     "name": "stdout",
     "output_type": "stream",
     "text": [
      "classification_report\n",
      "              precision    recall  f1-score   support\n",
      "\n",
      "           0       0.87      0.89      0.88      2442\n",
      "           1       0.89      0.88      0.88      2558\n",
      "\n",
      "    accuracy                           0.88      5000\n",
      "   macro avg       0.88      0.88      0.88      5000\n",
      "weighted avg       0.88      0.88      0.88      5000\n",
      "\n",
      "Wall time: 3.37 s\n"
     ]
    }
   ],
   "source": [
    "%%time\n",
    "LR = LogisticRegression(penalty = 'l2',\n",
    "                       random_state = 42,\n",
    "                       solver = 'sag',\n",
    "                       max_iter = 100,\n",
    "                       verbose = 0 )\n",
    "LR.fit(X_train,y_train.values) # 逻辑斯蒂分类\n",
    "pred=LR.predict(X_test)\n",
    "pred = pred.astype(int)\n",
    "print(\"classification_report\")\n",
    "print(classification_report(pred,y_test.values))"
   ]
  },
  {
   "cell_type": "code",
   "execution_count": 38,
   "metadata": {
    "tags": []
   },
   "outputs": [
    {
     "name": "stdout",
     "output_type": "stream",
     "text": [
      "Fitting 5 folds for each of 1 candidates, totalling 5 fits\n",
      "最优参数： {'max_iter': 100}\n",
      "最佳模型得分： 0.9454676537652643\n"
     ]
    }
   ],
   "source": [
    "other_params = {'penalty': 'l2',\n",
    "               'random_state': 42,\n",
    "               'solver': 'sag',\n",
    "               'max_iter': 100,\n",
    "               'verbose': 0 \n",
    "                }\n",
    "\n",
    "param_test1 = {\n",
    " 'max_iter':list(range(100, 300, 500)),\n",
    "}\n",
    "\n",
    "lr1 = LogisticRegression(**other_params)\n",
    "gs1 = GridSearchCV(lr1,param_test1,cv = 5,scoring = 'roc_auc',n_jobs = -1,verbose=2)\n",
    "best_model1=gs1.fit(X_train, y_train.values.reshape(-1))\n",
    "print('最优参数：',best_model1.best_params_)\n",
    "print('最佳模型得分：',best_model1.best_score_)"
   ]
  },
  {
   "cell_type": "code",
   "execution_count": 41,
   "metadata": {
    "tags": []
   },
   "outputs": [],
   "source": [
    "sub=pd.DataFrame()\n",
    "sub[\"id\"]=test[\"id\"]\n",
    "\n",
    "pred=LR.predict(df_test)\n",
    "pred = pred.astype(int)\n",
    "\n",
    "sub['sentiment'] = pd.DataFrame(pred)\n",
    "# sub.to_csv(\"submission_v2.csv\", index = False)"
   ]
  },
  {
   "cell_type": "code",
   "execution_count": 42,
   "metadata": {
    "tags": []
   },
   "outputs": [
    {
     "name": "stdout",
     "output_type": "stream",
     "text": [
      "Fitting 5 folds for each of 1 candidates, totalling 5 fits\n",
      "[20:02:01] WARNING: C:/Users/Administrator/workspace/xgboost-win64_release_1.4.0/src/learner.cc:1095: Starting in XGBoost 1.3.0, the default evaluation metric used with the objective 'binary:logistic' was changed from 'error' to 'logloss'. Explicitly set eval_metric if you'd like to restore the old behavior.\n",
      "最优参数： {'max_depth': 2, 'min_child_weight': 2}\n",
      "最佳模型得分： 0.9060710836935246\n"
     ]
    }
   ],
   "source": [
    "# xgb = XGBClassifier()\n",
    "other_params = {'learning_rate': 0.1, 'n_estimators': 100, 'max_depth': 5, 'min_child_weight': 1, 'seed': 0,\n",
    "                    'subsample': 0.8, 'colsample_bytree': 0.8, 'gamma': 0, 'reg_alpha': 0, 'reg_lambda': 1}\n",
    "\n",
    "param_test1 = {\n",
    " 'max_depth':list(range(2,6,9)),\n",
    " 'min_child_weight':list(range(2,4,6))\n",
    "}\n",
    "\n",
    "xgb = XGBClassifier(**other_params)\n",
    "gs1 = GridSearchCV(xgb,param_test1,cv = 5,scoring = 'roc_auc',n_jobs = -1,verbose=2)\n",
    "best_model1=gs1.fit(X_train, y_train.values.reshape(-1))\n",
    "print('最优参数：',best_model1.best_params_)\n",
    "print('最佳模型得分：',best_model1.best_score_)"
   ]
  },
  {
   "cell_type": "code",
   "execution_count": 43,
   "metadata": {
    "tags": []
   },
   "outputs": [
    {
     "name": "stdout",
     "output_type": "stream",
     "text": [
      "[20:02:11] WARNING: C:/Users/Administrator/workspace/xgboost-win64_release_1.4.0/src/learner.cc:1095: Starting in XGBoost 1.3.0, the default evaluation metric used with the objective 'binary:logistic' was changed from 'error' to 'logloss'. Explicitly set eval_metric if you'd like to restore the old behavior.\n",
      "classification_report\n",
      "              precision    recall  f1-score   support\n",
      "\n",
      "           0       0.85      0.87      0.86      2418\n",
      "           1       0.88      0.86      0.87      2582\n",
      "\n",
      "    accuracy                           0.87      5000\n",
      "   macro avg       0.87      0.87      0.87      5000\n",
      "weighted avg       0.87      0.87      0.87      5000\n",
      "\n"
     ]
    }
   ],
   "source": [
    "other_params = {'learning_rate': 0.1, 'n_estimators': 500, 'max_depth': 2, 'min_child_weight': 2, 'seed': 0,\n",
    "                    'subsample': 0.6, 'colsample_bytree': 0.8, 'gamma': 0, 'reg_alpha': 0, 'reg_lambda': 1}\n",
    "xgb = XGBClassifier(**other_params)\n",
    "xgb.fit(X_train,y_train.values) # 随机森林\n",
    "pred = xgb.predict(X_test)\n",
    "pred = pred.astype(int)\n",
    "print(\"classification_report\")\n",
    "print(classification_report(pred,y_test.values))"
   ]
  },
  {
   "cell_type": "code",
   "execution_count": 44,
   "metadata": {
    "tags": []
   },
   "outputs": [],
   "source": [
    "sub=pd.DataFrame()\n",
    "sub[\"id\"]=test[\"id\"]\n",
    "\n",
    "pred=xgb.predict(df_test)\n",
    "pred = pred.astype(int)\n",
    "\n",
    "sub['sentiment'] = pd.DataFrame(pred)\n",
    "# sub.to_csv(\"submission_v3.csv\", index = False)"
   ]
  },
  {
   "cell_type": "markdown",
   "metadata": {},
   "source": [
    "* Random Forest Score: 0.82248\n",
    "* Logistic Score: 0.87944\n",
    "* XGBoost Score: 0.86352"
   ]
  },
  {
   "cell_type": "code",
   "execution_count": null,
   "metadata": {},
   "outputs": [],
   "source": []
  }
 ],
 "metadata": {
  "kernelspec": {
   "display_name": "Python 3 (ipykernel)",
   "language": "python",
   "name": "python3"
  },
  "language_info": {
   "codemirror_mode": {
    "name": "ipython",
    "version": 3
   },
   "file_extension": ".py",
   "mimetype": "text/x-python",
   "name": "python",
   "nbconvert_exporter": "python",
   "pygments_lexer": "ipython3",
   "version": "3.9.7"
  }
 },
 "nbformat": 4,
 "nbformat_minor": 4
}
