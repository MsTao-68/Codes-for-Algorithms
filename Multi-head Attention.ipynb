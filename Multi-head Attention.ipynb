{
 "cells": [
  {
   "cell_type": "code",
   "execution_count": 3,
   "id": "f7b7d3a9-4b57-4967-ae02-342c2040db09",
   "metadata": {},
   "outputs": [],
   "source": [
    "# !usr/bin/python\n",
    "# -*- encoding: utf-8 -*-\n",
    "# Project: Multi-Head Attention\n",
    "# Author: Tracy Tao\n",
    "# Date: 2022/04/19\n",
    "import torch\n",
    "import math\n",
    "from torch import nn\n",
    "from d2l import torch as d2l"
   ]
  },
  {
   "attachments": {
    "d36e596b-28e9-42c2-982d-89be4bb50735.png": {
     "image/png": "[encoded data removed]"
    }
   },
   "cell_type": "markdown",
   "id": "f6e19a0e-55c0-4112-a7e7-e65439a4bd7c",
   "metadata": {},
   "source": [
    "- 多头注意力机制组合使用QKV\n",
    "    - 独立学习h组线性投影变换QKV，并行送到注意力汇聚成一个head\n",
    "    ![image.png](attachment:d36e596b-28e9-42c2-982d-89be4bb50735.png)"
   ]
  },
  {
   "cell_type": "code",
   "execution_count": 7,
   "id": "a163a895-5784-4dd5-8d81-e3d8bbd625ac",
   "metadata": {},
   "outputs": [],
   "source": [
    "class MultiHeadAttention(nn.Module):\n",
    "    ''' 缩放点积注意力 '''\n",
    "    def __init__(self, key_size, query_size, value_size, \n",
    "                 num_hiddens, num_heads, dropout, bias = False, **kwargs):\n",
    "        super(MultiHeadAttention, self).__init__(**kwargs)\n",
    "        self.num_heads = num_heads\n",
    "        self.attention = d2l.DotProductAttention(dropout)\n",
    "        #### 全连接 ####\n",
    "        self.W_q = nn.Linear(query_size, num_hiddens, bias = bias)\n",
    "        self.W_k = nn.Linear(key_size, num_hiddens, bias = bias)\n",
    "        self.W_v = nn.Linear(value_size, num_hiddens, bias=bias)\n",
    "        self.W_o = nn.Linear(num_hiddens, num_hiddens, bias=bias)\n",
    "    \n",
    "    def forward(self, queries, keys, values, valid_lens):\n",
    "        '''\n",
    "        QKV + d\n",
    "        Q: (batch_size, q_size, num_hiddens)\n",
    "        K: (batch_size, k_size, num_hiddens)\n",
    "        V: (batch_size, v_size, num_hiddens)\n",
    "        valid_lens: (batch_size，)/(batch_size，q_size)\n",
    "        -> (batch_size * num_heads, size, num_hiddens / num_heads)\n",
    "        '''\n",
    "        queries = transpose_qkv(self.W_q(queries), self.num_heads)\n",
    "        keys = transpose_qkv(self.W_k(keys), self.num_heads)\n",
    "        values = transpose_qkv(self.W_v(values), self.num_heads)\n",
    "        \n",
    "        if valid_lens is not None:\n",
    "            valid_lens = torch.repeat_interleave(valid_lens, repeats = self.num_heads, dim = 0)\n",
    "        \n",
    "        output = self.attention(queries, keys, values, valid_lens)\n",
    "        output_concat = transpose_output(output, self.num_heads)\n",
    "        return self.W_o(output_concat)\n",
    "        \n",
    "def transpose_qkv(X, num_heads):\n",
    "    \"\"\"为了多注意力头的并行计算而变换形状\"\"\"\n",
    "    # 输入X的形状:(batch_size，查询或者“键－值”对的个数，num_hiddens)\n",
    "    # 输出X的形状:(batch_size，查询或者“键－值”对的个数，num_heads，num_hiddens/num_heads)\n",
    "    X = X.reshape(X.shape[0], X.shape[1], num_heads, -1)\n",
    "    X = X.permute(0, 2, 1, 3)\n",
    "    # 最终输出的形状:(batch_size*num_heads,查询或者“键－值”对的个数,num_hiddens/num_heads)\n",
    "    return X.reshape(-1, X.shape[2], X.shape[3])   \n",
    "\n",
    "def transpose_output(X, num_heads):\n",
    "    \"\"\"逆转transpose_qkv函数的操作\"\"\"\n",
    "    X = X.reshape(-1, num_heads, X.shape[1], X.shape[2])\n",
    "    X = X.permute(0, 2, 1, 3)\n",
    "    return X.reshape(X.shape[0], X.shape[1], -1)"
   ]
  },
  {
   "cell_type": "markdown",
   "id": "e2a49f23-c76d-41eb-bf60-b37f920c03fb",
   "metadata": {},
   "source": [
    "**多头注意力输出的形状是（batch_size，num_queries，num_hiddens）**"
   ]
  },
  {
   "cell_type": "code",
   "execution_count": 8,
   "id": "ba5a1c8a-dc32-4cfa-8f6d-9ddbee2ab746",
   "metadata": {},
   "outputs": [
    {
     "data": {
      "text/plain": [
       "MultiHeadAttention(\n",
       "  (attention): DotProductAttention(\n",
       "    (dropout): Dropout(p=0.5, inplace=False)\n",
       "  )\n",
       "  (W_q): Linear(in_features=100, out_features=100, bias=False)\n",
       "  (W_k): Linear(in_features=100, out_features=100, bias=False)\n",
       "  (W_v): Linear(in_features=100, out_features=100, bias=False)\n",
       "  (W_o): Linear(in_features=100, out_features=100, bias=False)\n",
       ")"
      ]
     },
     "execution_count": 8,
     "metadata": {},
     "output_type": "execute_result"
    }
   ],
   "source": [
    "num_hiddens, num_heads = 100, 5\n",
    "attention = MultiHeadAttention(num_hiddens, num_hiddens, num_hiddens,\n",
    "                               num_hiddens, num_heads, 0.5)\n",
    "attention.eval()"
   ]
  },
  {
   "cell_type": "code",
   "execution_count": null,
   "id": "2c945617-3970-4850-8272-868311087a6c",
   "metadata": {},
   "outputs": [],
   "source": []
  }
 ],
 "metadata": {
  "kernelspec": {
   "display_name": "Python 3 (ipykernel)",
   "language": "python",
   "name": "python3"
  },
  "language_info": {
   "codemirror_mode": {
    "name": "ipython",
    "version": 3
   },
   "file_extension": ".py",
   "mimetype": "text/x-python",
   "name": "python",
   "nbconvert_exporter": "python",
   "pygments_lexer": "ipython3",
   "version": "3.9.7"
  }
 },
 "nbformat": 4,
 "nbformat_minor": 5
}
